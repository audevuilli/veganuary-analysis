{
 "cells": [
  {
   "cell_type": "markdown",
   "metadata": {},
   "source": [
    "# Analysis of Sentiment "
   ]
  },
  {
   "cell_type": "markdown",
   "metadata": {},
   "source": [
    "## Data Cleaning"
   ]
  },
  {
   "cell_type": "code",
   "execution_count": 1,
   "metadata": {},
   "outputs": [],
   "source": [
    "import json\n",
    "import pandas as pd\n",
    "import numpy as np\n",
    "\n",
    "import matplotlib.pyplot as plt\n",
    "%matplotlib inline\n",
    "\n",
    "import seaborn as sb\n",
    "import os\n",
    "\n",
    "\n",
    "pd.set_option('display.max_rows', 300) # specifies number of rows to show\n",
    "# specifies default number format to 4 decimal places\n",
    "pd.options.display.float_format = '{:40,.2f}'.format \n",
    "pd.options.display.max_colwidth \n",
    "pd.options.display.max_colwidth = 1500"
   ]
  },
  {
   "cell_type": "code",
   "execution_count": 176,
   "metadata": {},
   "outputs": [],
   "source": [
    "# For Cleaning Tweets and Sentiment Analysis\n",
    "import string\n",
    "import nltk\n",
    "\n",
    "from nltk.tokenize import RegexpTokenizer\n",
    "from nltk.corpus import stopwords\n",
    "from nltk.tokenize import word_tokenize"
   ]
  },
  {
   "cell_type": "code",
   "execution_count": 3,
   "metadata": {},
   "outputs": [
    {
     "name": "stderr",
     "output_type": "stream",
     "text": [
      "[nltk_data] Downloading package stopwords to\n",
      "[nltk_data]     /Users/audevuilliomenet/nltk_data...\n",
      "[nltk_data]   Package stopwords is already up-to-date!\n",
      "[nltk_data] Downloading package punkt to\n",
      "[nltk_data]     /Users/audevuilliomenet/nltk_data...\n",
      "[nltk_data]   Package punkt is already up-to-date!\n"
     ]
    }
   ],
   "source": [
    "#import nltk and download all stopwords and punctuations\n",
    "nltk.download('stopwords')\n",
    "nltk.download('punkt')\n",
    "\n",
    "import re"
   ]
  },
  {
   "cell_type": "code",
   "execution_count": 334,
   "metadata": {},
   "outputs": [
    {
     "data": {
      "text/html": [
       "<script type=\"text/javascript\">window.PlotlyConfig = {MathJaxConfig: 'local'};</script><script type=\"text/javascript\">if (window.MathJax) {MathJax.Hub.Config({SVG: {font: \"STIX-Web\"}});}</script><script>requirejs.config({paths: { 'plotly': ['https://cdn.plot.ly/plotly-latest.min']},});if(!window._Plotly) {require(['plotly'],function(plotly) {window._Plotly=plotly;});}</script>"
      ],
      "text/vnd.plotly.v1+html": [
       "<script type=\"text/javascript\">window.PlotlyConfig = {MathJaxConfig: 'local'};</script><script type=\"text/javascript\">if (window.MathJax) {MathJax.Hub.Config({SVG: {font: \"STIX-Web\"}});}</script><script>requirejs.config({paths: { 'plotly': ['https://cdn.plot.ly/plotly-latest.min']},});if(!window._Plotly) {require(['plotly'],function(plotly) {window._Plotly=plotly;});}</script>"
      ]
     },
     "metadata": {},
     "output_type": "display_data"
    }
   ],
   "source": [
    "# Need to install plotly before using it! Run the !pip command bellow!\n",
    "# !pip install plotly\n",
    "from plotly import __version__\n",
    "from plotly.offline import download_plotlyjs, init_notebook_mode, plot, iplot\n",
    "\n",
    "import plotly.graph_objs as go\n",
    "from plotly.graph_objs import *\n",
    "import plotly.io as pio\n",
    "\n",
    "#You can also plot your graphs offline inside a Jupyter Notebook Environment. \n",
    "#First you need to initiate the Plotly Notebook mode as below:\n",
    "init_notebook_mode(connected=True)"
   ]
  },
  {
   "cell_type": "code",
   "execution_count": 9,
   "metadata": {},
   "outputs": [
    {
     "data": {
      "text/html": [
       "<div>\n",
       "<style scoped>\n",
       "    .dataframe tbody tr th:only-of-type {\n",
       "        vertical-align: middle;\n",
       "    }\n",
       "\n",
       "    .dataframe tbody tr th {\n",
       "        vertical-align: top;\n",
       "    }\n",
       "\n",
       "    .dataframe thead th {\n",
       "        text-align: right;\n",
       "    }\n",
       "</style>\n",
       "<table border=\"1\" class=\"dataframe\">\n",
       "  <thead>\n",
       "    <tr style=\"text-align: right;\">\n",
       "      <th></th>\n",
       "      <th>Unnamed: 0</th>\n",
       "      <th>Date</th>\n",
       "      <th>UserID</th>\n",
       "      <th>UserScreenName</th>\n",
       "      <th>Text</th>\n",
       "      <th>UserLocation</th>\n",
       "      <th>retweet_count</th>\n",
       "      <th>UserFollowers</th>\n",
       "      <th>UserFriends</th>\n",
       "      <th>UserLanguage</th>\n",
       "      <th>RetweetUserName</th>\n",
       "      <th>Retweet_Create</th>\n",
       "      <th>RetweetUserFollowers</th>\n",
       "      <th>RetweetText</th>\n",
       "      <th>source</th>\n",
       "      <th>Media</th>\n",
       "      <th>Hour</th>\n",
       "      <th>Day</th>\n",
       "      <th>FreqDay</th>\n",
       "      <th>FreqHour</th>\n",
       "    </tr>\n",
       "  </thead>\n",
       "  <tbody>\n",
       "    <tr>\n",
       "      <th>0</th>\n",
       "      <td>0</td>\n",
       "      <td>2019-01-28 23:05:53</td>\n",
       "      <td>1133610576</td>\n",
       "      <td>MarymoBelfast</td>\n",
       "      <td>RT @leedowningkeat: Why im still vegan. Share and watch this to counteract the ex vegan trend\\n\\nhttps://t.co/6ICiJ9n2R4\\n\\n#whyimstillvegan #f…</td>\n",
       "      <td>Ireland</td>\n",
       "      <td>6</td>\n",
       "      <td>12498</td>\n",
       "      <td>12525</td>\n",
       "      <td>en</td>\n",
       "      <td>lee downing keat</td>\n",
       "      <td>2019-01-27 08:55:42</td>\n",
       "      <td>162.00</td>\n",
       "      <td>Why im still vegan. Share and watch this to counteract the ex vegan trend\\n\\nhttps://t.co/6ICiJ9n2R4… https://t.co/8FYJzmB4cd</td>\n",
       "      <td>&lt;a href=\"http://twitter.com\" rel=\"nofollow\"&gt;Twitter Web Client&lt;/a&gt;</td>\n",
       "      <td>NaN</td>\n",
       "      <td>23</td>\n",
       "      <td>28</td>\n",
       "      <td>2534</td>\n",
       "      <td>658</td>\n",
       "    </tr>\n",
       "    <tr>\n",
       "      <th>1</th>\n",
       "      <td>1</td>\n",
       "      <td>2019-01-28 23:03:51</td>\n",
       "      <td>1088500218964828160</td>\n",
       "      <td>Lilly84914614</td>\n",
       "      <td>RT @XVX_Food: Lunch today was the @marksandspencer sweet potato biryani wrap and some of their salted tortilla chips, it was absolutely del…</td>\n",
       "      <td>NaN</td>\n",
       "      <td>0</td>\n",
       "      <td>3</td>\n",
       "      <td>17</td>\n",
       "      <td>en</td>\n",
       "      <td>Vegan Food Only Ⓥ</td>\n",
       "      <td>2019-01-28 12:23:51</td>\n",
       "      <td>13.00</td>\n",
       "      <td>Lunch today was the @marksandspencer sweet potato biryani wrap and some of their salted tortilla chips, it was abso… https://t.co/nRbjMQ93io</td>\n",
       "      <td>&lt;a href=\"http://twitter.com/download/iphone\" rel=\"nofollow\"&gt;Twitter for iPhone&lt;/a&gt;</td>\n",
       "      <td>NaN</td>\n",
       "      <td>23</td>\n",
       "      <td>28</td>\n",
       "      <td>2534</td>\n",
       "      <td>658</td>\n",
       "    </tr>\n",
       "  </tbody>\n",
       "</table>\n",
       "</div>"
      ],
      "text/plain": [
       "   Unnamed: 0                 Date               UserID UserScreenName  \\\n",
       "0           0  2019-01-28 23:05:53           1133610576  MarymoBelfast   \n",
       "1           1  2019-01-28 23:03:51  1088500218964828160  Lilly84914614   \n",
       "\n",
       "                                                                                                                                               Text  \\\n",
       "0  RT @leedowningkeat: Why im still vegan. Share and watch this to counteract the ex vegan trend\\n\\nhttps://t.co/6ICiJ9n2R4\\n\\n#whyimstillvegan #f…   \n",
       "1      RT @XVX_Food: Lunch today was the @marksandspencer sweet potato biryani wrap and some of their salted tortilla chips, it was absolutely del…   \n",
       "\n",
       "  UserLocation  retweet_count  UserFollowers  UserFriends UserLanguage  \\\n",
       "0      Ireland              6          12498        12525           en   \n",
       "1          NaN              0              3           17           en   \n",
       "\n",
       "     RetweetUserName       Retweet_Create  \\\n",
       "0   lee downing keat  2019-01-27 08:55:42   \n",
       "1  Vegan Food Only Ⓥ  2019-01-28 12:23:51   \n",
       "\n",
       "                      RetweetUserFollowers  \\\n",
       "0                                   162.00   \n",
       "1                                    13.00   \n",
       "\n",
       "                                                                                                                                    RetweetText  \\\n",
       "0                 Why im still vegan. Share and watch this to counteract the ex vegan trend\\n\\nhttps://t.co/6ICiJ9n2R4… https://t.co/8FYJzmB4cd   \n",
       "1  Lunch today was the @marksandspencer sweet potato biryani wrap and some of their salted tortilla chips, it was abso… https://t.co/nRbjMQ93io   \n",
       "\n",
       "                                                                               source  \\\n",
       "0                  <a href=\"http://twitter.com\" rel=\"nofollow\">Twitter Web Client</a>   \n",
       "1  <a href=\"http://twitter.com/download/iphone\" rel=\"nofollow\">Twitter for iPhone</a>   \n",
       "\n",
       "  Media  Hour  Day  FreqDay  FreqHour  \n",
       "0   NaN    23   28     2534       658  \n",
       "1   NaN    23   28     2534       658  "
      ]
     },
     "execution_count": 9,
     "metadata": {},
     "output_type": "execute_result"
    }
   ],
   "source": [
    "#df.to_csv(\"Tweeter_Data.csv\")\n",
    "twittertext = pd.read_csv(\"Tweeter_Data.csv\")\n",
    "twittertext.head(2)"
   ]
  },
  {
   "cell_type": "code",
   "execution_count": 10,
   "metadata": {},
   "outputs": [],
   "source": [
    "twittertext = twittertext.drop(['Unnamed: 0'], axis=1)"
   ]
  },
  {
   "cell_type": "code",
   "execution_count": 22,
   "metadata": {
    "scrolled": true
   },
   "outputs": [
    {
     "data": {
      "text/html": [
       "<div>\n",
       "<style scoped>\n",
       "    .dataframe tbody tr th:only-of-type {\n",
       "        vertical-align: middle;\n",
       "    }\n",
       "\n",
       "    .dataframe tbody tr th {\n",
       "        vertical-align: top;\n",
       "    }\n",
       "\n",
       "    .dataframe thead th {\n",
       "        text-align: right;\n",
       "    }\n",
       "</style>\n",
       "<table border=\"1\" class=\"dataframe\">\n",
       "  <thead>\n",
       "    <tr style=\"text-align: right;\">\n",
       "      <th></th>\n",
       "      <th>Date</th>\n",
       "      <th>UserID</th>\n",
       "      <th>UserScreenName</th>\n",
       "      <th>Text</th>\n",
       "      <th>UserLocation</th>\n",
       "      <th>retweet_count</th>\n",
       "      <th>UserFollowers</th>\n",
       "      <th>UserFriends</th>\n",
       "      <th>UserLanguage</th>\n",
       "      <th>RetweetUserName</th>\n",
       "      <th>...</th>\n",
       "      <th>Day</th>\n",
       "      <th>FreqDay</th>\n",
       "      <th>FreqHour</th>\n",
       "      <th>hashtags</th>\n",
       "      <th>twitter_handles</th>\n",
       "      <th>cleanText</th>\n",
       "      <th>tokenText</th>\n",
       "      <th>noStopWords</th>\n",
       "      <th>tokenTextnoStop</th>\n",
       "      <th>tokenCount</th>\n",
       "    </tr>\n",
       "  </thead>\n",
       "  <tbody>\n",
       "    <tr>\n",
       "      <th>0</th>\n",
       "      <td>2019-01-28 23:05:53</td>\n",
       "      <td>1133610576</td>\n",
       "      <td>MarymoBelfast</td>\n",
       "      <td>rt @leedowningkeat: why im still vegan. share and watch this to counteract the ex vegan trend#whyimstillvegan #f</td>\n",
       "      <td>Ireland</td>\n",
       "      <td>6</td>\n",
       "      <td>12498</td>\n",
       "      <td>12525</td>\n",
       "      <td>en</td>\n",
       "      <td>lee downing keat</td>\n",
       "      <td>...</td>\n",
       "      <td>28</td>\n",
       "      <td>2534</td>\n",
       "      <td>658</td>\n",
       "      <td>[#whyimstillvegan, #f]</td>\n",
       "      <td>[@leedowningkeat]</td>\n",
       "      <td>rt leedowningkeat why im still vegan share and watch this to counteract the ex vegan trendwhyimstillvegan f</td>\n",
       "      <td>[rt, leedowningkeat, why, im, still, vegan, share, and, watch, this, to, counteract, the, ex, vegan, trendwhyimstillvegan, f]</td>\n",
       "      <td>rt leedowningkeat im still vegan share watch counteract ex vegan trendwhyimstillvegan f</td>\n",
       "      <td>[rt, leedowningkeat, im, still, vegan, share, watch, counteract, ex, vegan, trendwhyimstillvegan, f]</td>\n",
       "      <td>17</td>\n",
       "    </tr>\n",
       "    <tr>\n",
       "      <th>1</th>\n",
       "      <td>2019-01-28 23:03:51</td>\n",
       "      <td>1088500218964828160</td>\n",
       "      <td>Lilly84914614</td>\n",
       "      <td>rt @xvx_food: lunch today was the @marksandspencer sweet potato biryani wrap and some of their salted tortilla chips, it was absolutely del</td>\n",
       "      <td>NaN</td>\n",
       "      <td>0</td>\n",
       "      <td>3</td>\n",
       "      <td>17</td>\n",
       "      <td>en</td>\n",
       "      <td>Vegan Food Only Ⓥ</td>\n",
       "      <td>...</td>\n",
       "      <td>28</td>\n",
       "      <td>2534</td>\n",
       "      <td>658</td>\n",
       "      <td>[]</td>\n",
       "      <td>[@xvx_food, @marksandspencer]</td>\n",
       "      <td>rt xvxfood lunch today was the marksandspencer sweet potato biryani wrap and some of their salted tortilla chips it was absolutely del</td>\n",
       "      <td>[rt, xvxfood, lunch, today, was, the, marksandspencer, sweet, potato, biryani, wrap, and, some, of, their, salted, tortilla, chips, it, was, absolutely, del]</td>\n",
       "      <td>rt xvxfood lunch today marksandspencer sweet potato biryani wrap salted tortilla chips absolutely del</td>\n",
       "      <td>[rt, xvxfood, lunch, today, marksandspencer, sweet, potato, biryani, wrap, salted, tortilla, chips, absolutely, del]</td>\n",
       "      <td>22</td>\n",
       "    </tr>\n",
       "  </tbody>\n",
       "</table>\n",
       "<p>2 rows × 26 columns</p>\n",
       "</div>"
      ],
      "text/plain": [
       "                  Date               UserID UserScreenName  \\\n",
       "0  2019-01-28 23:05:53           1133610576  MarymoBelfast   \n",
       "1  2019-01-28 23:03:51  1088500218964828160  Lilly84914614   \n",
       "\n",
       "                                                                                                                                          Text  \\\n",
       "0                             rt @leedowningkeat: why im still vegan. share and watch this to counteract the ex vegan trend#whyimstillvegan #f   \n",
       "1  rt @xvx_food: lunch today was the @marksandspencer sweet potato biryani wrap and some of their salted tortilla chips, it was absolutely del   \n",
       "\n",
       "  UserLocation  retweet_count  UserFollowers  UserFriends UserLanguage  \\\n",
       "0      Ireland              6          12498        12525           en   \n",
       "1          NaN              0              3           17           en   \n",
       "\n",
       "     RetweetUserName  ... Day  FreqDay FreqHour                hashtags  \\\n",
       "0   lee downing keat  ...  28     2534      658  [#whyimstillvegan, #f]   \n",
       "1  Vegan Food Only Ⓥ  ...  28     2534      658                      []   \n",
       "\n",
       "                 twitter_handles  \\\n",
       "0              [@leedowningkeat]   \n",
       "1  [@xvx_food, @marksandspencer]   \n",
       "\n",
       "                                                                                                                                cleanText  \\\n",
       "0                             rt leedowningkeat why im still vegan share and watch this to counteract the ex vegan trendwhyimstillvegan f   \n",
       "1  rt xvxfood lunch today was the marksandspencer sweet potato biryani wrap and some of their salted tortilla chips it was absolutely del   \n",
       "\n",
       "                                                                                                                                                       tokenText  \\\n",
       "0                                  [rt, leedowningkeat, why, im, still, vegan, share, and, watch, this, to, counteract, the, ex, vegan, trendwhyimstillvegan, f]   \n",
       "1  [rt, xvxfood, lunch, today, was, the, marksandspencer, sweet, potato, biryani, wrap, and, some, of, their, salted, tortilla, chips, it, was, absolutely, del]   \n",
       "\n",
       "                                                                                             noStopWords  \\\n",
       "0                rt leedowningkeat im still vegan share watch counteract ex vegan trendwhyimstillvegan f   \n",
       "1  rt xvxfood lunch today marksandspencer sweet potato biryani wrap salted tortilla chips absolutely del   \n",
       "\n",
       "                                                                                                        tokenTextnoStop  \\\n",
       "0                  [rt, leedowningkeat, im, still, vegan, share, watch, counteract, ex, vegan, trendwhyimstillvegan, f]   \n",
       "1  [rt, xvxfood, lunch, today, marksandspencer, sweet, potato, biryani, wrap, salted, tortilla, chips, absolutely, del]   \n",
       "\n",
       "  tokenCount  \n",
       "0         17  \n",
       "1         22  \n",
       "\n",
       "[2 rows x 26 columns]"
      ]
     },
     "execution_count": 22,
     "metadata": {},
     "output_type": "execute_result"
    }
   ],
   "source": [
    "twittertext.head(2)"
   ]
  },
  {
   "cell_type": "code",
   "execution_count": 13,
   "metadata": {},
   "outputs": [],
   "source": [
    "# Remove all the https\n",
    "twittertext.Text = twittertext.Text.str.replace(r'http\\S+','')"
   ]
  },
  {
   "cell_type": "code",
   "execution_count": 14,
   "metadata": {},
   "outputs": [],
   "source": [
    "# Remove all the '\\n' line-brakes\n",
    "twittertext.Text = twittertext.Text.str.replace(r'\\n','')"
   ]
  },
  {
   "cell_type": "code",
   "execution_count": 15,
   "metadata": {},
   "outputs": [],
   "source": [
    "# Remove 'non-ascii' characters\n",
    "twittertext.Text = twittertext.Text.str.replace(r'[^\\x00-\\x7F]','')\n",
    "# Make all the text lowercase\n",
    "twittertext.Text = twittertext.Text.str.lower()"
   ]
  },
  {
   "cell_type": "code",
   "execution_count": 16,
   "metadata": {},
   "outputs": [],
   "source": [
    "#create a column for all #hasthtags that appears in the text\n",
    "twittertext['hashtags'] = twittertext.Text.str.findall(r'#\\S+')\n",
    "#create a column for all @twitter handles that appears in the tweets\n",
    "twittertext['twitter_handles'] = twittertext.Text.str.findall(r'@[\\w]*')"
   ]
  },
  {
   "cell_type": "code",
   "execution_count": 15,
   "metadata": {},
   "outputs": [],
   "source": [
    "# Remove the #hashtags and the twitter_handles from the tweets\n",
    "#twittertext.Text  = twittertext.Text.str.replace(r'#\\S+','')\n",
    "# Remove the @twitter_handles from the tweets\n",
    "#twittertext.Text  = twittertext.Text.str.replace(r'@[\\w]*','')"
   ]
  },
  {
   "cell_type": "code",
   "execution_count": 17,
   "metadata": {},
   "outputs": [],
   "source": [
    "# Remove all the punctuation \n",
    "twittertext['cleanText'] = twittertext.Text.apply(\n",
    "    lambda x:x.translate(str.maketrans('','', string.punctuation)))"
   ]
  },
  {
   "cell_type": "code",
   "execution_count": 18,
   "metadata": {},
   "outputs": [],
   "source": [
    "# Tokenise all of the clean text\n",
    "twittertext['tokenText'] = twittertext.cleanText.apply(word_tokenize)"
   ]
  },
  {
   "cell_type": "code",
   "execution_count": 21,
   "metadata": {},
   "outputs": [],
   "source": [
    "# Count the number of Token in the tweets\n",
    "twittertext['tokenCount'] = twittertext.tokenText.apply(len)"
   ]
  },
  {
   "cell_type": "code",
   "execution_count": 19,
   "metadata": {},
   "outputs": [],
   "source": [
    "# Import stopwords with nltk.\n",
    "stop = stopwords.words('english')\n",
    "\n",
    "# Exclude stopwords with Python's list comprehension and pandas.DataFrame.apply.\n",
    "twittertext['noStopWords'] = twittertext['cleanText'].apply(\n",
    "    lambda x: ' '.join([word for word in x.split() if word not in (stop)]))"
   ]
  },
  {
   "cell_type": "code",
   "execution_count": 20,
   "metadata": {},
   "outputs": [],
   "source": [
    "#tokenise all of the text with Stop words\n",
    "twittertext['tokenTextnoStop'] = twittertext.noStopWords.apply(word_tokenize)"
   ]
  },
  {
   "cell_type": "code",
   "execution_count": 23,
   "metadata": {
    "scrolled": true
   },
   "outputs": [
    {
     "data": {
      "text/plain": [
       "(21421, 26)"
      ]
     },
     "execution_count": 23,
     "metadata": {},
     "output_type": "execute_result"
    }
   ],
   "source": [
    "twittertext.shape"
   ]
  },
  {
   "cell_type": "code",
   "execution_count": 24,
   "metadata": {},
   "outputs": [
    {
     "data": {
      "text/plain": [
       "(9008, 26)"
      ]
     },
     "execution_count": 24,
     "metadata": {},
     "output_type": "execute_result"
    }
   ],
   "source": [
    "#Delete the duplicates of the tweets!\n",
    "twittertext = twittertext.drop_duplicates(subset='cleanText')\n",
    "twittertext.shape"
   ]
  },
  {
   "cell_type": "markdown",
   "metadata": {},
   "source": [
    "### Understand Most Words in Tweets! "
   ]
  },
  {
   "cell_type": "markdown",
   "metadata": {},
   "source": [
    "Looking at the cleanText and noStopWords columns, we can see that there are still some words that we won't need for the tweeters words analysis. For example, rt, amp or im aren't really useful to understand what the people are telling about veganuary. Moreover, the cleanText and noStopWords columns contain the hastags, this is not really helpful and we will do a column without the hastags!"
   ]
  },
  {
   "cell_type": "code",
   "execution_count": 25,
   "metadata": {},
   "outputs": [],
   "source": [
    "# Copy the dataframe!\n",
    "twittertext_nohastags = twittertext"
   ]
  },
  {
   "cell_type": "code",
   "execution_count": 29,
   "metadata": {},
   "outputs": [],
   "source": [
    "# Remove all the hashtags\n",
    "twittertext_nohastags['clean_no_hashtags'] = twittertext_nohastags.Text.str.replace(r'#\\S+','')\n",
    "# Remove the twitterhandlers!\n",
    "twittertext_nohastags.clean_no_hashtags =  twittertext_nohastags.clean_no_hashtags.str.replace(r'@[\\w]*','')"
   ]
  },
  {
   "cell_type": "code",
   "execution_count": 31,
   "metadata": {},
   "outputs": [],
   "source": [
    "# Remove all the punctuation \n",
    "twittertext_nohastags.clean_no_hashtags = twittertext_nohastags.clean_no_hashtags.apply(\n",
    "    lambda x:x.translate(str.maketrans('','', string.punctuation)))"
   ]
  },
  {
   "cell_type": "code",
   "execution_count": 33,
   "metadata": {},
   "outputs": [],
   "source": [
    "# Tokenise all of the clean text\n",
    "twittertext_nohastags['tokenNoHastags'] = twittertext_nohastags.clean_no_hashtags.apply(word_tokenize)\n",
    "\n",
    "# Count the number of Token in the tweets\n",
    "twittertext_nohastags['tokenNoHastags_Count'] = twittertext_nohastags.tokenNoHastags.apply(len)"
   ]
  },
  {
   "cell_type": "code",
   "execution_count": 35,
   "metadata": {},
   "outputs": [],
   "source": [
    "# Import stopwords with nltk.\n",
    "stop = stopwords.words('english')\n",
    "\n",
    "# Exclude stopwords with Python's list comprehension and pandas.DataFrame.apply.\n",
    "twittertext_nohastags['NoHastags_NoStopWords'] = twittertext_nohastags.clean_no_hashtags.apply(\n",
    "    lambda x: ' '.join([word for word in x.split() if word not in (stop)]))"
   ]
  },
  {
   "cell_type": "code",
   "execution_count": 36,
   "metadata": {},
   "outputs": [],
   "source": [
    "#tokenise all of the text with Stop words\n",
    "twittertext_nohastags['Token_NoHastags_NoStopWords'] = twittertext_nohastags.NoHastags_NoStopWords.apply(word_tokenize)"
   ]
  },
  {
   "cell_type": "code",
   "execution_count": 192,
   "metadata": {},
   "outputs": [],
   "source": [
    "# Remove some words that does not mean anything!\n",
    "other = ['rt','amp']\n",
    "\n",
    "# Exclude other words \n",
    "twittertext_nohastags['words_analysis'] = twittertext_nohastags['NoHastags_NoStopWords'].apply(\n",
    "    lambda x:' '.join([word for word in x.split() if word not in (other)]))"
   ]
  },
  {
   "cell_type": "code",
   "execution_count": 193,
   "metadata": {},
   "outputs": [
    {
     "data": {
      "text/html": [
       "<div>\n",
       "<style scoped>\n",
       "    .dataframe tbody tr th:only-of-type {\n",
       "        vertical-align: middle;\n",
       "    }\n",
       "\n",
       "    .dataframe tbody tr th {\n",
       "        vertical-align: top;\n",
       "    }\n",
       "\n",
       "    .dataframe thead th {\n",
       "        text-align: right;\n",
       "    }\n",
       "</style>\n",
       "<table border=\"1\" class=\"dataframe\">\n",
       "  <thead>\n",
       "    <tr style=\"text-align: right;\">\n",
       "      <th></th>\n",
       "      <th>Date</th>\n",
       "      <th>UserID</th>\n",
       "      <th>UserScreenName</th>\n",
       "      <th>Text</th>\n",
       "      <th>UserLocation</th>\n",
       "      <th>retweet_count</th>\n",
       "      <th>UserFollowers</th>\n",
       "      <th>UserFriends</th>\n",
       "      <th>UserLanguage</th>\n",
       "      <th>RetweetUserName</th>\n",
       "      <th>...</th>\n",
       "      <th>tokenText</th>\n",
       "      <th>noStopWords</th>\n",
       "      <th>tokenTextnoStop</th>\n",
       "      <th>tokenCount</th>\n",
       "      <th>clean_no_hashtags</th>\n",
       "      <th>tokenNoHastags</th>\n",
       "      <th>tokenNoHastags_Count</th>\n",
       "      <th>NoHastags_NoStopWords</th>\n",
       "      <th>Token_NoHastags_NoStopWords</th>\n",
       "      <th>words_analysis</th>\n",
       "    </tr>\n",
       "  </thead>\n",
       "  <tbody>\n",
       "    <tr>\n",
       "      <th>0</th>\n",
       "      <td>2019-01-28 23:05:53</td>\n",
       "      <td>1133610576</td>\n",
       "      <td>MarymoBelfast</td>\n",
       "      <td>rt @leedowningkeat: why im still vegan. share and watch this to counteract the ex vegan trend#whyimstillvegan #f</td>\n",
       "      <td>Ireland</td>\n",
       "      <td>6</td>\n",
       "      <td>12498</td>\n",
       "      <td>12525</td>\n",
       "      <td>en</td>\n",
       "      <td>lee downing keat</td>\n",
       "      <td>...</td>\n",
       "      <td>[rt, leedowningkeat, why, im, still, vegan, share, and, watch, this, to, counteract, the, ex, vegan, trendwhyimstillvegan, f]</td>\n",
       "      <td>rt leedowningkeat im still vegan share watch counteract ex vegan trendwhyimstillvegan f</td>\n",
       "      <td>[rt, leedowningkeat, im, still, vegan, share, watch, counteract, ex, vegan, trendwhyimstillvegan, f]</td>\n",
       "      <td>17</td>\n",
       "      <td>rt  why im still vegan share and watch this to counteract the ex vegan trend</td>\n",
       "      <td>[rt, why, im, still, vegan, share, and, watch, this, to, counteract, the, ex, vegan, trend]</td>\n",
       "      <td>15</td>\n",
       "      <td>rt im still vegan share watch counteract ex vegan trend</td>\n",
       "      <td>[rt, im, still, vegan, share, watch, counteract, ex, vegan, trend]</td>\n",
       "      <td>im still vegan share watch counteract ex vegan trend</td>\n",
       "    </tr>\n",
       "    <tr>\n",
       "      <th>1</th>\n",
       "      <td>2019-01-28 23:03:51</td>\n",
       "      <td>1088500218964828160</td>\n",
       "      <td>Lilly84914614</td>\n",
       "      <td>rt @xvx_food: lunch today was the @marksandspencer sweet potato biryani wrap and some of their salted tortilla chips, it was absolutely del</td>\n",
       "      <td>NaN</td>\n",
       "      <td>0</td>\n",
       "      <td>3</td>\n",
       "      <td>17</td>\n",
       "      <td>en</td>\n",
       "      <td>Vegan Food Only Ⓥ</td>\n",
       "      <td>...</td>\n",
       "      <td>[rt, xvxfood, lunch, today, was, the, marksandspencer, sweet, potato, biryani, wrap, and, some, of, their, salted, tortilla, chips, it, was, absolutely, del]</td>\n",
       "      <td>rt xvxfood lunch today marksandspencer sweet potato biryani wrap salted tortilla chips absolutely del</td>\n",
       "      <td>[rt, xvxfood, lunch, today, marksandspencer, sweet, potato, biryani, wrap, salted, tortilla, chips, absolutely, del]</td>\n",
       "      <td>22</td>\n",
       "      <td>rt  lunch today was the  sweet potato biryani wrap and some of their salted tortilla chips it was absolutely del</td>\n",
       "      <td>[rt, lunch, today, was, the, sweet, potato, biryani, wrap, and, some, of, their, salted, tortilla, chips, it, was, absolutely, del]</td>\n",
       "      <td>20</td>\n",
       "      <td>rt lunch today sweet potato biryani wrap salted tortilla chips absolutely del</td>\n",
       "      <td>[rt, lunch, today, sweet, potato, biryani, wrap, salted, tortilla, chips, absolutely, del]</td>\n",
       "      <td>lunch today sweet potato biryani wrap salted tortilla chips absolutely del</td>\n",
       "    </tr>\n",
       "    <tr>\n",
       "      <th>2</th>\n",
       "      <td>2019-01-28 23:03:46</td>\n",
       "      <td>1948014944</td>\n",
       "      <td>GeorgiaRaeBrown</td>\n",
       "      <td>what an angel  now this is the kind of #mondaymotivaton  im taking about!  via: @bbcnews</td>\n",
       "      <td>England, United Kingdom</td>\n",
       "      <td>0</td>\n",
       "      <td>1280</td>\n",
       "      <td>1024</td>\n",
       "      <td>en</td>\n",
       "      <td>NaN</td>\n",
       "      <td>...</td>\n",
       "      <td>[what, an, angel, now, this, is, the, kind, of, mondaymotivaton, im, taking, about, via, bbcnews]</td>\n",
       "      <td>angel kind mondaymotivaton im taking via bbcnews</td>\n",
       "      <td>[angel, kind, mondaymotivaton, im, taking, via, bbcnews]</td>\n",
       "      <td>15</td>\n",
       "      <td>what an angel  now this is the kind of   im taking about  via</td>\n",
       "      <td>[what, an, angel, now, this, is, the, kind, of, im, taking, about, via]</td>\n",
       "      <td>13</td>\n",
       "      <td>angel kind im taking via</td>\n",
       "      <td>[angel, kind, im, taking, via]</td>\n",
       "      <td>angel kind im taking via</td>\n",
       "    </tr>\n",
       "  </tbody>\n",
       "</table>\n",
       "<p>3 rows × 32 columns</p>\n",
       "</div>"
      ],
      "text/plain": [
       "                  Date               UserID   UserScreenName  \\\n",
       "0  2019-01-28 23:05:53           1133610576    MarymoBelfast   \n",
       "1  2019-01-28 23:03:51  1088500218964828160    Lilly84914614   \n",
       "2  2019-01-28 23:03:46           1948014944  GeorgiaRaeBrown   \n",
       "\n",
       "                                                                                                                                          Text  \\\n",
       "0                             rt @leedowningkeat: why im still vegan. share and watch this to counteract the ex vegan trend#whyimstillvegan #f   \n",
       "1  rt @xvx_food: lunch today was the @marksandspencer sweet potato biryani wrap and some of their salted tortilla chips, it was absolutely del   \n",
       "2                                                    what an angel  now this is the kind of #mondaymotivaton  im taking about!  via: @bbcnews    \n",
       "\n",
       "              UserLocation  retweet_count  UserFollowers  UserFriends  \\\n",
       "0                  Ireland              6          12498        12525   \n",
       "1                      NaN              0              3           17   \n",
       "2  England, United Kingdom              0           1280         1024   \n",
       "\n",
       "  UserLanguage    RetweetUserName  ...  \\\n",
       "0           en   lee downing keat  ...   \n",
       "1           en  Vegan Food Only Ⓥ  ...   \n",
       "2           en                NaN  ...   \n",
       "\n",
       "                                                                                                                                                       tokenText  \\\n",
       "0                                  [rt, leedowningkeat, why, im, still, vegan, share, and, watch, this, to, counteract, the, ex, vegan, trendwhyimstillvegan, f]   \n",
       "1  [rt, xvxfood, lunch, today, was, the, marksandspencer, sweet, potato, biryani, wrap, and, some, of, their, salted, tortilla, chips, it, was, absolutely, del]   \n",
       "2                                                              [what, an, angel, now, this, is, the, kind, of, mondaymotivaton, im, taking, about, via, bbcnews]   \n",
       "\n",
       "                                                                                             noStopWords  \\\n",
       "0                rt leedowningkeat im still vegan share watch counteract ex vegan trendwhyimstillvegan f   \n",
       "1  rt xvxfood lunch today marksandspencer sweet potato biryani wrap salted tortilla chips absolutely del   \n",
       "2                                                       angel kind mondaymotivaton im taking via bbcnews   \n",
       "\n",
       "                                                                                                        tokenTextnoStop  \\\n",
       "0                  [rt, leedowningkeat, im, still, vegan, share, watch, counteract, ex, vegan, trendwhyimstillvegan, f]   \n",
       "1  [rt, xvxfood, lunch, today, marksandspencer, sweet, potato, biryani, wrap, salted, tortilla, chips, absolutely, del]   \n",
       "2                                                              [angel, kind, mondaymotivaton, im, taking, via, bbcnews]   \n",
       "\n",
       "  tokenCount  \\\n",
       "0         17   \n",
       "1         22   \n",
       "2         15   \n",
       "\n",
       "                                                                                                  clean_no_hashtags  \\\n",
       "0                                     rt  why im still vegan share and watch this to counteract the ex vegan trend    \n",
       "1  rt  lunch today was the  sweet potato biryani wrap and some of their salted tortilla chips it was absolutely del   \n",
       "2                                                   what an angel  now this is the kind of   im taking about  via     \n",
       "\n",
       "                                                                                                                        tokenNoHastags  \\\n",
       "0                                          [rt, why, im, still, vegan, share, and, watch, this, to, counteract, the, ex, vegan, trend]   \n",
       "1  [rt, lunch, today, was, the, sweet, potato, biryani, wrap, and, some, of, their, salted, tortilla, chips, it, was, absolutely, del]   \n",
       "2                                                              [what, an, angel, now, this, is, the, kind, of, im, taking, about, via]   \n",
       "\n",
       "   tokenNoHastags_Count  \\\n",
       "0                    15   \n",
       "1                    20   \n",
       "2                    13   \n",
       "\n",
       "                                                           NoHastags_NoStopWords  \\\n",
       "0                        rt im still vegan share watch counteract ex vegan trend   \n",
       "1  rt lunch today sweet potato biryani wrap salted tortilla chips absolutely del   \n",
       "2                                                       angel kind im taking via   \n",
       "\n",
       "                                                                  Token_NoHastags_NoStopWords  \\\n",
       "0                          [rt, im, still, vegan, share, watch, counteract, ex, vegan, trend]   \n",
       "1  [rt, lunch, today, sweet, potato, biryani, wrap, salted, tortilla, chips, absolutely, del]   \n",
       "2                                                              [angel, kind, im, taking, via]   \n",
       "\n",
       "                                                               words_analysis  \n",
       "0                        im still vegan share watch counteract ex vegan trend  \n",
       "1  lunch today sweet potato biryani wrap salted tortilla chips absolutely del  \n",
       "2                                                    angel kind im taking via  \n",
       "\n",
       "[3 rows x 32 columns]"
      ]
     },
     "execution_count": 193,
     "metadata": {},
     "output_type": "execute_result"
    }
   ],
   "source": [
    "twittertext_nohastags.head(3)"
   ]
  },
  {
   "cell_type": "code",
   "execution_count": 38,
   "metadata": {},
   "outputs": [
    {
     "data": {
      "text/plain": [
       "(9008, 31)"
      ]
     },
     "execution_count": 38,
     "metadata": {},
     "output_type": "execute_result"
    }
   ],
   "source": [
    "twittertext_nohastags.shape"
   ]
  },
  {
   "cell_type": "code",
   "execution_count": 355,
   "metadata": {},
   "outputs": [
    {
     "name": "stdout",
     "output_type": "stream",
     "text": [
      "The total number of tweets for words analysis is 9008.\n"
     ]
    }
   ],
   "source": [
    "total_tweets = len(twittertext_nohastags)\n",
    "print(\"The total number of tweets for words analysis is \" + str(total_tweets) + \".\")"
   ]
  },
  {
   "cell_type": "markdown",
   "metadata": {},
   "source": [
    "### Counts Words"
   ]
  },
  {
   "cell_type": "code",
   "execution_count": 258,
   "metadata": {},
   "outputs": [],
   "source": [
    "# Take all the tokens (separated words) and append them in a list\n",
    "# We have a giant list of all words that have been writen in the tweets\n",
    "# Other Explaination: Flatten 'Token_NoHastags_NoStopWords' into one list\n",
    "\n",
    "tokens = []\n",
    "\n",
    "for sublist in twittertext_nohastags.Token_NoHastags_NoStopWords:\n",
    "    for word in sublist:\n",
    "        tokens.append(word)"
   ]
  },
  {
   "cell_type": "code",
   "execution_count": 259,
   "metadata": {},
   "outputs": [
    {
     "data": {
      "text/plain": [
       "76139"
      ]
     },
     "execution_count": 259,
     "metadata": {},
     "output_type": "execute_result"
    }
   ],
   "source": [
    "# Calculate the length of the list / number of entries!\n",
    "len(tokens)"
   ]
  },
  {
   "cell_type": "code",
   "execution_count": 260,
   "metadata": {},
   "outputs": [],
   "source": [
    "# Turn the list into a dataframe -> easier to deal with!\n",
    "tokens_df = pd.DataFrame(tokens)\n",
    "# Give a name to the column of the dataframe\n",
    "tokens_df.columns = ['words']\n",
    "# Calculate the number of time a word appear in the tweets \n",
    "tokens_df['count'] = tokens_df.groupby('words')['words'].transform('count')"
   ]
  },
  {
   "cell_type": "code",
   "execution_count": 262,
   "metadata": {},
   "outputs": [
    {
     "data": {
      "text/html": [
       "<div>\n",
       "<style scoped>\n",
       "    .dataframe tbody tr th:only-of-type {\n",
       "        vertical-align: middle;\n",
       "    }\n",
       "\n",
       "    .dataframe tbody tr th {\n",
       "        vertical-align: top;\n",
       "    }\n",
       "\n",
       "    .dataframe thead th {\n",
       "        text-align: right;\n",
       "    }\n",
       "</style>\n",
       "<table border=\"1\" class=\"dataframe\">\n",
       "  <thead>\n",
       "    <tr style=\"text-align: right;\">\n",
       "      <th></th>\n",
       "      <th>words</th>\n",
       "      <th>count</th>\n",
       "    </tr>\n",
       "  </thead>\n",
       "  <tbody>\n",
       "    <tr>\n",
       "      <th>0</th>\n",
       "      <td>rt</td>\n",
       "      <td>2880</td>\n",
       "    </tr>\n",
       "    <tr>\n",
       "      <th>1</th>\n",
       "      <td>im</td>\n",
       "      <td>203</td>\n",
       "    </tr>\n",
       "    <tr>\n",
       "      <th>2</th>\n",
       "      <td>still</td>\n",
       "      <td>192</td>\n",
       "    </tr>\n",
       "    <tr>\n",
       "      <th>3</th>\n",
       "      <td>vegan</td>\n",
       "      <td>2264</td>\n",
       "    </tr>\n",
       "  </tbody>\n",
       "</table>\n",
       "</div>"
      ],
      "text/plain": [
       "   words  count\n",
       "0     rt   2880\n",
       "1     im    203\n",
       "2  still    192\n",
       "3  vegan   2264"
      ]
     },
     "execution_count": 262,
     "metadata": {},
     "output_type": "execute_result"
    }
   ],
   "source": [
    "# tokens_df = tokens_df.sort_values(by=['freq'], ascending=False)\n",
    "tokens_df.head(4)"
   ]
  },
  {
   "cell_type": "code",
   "execution_count": 268,
   "metadata": {
    "scrolled": false
   },
   "outputs": [
    {
     "data": {
      "text/plain": [
       "rt           2880\n",
       "vegan        2264\n",
       "amp           781\n",
       "day           575\n",
       "new           570\n",
       "last          435\n",
       "food          370\n",
       "delicious     350\n",
       "veganuary     337\n",
       "one           324\n",
       "try           311\n",
       "recipe        310\n",
       "today         288\n",
       "get           288\n",
       "made          281\n",
       "end           275\n",
       "great         274\n",
       "love          267\n",
       "go            259\n",
       "good          245\n",
       "Name: words, dtype: int64"
      ]
     },
     "execution_count": 268,
     "metadata": {},
     "output_type": "execute_result"
    }
   ],
   "source": [
    "# Print the 20 most frequent words!\n",
    "tokens_df.words.value_counts()[:20]"
   ]
  },
  {
   "cell_type": "markdown",
   "metadata": {},
   "source": [
    "Ok we see that there are some words that give no particular indication (these words are for eample rt and amp) what about removing them from the analysis!"
   ]
  },
  {
   "cell_type": "code",
   "execution_count": 295,
   "metadata": {},
   "outputs": [],
   "source": [
    "# Create a dataframe and remore the row with words 'rt' and 'amp' -> Does not tell anything!\n",
    "words_df = pd.DataFrame(tokens_df.words.value_counts())\n",
    "words_df.reset_index(inplace=True)\n",
    "# Rename the column of the dataframe!\n",
    "words_df.columns = ['word', 'count_words']\n",
    "\n",
    "#Drop the first (0) and third row (2) of the dataframe!\n",
    "words_df = words_df.drop(words_df.index[[0,2]])\n",
    "words_df.reset_index(inplace=True)"
   ]
  },
  {
   "cell_type": "code",
   "execution_count": 296,
   "metadata": {},
   "outputs": [
    {
     "data": {
      "text/html": [
       "<div>\n",
       "<style scoped>\n",
       "    .dataframe tbody tr th:only-of-type {\n",
       "        vertical-align: middle;\n",
       "    }\n",
       "\n",
       "    .dataframe tbody tr th {\n",
       "        vertical-align: top;\n",
       "    }\n",
       "\n",
       "    .dataframe thead th {\n",
       "        text-align: right;\n",
       "    }\n",
       "</style>\n",
       "<table border=\"1\" class=\"dataframe\">\n",
       "  <thead>\n",
       "    <tr style=\"text-align: right;\">\n",
       "      <th></th>\n",
       "      <th>index</th>\n",
       "      <th>word</th>\n",
       "      <th>count_words</th>\n",
       "    </tr>\n",
       "  </thead>\n",
       "  <tbody>\n",
       "    <tr>\n",
       "      <th>0</th>\n",
       "      <td>1</td>\n",
       "      <td>vegan</td>\n",
       "      <td>2264</td>\n",
       "    </tr>\n",
       "    <tr>\n",
       "      <th>1</th>\n",
       "      <td>3</td>\n",
       "      <td>day</td>\n",
       "      <td>575</td>\n",
       "    </tr>\n",
       "    <tr>\n",
       "      <th>2</th>\n",
       "      <td>4</td>\n",
       "      <td>new</td>\n",
       "      <td>570</td>\n",
       "    </tr>\n",
       "    <tr>\n",
       "      <th>3</th>\n",
       "      <td>5</td>\n",
       "      <td>last</td>\n",
       "      <td>435</td>\n",
       "    </tr>\n",
       "    <tr>\n",
       "      <th>4</th>\n",
       "      <td>6</td>\n",
       "      <td>food</td>\n",
       "      <td>370</td>\n",
       "    </tr>\n",
       "    <tr>\n",
       "      <th>5</th>\n",
       "      <td>7</td>\n",
       "      <td>delicious</td>\n",
       "      <td>350</td>\n",
       "    </tr>\n",
       "    <tr>\n",
       "      <th>6</th>\n",
       "      <td>8</td>\n",
       "      <td>veganuary</td>\n",
       "      <td>337</td>\n",
       "    </tr>\n",
       "    <tr>\n",
       "      <th>7</th>\n",
       "      <td>9</td>\n",
       "      <td>one</td>\n",
       "      <td>324</td>\n",
       "    </tr>\n",
       "    <tr>\n",
       "      <th>8</th>\n",
       "      <td>10</td>\n",
       "      <td>try</td>\n",
       "      <td>311</td>\n",
       "    </tr>\n",
       "    <tr>\n",
       "      <th>9</th>\n",
       "      <td>11</td>\n",
       "      <td>recipe</td>\n",
       "      <td>310</td>\n",
       "    </tr>\n",
       "    <tr>\n",
       "      <th>10</th>\n",
       "      <td>12</td>\n",
       "      <td>today</td>\n",
       "      <td>288</td>\n",
       "    </tr>\n",
       "    <tr>\n",
       "      <th>11</th>\n",
       "      <td>13</td>\n",
       "      <td>get</td>\n",
       "      <td>288</td>\n",
       "    </tr>\n",
       "    <tr>\n",
       "      <th>12</th>\n",
       "      <td>14</td>\n",
       "      <td>made</td>\n",
       "      <td>281</td>\n",
       "    </tr>\n",
       "    <tr>\n",
       "      <th>13</th>\n",
       "      <td>15</td>\n",
       "      <td>end</td>\n",
       "      <td>275</td>\n",
       "    </tr>\n",
       "    <tr>\n",
       "      <th>14</th>\n",
       "      <td>16</td>\n",
       "      <td>great</td>\n",
       "      <td>274</td>\n",
       "    </tr>\n",
       "    <tr>\n",
       "      <th>15</th>\n",
       "      <td>17</td>\n",
       "      <td>love</td>\n",
       "      <td>267</td>\n",
       "    </tr>\n",
       "    <tr>\n",
       "      <th>16</th>\n",
       "      <td>18</td>\n",
       "      <td>go</td>\n",
       "      <td>259</td>\n",
       "    </tr>\n",
       "    <tr>\n",
       "      <th>17</th>\n",
       "      <td>19</td>\n",
       "      <td>good</td>\n",
       "      <td>245</td>\n",
       "    </tr>\n",
       "    <tr>\n",
       "      <th>18</th>\n",
       "      <td>20</td>\n",
       "      <td>going</td>\n",
       "      <td>238</td>\n",
       "    </tr>\n",
       "    <tr>\n",
       "      <th>19</th>\n",
       "      <td>21</td>\n",
       "      <td>make</td>\n",
       "      <td>233</td>\n",
       "    </tr>\n",
       "  </tbody>\n",
       "</table>\n",
       "</div>"
      ],
      "text/plain": [
       "    index       word  count_words\n",
       "0       1      vegan         2264\n",
       "1       3        day          575\n",
       "2       4        new          570\n",
       "3       5       last          435\n",
       "4       6       food          370\n",
       "5       7  delicious          350\n",
       "6       8  veganuary          337\n",
       "7       9        one          324\n",
       "8      10        try          311\n",
       "9      11     recipe          310\n",
       "10     12      today          288\n",
       "11     13        get          288\n",
       "12     14       made          281\n",
       "13     15        end          275\n",
       "14     16      great          274\n",
       "15     17       love          267\n",
       "16     18         go          259\n",
       "17     19       good          245\n",
       "18     20      going          238\n",
       "19     21       make          233"
      ]
     },
     "execution_count": 296,
     "metadata": {},
     "output_type": "execute_result"
    }
   ],
   "source": [
    "# Print the 20 most frequent words!\n",
    "words_df.head(20)"
   ]
  },
  {
   "cell_type": "code",
   "execution_count": 297,
   "metadata": {},
   "outputs": [
    {
     "name": "stdout",
     "output_type": "stream",
     "text": [
      "Total number words is 72478.\n",
      "Total number single words is 10769.\n"
     ]
    }
   ],
   "source": [
    "# Calculate the number of different single words!\n",
    "single_words = len(words_df['word'].value_counts())\n",
    "# Calculate the total number of words!\n",
    "total_words = words_df['count_words'].sum()\n",
    "\n",
    "print(\"Total number words is \" + str(total_words) + \".\")\n",
    "print(\"Total number single words is \" + str(single_words) + \".\")"
   ]
  },
  {
   "cell_type": "code",
   "execution_count": 356,
   "metadata": {},
   "outputs": [],
   "source": [
    "#  Add a column with the frequency of the words! How frequent a word appear in all the tweets!\n",
    "words_df['freq_words %'] = (words_df['count_words']/total_tweets)*100"
   ]
  },
  {
   "cell_type": "code",
   "execution_count": 357,
   "metadata": {},
   "outputs": [
    {
     "data": {
      "text/html": [
       "<div>\n",
       "<style scoped>\n",
       "    .dataframe tbody tr th:only-of-type {\n",
       "        vertical-align: middle;\n",
       "    }\n",
       "\n",
       "    .dataframe tbody tr th {\n",
       "        vertical-align: top;\n",
       "    }\n",
       "\n",
       "    .dataframe thead th {\n",
       "        text-align: right;\n",
       "    }\n",
       "</style>\n",
       "<table border=\"1\" class=\"dataframe\">\n",
       "  <thead>\n",
       "    <tr style=\"text-align: right;\">\n",
       "      <th></th>\n",
       "      <th>index</th>\n",
       "      <th>word</th>\n",
       "      <th>count_words</th>\n",
       "      <th>freq_words %</th>\n",
       "    </tr>\n",
       "  </thead>\n",
       "  <tbody>\n",
       "    <tr>\n",
       "      <th>0</th>\n",
       "      <td>1</td>\n",
       "      <td>vegan</td>\n",
       "      <td>2264</td>\n",
       "      <td>25.13</td>\n",
       "    </tr>\n",
       "    <tr>\n",
       "      <th>1</th>\n",
       "      <td>3</td>\n",
       "      <td>day</td>\n",
       "      <td>575</td>\n",
       "      <td>6.38</td>\n",
       "    </tr>\n",
       "    <tr>\n",
       "      <th>2</th>\n",
       "      <td>4</td>\n",
       "      <td>new</td>\n",
       "      <td>570</td>\n",
       "      <td>6.33</td>\n",
       "    </tr>\n",
       "    <tr>\n",
       "      <th>3</th>\n",
       "      <td>5</td>\n",
       "      <td>last</td>\n",
       "      <td>435</td>\n",
       "      <td>4.83</td>\n",
       "    </tr>\n",
       "    <tr>\n",
       "      <th>4</th>\n",
       "      <td>6</td>\n",
       "      <td>food</td>\n",
       "      <td>370</td>\n",
       "      <td>4.11</td>\n",
       "    </tr>\n",
       "  </tbody>\n",
       "</table>\n",
       "</div>"
      ],
      "text/plain": [
       "   index   word  count_words                             freq_words %\n",
       "0      1  vegan         2264                                    25.13\n",
       "1      3    day          575                                     6.38\n",
       "2      4    new          570                                     6.33\n",
       "3      5   last          435                                     4.83\n",
       "4      6   food          370                                     4.11"
      ]
     },
     "execution_count": 357,
     "metadata": {},
     "output_type": "execute_result"
    }
   ],
   "source": [
    "words_df.head()"
   ]
  },
  {
   "cell_type": "code",
   "execution_count": 300,
   "metadata": {},
   "outputs": [],
   "source": [
    "# For the further analysis, selection only the first 30 most common words!\n",
    "word_count = words_df[0:30]"
   ]
  },
  {
   "cell_type": "markdown",
   "metadata": {},
   "source": [
    "### Hastags"
   ]
  },
  {
   "cell_type": "code",
   "execution_count": 68,
   "metadata": {
    "scrolled": true
   },
   "outputs": [
    {
     "data": {
      "text/html": [
       "<div>\n",
       "<style scoped>\n",
       "    .dataframe tbody tr th:only-of-type {\n",
       "        vertical-align: middle;\n",
       "    }\n",
       "\n",
       "    .dataframe tbody tr th {\n",
       "        vertical-align: top;\n",
       "    }\n",
       "\n",
       "    .dataframe thead th {\n",
       "        text-align: right;\n",
       "    }\n",
       "</style>\n",
       "<table border=\"1\" class=\"dataframe\">\n",
       "  <thead>\n",
       "    <tr style=\"text-align: right;\">\n",
       "      <th></th>\n",
       "      <th>Date</th>\n",
       "      <th>UserID</th>\n",
       "      <th>UserScreenName</th>\n",
       "      <th>Text</th>\n",
       "      <th>UserLocation</th>\n",
       "      <th>retweet_count</th>\n",
       "      <th>UserFollowers</th>\n",
       "      <th>UserFriends</th>\n",
       "      <th>UserLanguage</th>\n",
       "      <th>RetweetUserName</th>\n",
       "      <th>...</th>\n",
       "      <th>cleanText</th>\n",
       "      <th>tokenText</th>\n",
       "      <th>noStopWords</th>\n",
       "      <th>tokenTextnoStop</th>\n",
       "      <th>tokenCount</th>\n",
       "      <th>clean_no_hashtags</th>\n",
       "      <th>tokenNoHastags</th>\n",
       "      <th>tokenNoHastags_Count</th>\n",
       "      <th>NoHastags_NoStopWords</th>\n",
       "      <th>Token_NoHastags_NoStopWords</th>\n",
       "    </tr>\n",
       "  </thead>\n",
       "  <tbody>\n",
       "    <tr>\n",
       "      <th>0</th>\n",
       "      <td>2019-01-28 23:05:53</td>\n",
       "      <td>1133610576</td>\n",
       "      <td>MarymoBelfast</td>\n",
       "      <td>rt @leedowningkeat: why im still vegan. share and watch this to counteract the ex vegan trend#whyimstillvegan #f</td>\n",
       "      <td>Ireland</td>\n",
       "      <td>6</td>\n",
       "      <td>12498</td>\n",
       "      <td>12525</td>\n",
       "      <td>en</td>\n",
       "      <td>lee downing keat</td>\n",
       "      <td>...</td>\n",
       "      <td>rt leedowningkeat why im still vegan share and watch this to counteract the ex vegan trendwhyimstillvegan f</td>\n",
       "      <td>[rt, leedowningkeat, why, im, still, vegan, share, and, watch, this, to, counteract, the, ex, vegan, trendwhyimstillvegan, f]</td>\n",
       "      <td>rt leedowningkeat im still vegan share watch counteract ex vegan trendwhyimstillvegan f</td>\n",
       "      <td>[rt, leedowningkeat, im, still, vegan, share, watch, counteract, ex, vegan, trendwhyimstillvegan, f]</td>\n",
       "      <td>17</td>\n",
       "      <td>rt  why im still vegan share and watch this to counteract the ex vegan trend</td>\n",
       "      <td>[rt, why, im, still, vegan, share, and, watch, this, to, counteract, the, ex, vegan, trend]</td>\n",
       "      <td>15</td>\n",
       "      <td>rt im still vegan share watch counteract ex vegan trend</td>\n",
       "      <td>[rt, im, still, vegan, share, watch, counteract, ex, vegan, trend]</td>\n",
       "    </tr>\n",
       "    <tr>\n",
       "      <th>1</th>\n",
       "      <td>2019-01-28 23:03:51</td>\n",
       "      <td>1088500218964828160</td>\n",
       "      <td>Lilly84914614</td>\n",
       "      <td>rt @xvx_food: lunch today was the @marksandspencer sweet potato biryani wrap and some of their salted tortilla chips, it was absolutely del</td>\n",
       "      <td>NaN</td>\n",
       "      <td>0</td>\n",
       "      <td>3</td>\n",
       "      <td>17</td>\n",
       "      <td>en</td>\n",
       "      <td>Vegan Food Only Ⓥ</td>\n",
       "      <td>...</td>\n",
       "      <td>rt xvxfood lunch today was the marksandspencer sweet potato biryani wrap and some of their salted tortilla chips it was absolutely del</td>\n",
       "      <td>[rt, xvxfood, lunch, today, was, the, marksandspencer, sweet, potato, biryani, wrap, and, some, of, their, salted, tortilla, chips, it, was, absolutely, del]</td>\n",
       "      <td>rt xvxfood lunch today marksandspencer sweet potato biryani wrap salted tortilla chips absolutely del</td>\n",
       "      <td>[rt, xvxfood, lunch, today, marksandspencer, sweet, potato, biryani, wrap, salted, tortilla, chips, absolutely, del]</td>\n",
       "      <td>22</td>\n",
       "      <td>rt  lunch today was the  sweet potato biryani wrap and some of their salted tortilla chips it was absolutely del</td>\n",
       "      <td>[rt, lunch, today, was, the, sweet, potato, biryani, wrap, and, some, of, their, salted, tortilla, chips, it, was, absolutely, del]</td>\n",
       "      <td>20</td>\n",
       "      <td>rt lunch today sweet potato biryani wrap salted tortilla chips absolutely del</td>\n",
       "      <td>[rt, lunch, today, sweet, potato, biryani, wrap, salted, tortilla, chips, absolutely, del]</td>\n",
       "    </tr>\n",
       "  </tbody>\n",
       "</table>\n",
       "<p>2 rows × 31 columns</p>\n",
       "</div>"
      ],
      "text/plain": [
       "                  Date               UserID UserScreenName  \\\n",
       "0  2019-01-28 23:05:53           1133610576  MarymoBelfast   \n",
       "1  2019-01-28 23:03:51  1088500218964828160  Lilly84914614   \n",
       "\n",
       "                                                                                                                                          Text  \\\n",
       "0                             rt @leedowningkeat: why im still vegan. share and watch this to counteract the ex vegan trend#whyimstillvegan #f   \n",
       "1  rt @xvx_food: lunch today was the @marksandspencer sweet potato biryani wrap and some of their salted tortilla chips, it was absolutely del   \n",
       "\n",
       "  UserLocation  retweet_count  UserFollowers  UserFriends UserLanguage  \\\n",
       "0      Ireland              6          12498        12525           en   \n",
       "1          NaN              0              3           17           en   \n",
       "\n",
       "     RetweetUserName  ...  \\\n",
       "0   lee downing keat  ...   \n",
       "1  Vegan Food Only Ⓥ  ...   \n",
       "\n",
       "                                                                                                                                cleanText  \\\n",
       "0                             rt leedowningkeat why im still vegan share and watch this to counteract the ex vegan trendwhyimstillvegan f   \n",
       "1  rt xvxfood lunch today was the marksandspencer sweet potato biryani wrap and some of their salted tortilla chips it was absolutely del   \n",
       "\n",
       "                                                                                                                                                       tokenText  \\\n",
       "0                                  [rt, leedowningkeat, why, im, still, vegan, share, and, watch, this, to, counteract, the, ex, vegan, trendwhyimstillvegan, f]   \n",
       "1  [rt, xvxfood, lunch, today, was, the, marksandspencer, sweet, potato, biryani, wrap, and, some, of, their, salted, tortilla, chips, it, was, absolutely, del]   \n",
       "\n",
       "                                                                                             noStopWords  \\\n",
       "0                rt leedowningkeat im still vegan share watch counteract ex vegan trendwhyimstillvegan f   \n",
       "1  rt xvxfood lunch today marksandspencer sweet potato biryani wrap salted tortilla chips absolutely del   \n",
       "\n",
       "                                                                                                        tokenTextnoStop  \\\n",
       "0                  [rt, leedowningkeat, im, still, vegan, share, watch, counteract, ex, vegan, trendwhyimstillvegan, f]   \n",
       "1  [rt, xvxfood, lunch, today, marksandspencer, sweet, potato, biryani, wrap, salted, tortilla, chips, absolutely, del]   \n",
       "\n",
       "  tokenCount  \\\n",
       "0         17   \n",
       "1         22   \n",
       "\n",
       "                                                                                                  clean_no_hashtags  \\\n",
       "0                                     rt  why im still vegan share and watch this to counteract the ex vegan trend    \n",
       "1  rt  lunch today was the  sweet potato biryani wrap and some of their salted tortilla chips it was absolutely del   \n",
       "\n",
       "                                                                                                                        tokenNoHastags  \\\n",
       "0                                          [rt, why, im, still, vegan, share, and, watch, this, to, counteract, the, ex, vegan, trend]   \n",
       "1  [rt, lunch, today, was, the, sweet, potato, biryani, wrap, and, some, of, their, salted, tortilla, chips, it, was, absolutely, del]   \n",
       "\n",
       "   tokenNoHastags_Count  \\\n",
       "0                    15   \n",
       "1                    20   \n",
       "\n",
       "                                                           NoHastags_NoStopWords  \\\n",
       "0                        rt im still vegan share watch counteract ex vegan trend   \n",
       "1  rt lunch today sweet potato biryani wrap salted tortilla chips absolutely del   \n",
       "\n",
       "                                                                  Token_NoHastags_NoStopWords  \n",
       "0                          [rt, im, still, vegan, share, watch, counteract, ex, vegan, trend]  \n",
       "1  [rt, lunch, today, sweet, potato, biryani, wrap, salted, tortilla, chips, absolutely, del]  \n",
       "\n",
       "[2 rows x 31 columns]"
      ]
     },
     "execution_count": 68,
     "metadata": {},
     "output_type": "execute_result"
    }
   ],
   "source": [
    "twittertext_nohastags.head(2)"
   ]
  },
  {
   "cell_type": "code",
   "execution_count": 69,
   "metadata": {},
   "outputs": [],
   "source": [
    "hashtags = []\n",
    "\n",
    "for sublist in twittertext_nohastags.hashtags:\n",
    "    for word in sublist:\n",
    "        hashtags.append(word)"
   ]
  },
  {
   "cell_type": "code",
   "execution_count": 110,
   "metadata": {},
   "outputs": [],
   "source": [
    "# Transform the list of hastags into a dataframe\n",
    "hashtags_df = pd.DataFrame(hashtags)\n",
    "# Rename the columns of the dataframe\n",
    "hashtags_df.columns = ['hashtags']\n",
    "# Calculate the number of time a hashtag appear in the tweets\n",
    "hashtags_df['count'] = hashtags_df.groupby('hashtags')['hashtags'].transform('count')"
   ]
  },
  {
   "cell_type": "code",
   "execution_count": 221,
   "metadata": {},
   "outputs": [
    {
     "name": "stdout",
     "output_type": "stream",
     "text": [
      "Total number hashtags is 16452.\n",
      "Total number single hashtags is 3377.\n"
     ]
    }
   ],
   "source": [
    "# Calculate the number of different single hashtags!\n",
    "single_hashtags = len(hashtags_df['hashtags'].value_counts())\n",
    "# Calculate the total number of hashtags!\n",
    "total_hashtags = len(hashtags_df['hashtags'])\n",
    "\n",
    "print(\"Total number hashtags is \" + str(total_hashtags) + \".\")\n",
    "print(\"Total number single hashtags is \" + str(single_hashtags) + \".\")"
   ]
  },
  {
   "cell_type": "code",
   "execution_count": 217,
   "metadata": {},
   "outputs": [
    {
     "data": {
      "text/plain": [
       "16452"
      ]
     },
     "execution_count": 217,
     "metadata": {},
     "output_type": "execute_result"
    }
   ],
   "source": [
    "len(hashtags_df['hashtags'])"
   ]
  },
  {
   "cell_type": "code",
   "execution_count": 111,
   "metadata": {},
   "outputs": [
    {
     "data": {
      "text/html": [
       "<div>\n",
       "<style scoped>\n",
       "    .dataframe tbody tr th:only-of-type {\n",
       "        vertical-align: middle;\n",
       "    }\n",
       "\n",
       "    .dataframe tbody tr th {\n",
       "        vertical-align: top;\n",
       "    }\n",
       "\n",
       "    .dataframe thead th {\n",
       "        text-align: right;\n",
       "    }\n",
       "</style>\n",
       "<table border=\"1\" class=\"dataframe\">\n",
       "  <thead>\n",
       "    <tr style=\"text-align: right;\">\n",
       "      <th></th>\n",
       "      <th>hashtags</th>\n",
       "      <th>count</th>\n",
       "    </tr>\n",
       "  </thead>\n",
       "  <tbody>\n",
       "    <tr>\n",
       "      <th>0</th>\n",
       "      <td>#whyimstillvegan</td>\n",
       "      <td>2</td>\n",
       "    </tr>\n",
       "    <tr>\n",
       "      <th>1</th>\n",
       "      <td>#f</td>\n",
       "      <td>6</td>\n",
       "    </tr>\n",
       "    <tr>\n",
       "      <th>2</th>\n",
       "      <td>#mondaymotivaton</td>\n",
       "      <td>5</td>\n",
       "    </tr>\n",
       "    <tr>\n",
       "      <th>3</th>\n",
       "      <td>#veganuary</td>\n",
       "      <td>3450</td>\n",
       "    </tr>\n",
       "    <tr>\n",
       "      <th>4</th>\n",
       "      <td>#vegan</td>\n",
       "      <td>2107</td>\n",
       "    </tr>\n",
       "  </tbody>\n",
       "</table>\n",
       "</div>"
      ],
      "text/plain": [
       "           hashtags  count\n",
       "0  #whyimstillvegan      2\n",
       "1                #f      6\n",
       "2  #mondaymotivaton      5\n",
       "3        #veganuary   3450\n",
       "4            #vegan   2107"
      ]
     },
     "execution_count": 111,
     "metadata": {},
     "output_type": "execute_result"
    }
   ],
   "source": [
    "hashtags_df.head()"
   ]
  },
  {
   "cell_type": "code",
   "execution_count": 113,
   "metadata": {
    "scrolled": true
   },
   "outputs": [
    {
     "data": {
      "text/plain": [
       "#veganuary        3450\n",
       "#vegan            2107\n",
       "#veganuary2019    1200\n",
       "#plantbased        332\n",
       "#govegan           288\n",
       "#veganism          157\n",
       "#veganfood         149\n",
       "#veganuary?        121\n",
       "#vegetarian        105\n",
       "#veganuary,         96\n",
       "#animalrights       89\n",
       "#win                82\n",
       "#crueltyfree        77\n",
       "#veganuary!         77\n",
       "#glutenfree         74\n",
       "#food               65\n",
       "#veganuary.         64\n",
       "#vegans             60\n",
       "#dryjanuary         60\n",
       "#dairyfree          54\n",
       "Name: hashtags, dtype: int64"
      ]
     },
     "execution_count": 113,
     "metadata": {},
     "output_type": "execute_result"
    }
   ],
   "source": [
    "# Print the 20 most frequent words!\n",
    "hashtags_df.hashtags.value_counts()[:20]"
   ]
  },
  {
   "cell_type": "code",
   "execution_count": 147,
   "metadata": {},
   "outputs": [],
   "source": [
    "# Remove the specific punctuation (!?,.) \n",
    "hashtags_df['hashtags_nopunctuation'] = hashtags_df.hashtags.str.replace('[!,?.\\s]','')"
   ]
  },
  {
   "cell_type": "code",
   "execution_count": 148,
   "metadata": {},
   "outputs": [
    {
     "data": {
      "text/plain": [
       "#veganuary         3830\n",
       "#vegan             2143\n",
       "#veganuary2019     1267\n",
       "#plantbased         335\n",
       "#govegan            288\n",
       "#veganism           162\n",
       "#veganfood          149\n",
       "#vegetarian         106\n",
       "#animalrights        89\n",
       "#win                 82\n",
       "#glutenfree          80\n",
       "#crueltyfree         77\n",
       "#dryjanuary          72\n",
       "#vegans              67\n",
       "#food                67\n",
       "#dairyfree           55\n",
       "#recipe              55\n",
       "#organic             44\n",
       "#meatfreemonday      43\n",
       "#veganhour           41\n",
       "Name: hashtags_nopunctuation, dtype: int64"
      ]
     },
     "execution_count": 148,
     "metadata": {},
     "output_type": "execute_result"
    }
   ],
   "source": [
    "# Print the 20 most frequent words!\n",
    "hashtags_df.hashtags_nopunctuation.value_counts()[:20]"
   ]
  },
  {
   "cell_type": "code",
   "execution_count": 358,
   "metadata": {},
   "outputs": [],
   "source": [
    "# Let's create a dataframe with the 30 most popular hastags! \n",
    "hash_count = pd.DataFrame(hashtags_df.hashtags_nopunctuation.value_counts()[:30])\n",
    "hash_count.reset_index(inplace=True)\n",
    "# hash_count.head()\n",
    "# Rename the columns of the dataframe\n",
    "hash_count.columns = ['hashtag', 'count_hashtag']\n",
    "\n",
    "#  Add a column with the frequency of the hashtags!\n",
    "hash_count['freq_hashtags %'] = (hash_count['count_hashtag']/total_tweets)*100"
   ]
  },
  {
   "cell_type": "code",
   "execution_count": 359,
   "metadata": {},
   "outputs": [
    {
     "data": {
      "text/html": [
       "<div>\n",
       "<style scoped>\n",
       "    .dataframe tbody tr th:only-of-type {\n",
       "        vertical-align: middle;\n",
       "    }\n",
       "\n",
       "    .dataframe tbody tr th {\n",
       "        vertical-align: top;\n",
       "    }\n",
       "\n",
       "    .dataframe thead th {\n",
       "        text-align: right;\n",
       "    }\n",
       "</style>\n",
       "<table border=\"1\" class=\"dataframe\">\n",
       "  <thead>\n",
       "    <tr style=\"text-align: right;\">\n",
       "      <th></th>\n",
       "      <th>hashtag</th>\n",
       "      <th>count_hashtag</th>\n",
       "      <th>freq_hashtags %</th>\n",
       "    </tr>\n",
       "  </thead>\n",
       "  <tbody>\n",
       "    <tr>\n",
       "      <th>0</th>\n",
       "      <td>#veganuary</td>\n",
       "      <td>3830</td>\n",
       "      <td>42.52</td>\n",
       "    </tr>\n",
       "    <tr>\n",
       "      <th>1</th>\n",
       "      <td>#vegan</td>\n",
       "      <td>2143</td>\n",
       "      <td>23.79</td>\n",
       "    </tr>\n",
       "  </tbody>\n",
       "</table>\n",
       "</div>"
      ],
      "text/plain": [
       "      hashtag  count_hashtag                          freq_hashtags %\n",
       "0  #veganuary           3830                                    42.52\n",
       "1      #vegan           2143                                    23.79"
      ]
     },
     "execution_count": 359,
     "metadata": {},
     "output_type": "execute_result"
    }
   ],
   "source": [
    "hash_count.head(2)"
   ]
  },
  {
   "cell_type": "code",
   "execution_count": 360,
   "metadata": {},
   "outputs": [
    {
     "data": {
      "text/html": [
       "<div>\n",
       "<style scoped>\n",
       "    .dataframe tbody tr th:only-of-type {\n",
       "        vertical-align: middle;\n",
       "    }\n",
       "\n",
       "    .dataframe tbody tr th {\n",
       "        vertical-align: top;\n",
       "    }\n",
       "\n",
       "    .dataframe thead th {\n",
       "        text-align: right;\n",
       "    }\n",
       "</style>\n",
       "<table border=\"1\" class=\"dataframe\">\n",
       "  <thead>\n",
       "    <tr style=\"text-align: right;\">\n",
       "      <th></th>\n",
       "      <th>index</th>\n",
       "      <th>word</th>\n",
       "      <th>count_words</th>\n",
       "      <th>freq_words %</th>\n",
       "    </tr>\n",
       "  </thead>\n",
       "  <tbody>\n",
       "    <tr>\n",
       "      <th>0</th>\n",
       "      <td>1</td>\n",
       "      <td>vegan</td>\n",
       "      <td>2264</td>\n",
       "      <td>25.13</td>\n",
       "    </tr>\n",
       "    <tr>\n",
       "      <th>1</th>\n",
       "      <td>3</td>\n",
       "      <td>day</td>\n",
       "      <td>575</td>\n",
       "      <td>6.38</td>\n",
       "    </tr>\n",
       "  </tbody>\n",
       "</table>\n",
       "</div>"
      ],
      "text/plain": [
       "   index   word  count_words                             freq_words %\n",
       "0      1  vegan         2264                                    25.13\n",
       "1      3    day          575                                     6.38"
      ]
     },
     "execution_count": 360,
     "metadata": {},
     "output_type": "execute_result"
    }
   ],
   "source": [
    "word_count.head(2)"
   ]
  },
  {
   "cell_type": "code",
   "execution_count": 361,
   "metadata": {
    "scrolled": true
   },
   "outputs": [
    {
     "data": {
      "text/html": [
       "<div>\n",
       "<style scoped>\n",
       "    .dataframe tbody tr th:only-of-type {\n",
       "        vertical-align: middle;\n",
       "    }\n",
       "\n",
       "    .dataframe tbody tr th {\n",
       "        vertical-align: top;\n",
       "    }\n",
       "\n",
       "    .dataframe thead th {\n",
       "        text-align: right;\n",
       "    }\n",
       "</style>\n",
       "<table border=\"1\" class=\"dataframe\">\n",
       "  <thead>\n",
       "    <tr style=\"text-align: right;\">\n",
       "      <th></th>\n",
       "      <th>index</th>\n",
       "      <th>word</th>\n",
       "      <th>count_words</th>\n",
       "      <th>freq_words %</th>\n",
       "      <th>hashtag</th>\n",
       "      <th>count_hashtag</th>\n",
       "      <th>freq_hashtags %</th>\n",
       "    </tr>\n",
       "  </thead>\n",
       "  <tbody>\n",
       "    <tr>\n",
       "      <th>0</th>\n",
       "      <td>1</td>\n",
       "      <td>vegan</td>\n",
       "      <td>2264</td>\n",
       "      <td>25.13</td>\n",
       "      <td>#veganuary</td>\n",
       "      <td>3830</td>\n",
       "      <td>42.52</td>\n",
       "    </tr>\n",
       "    <tr>\n",
       "      <th>1</th>\n",
       "      <td>3</td>\n",
       "      <td>day</td>\n",
       "      <td>575</td>\n",
       "      <td>6.38</td>\n",
       "      <td>#vegan</td>\n",
       "      <td>2143</td>\n",
       "      <td>23.79</td>\n",
       "    </tr>\n",
       "    <tr>\n",
       "      <th>2</th>\n",
       "      <td>4</td>\n",
       "      <td>new</td>\n",
       "      <td>570</td>\n",
       "      <td>6.33</td>\n",
       "      <td>#veganuary2019</td>\n",
       "      <td>1267</td>\n",
       "      <td>14.07</td>\n",
       "    </tr>\n",
       "    <tr>\n",
       "      <th>3</th>\n",
       "      <td>5</td>\n",
       "      <td>last</td>\n",
       "      <td>435</td>\n",
       "      <td>4.83</td>\n",
       "      <td>#plantbased</td>\n",
       "      <td>335</td>\n",
       "      <td>3.72</td>\n",
       "    </tr>\n",
       "    <tr>\n",
       "      <th>4</th>\n",
       "      <td>6</td>\n",
       "      <td>food</td>\n",
       "      <td>370</td>\n",
       "      <td>4.11</td>\n",
       "      <td>#govegan</td>\n",
       "      <td>288</td>\n",
       "      <td>3.20</td>\n",
       "    </tr>\n",
       "    <tr>\n",
       "      <th>5</th>\n",
       "      <td>7</td>\n",
       "      <td>delicious</td>\n",
       "      <td>350</td>\n",
       "      <td>3.89</td>\n",
       "      <td>#veganism</td>\n",
       "      <td>162</td>\n",
       "      <td>1.80</td>\n",
       "    </tr>\n",
       "    <tr>\n",
       "      <th>6</th>\n",
       "      <td>8</td>\n",
       "      <td>veganuary</td>\n",
       "      <td>337</td>\n",
       "      <td>3.74</td>\n",
       "      <td>#veganfood</td>\n",
       "      <td>149</td>\n",
       "      <td>1.65</td>\n",
       "    </tr>\n",
       "    <tr>\n",
       "      <th>7</th>\n",
       "      <td>9</td>\n",
       "      <td>one</td>\n",
       "      <td>324</td>\n",
       "      <td>3.60</td>\n",
       "      <td>#vegetarian</td>\n",
       "      <td>106</td>\n",
       "      <td>1.18</td>\n",
       "    </tr>\n",
       "    <tr>\n",
       "      <th>8</th>\n",
       "      <td>10</td>\n",
       "      <td>try</td>\n",
       "      <td>311</td>\n",
       "      <td>3.45</td>\n",
       "      <td>#animalrights</td>\n",
       "      <td>89</td>\n",
       "      <td>0.99</td>\n",
       "    </tr>\n",
       "    <tr>\n",
       "      <th>9</th>\n",
       "      <td>11</td>\n",
       "      <td>recipe</td>\n",
       "      <td>310</td>\n",
       "      <td>3.44</td>\n",
       "      <td>#win</td>\n",
       "      <td>82</td>\n",
       "      <td>0.91</td>\n",
       "    </tr>\n",
       "    <tr>\n",
       "      <th>10</th>\n",
       "      <td>12</td>\n",
       "      <td>today</td>\n",
       "      <td>288</td>\n",
       "      <td>3.20</td>\n",
       "      <td>#glutenfree</td>\n",
       "      <td>80</td>\n",
       "      <td>0.89</td>\n",
       "    </tr>\n",
       "    <tr>\n",
       "      <th>11</th>\n",
       "      <td>13</td>\n",
       "      <td>get</td>\n",
       "      <td>288</td>\n",
       "      <td>3.20</td>\n",
       "      <td>#crueltyfree</td>\n",
       "      <td>77</td>\n",
       "      <td>0.85</td>\n",
       "    </tr>\n",
       "    <tr>\n",
       "      <th>12</th>\n",
       "      <td>14</td>\n",
       "      <td>made</td>\n",
       "      <td>281</td>\n",
       "      <td>3.12</td>\n",
       "      <td>#dryjanuary</td>\n",
       "      <td>72</td>\n",
       "      <td>0.80</td>\n",
       "    </tr>\n",
       "    <tr>\n",
       "      <th>13</th>\n",
       "      <td>15</td>\n",
       "      <td>end</td>\n",
       "      <td>275</td>\n",
       "      <td>3.05</td>\n",
       "      <td>#vegans</td>\n",
       "      <td>67</td>\n",
       "      <td>0.74</td>\n",
       "    </tr>\n",
       "    <tr>\n",
       "      <th>14</th>\n",
       "      <td>16</td>\n",
       "      <td>great</td>\n",
       "      <td>274</td>\n",
       "      <td>3.04</td>\n",
       "      <td>#food</td>\n",
       "      <td>67</td>\n",
       "      <td>0.74</td>\n",
       "    </tr>\n",
       "    <tr>\n",
       "      <th>15</th>\n",
       "      <td>17</td>\n",
       "      <td>love</td>\n",
       "      <td>267</td>\n",
       "      <td>2.96</td>\n",
       "      <td>#dairyfree</td>\n",
       "      <td>55</td>\n",
       "      <td>0.61</td>\n",
       "    </tr>\n",
       "    <tr>\n",
       "      <th>16</th>\n",
       "      <td>18</td>\n",
       "      <td>go</td>\n",
       "      <td>259</td>\n",
       "      <td>2.88</td>\n",
       "      <td>#recipe</td>\n",
       "      <td>55</td>\n",
       "      <td>0.61</td>\n",
       "    </tr>\n",
       "    <tr>\n",
       "      <th>17</th>\n",
       "      <td>19</td>\n",
       "      <td>good</td>\n",
       "      <td>245</td>\n",
       "      <td>2.72</td>\n",
       "      <td>#organic</td>\n",
       "      <td>44</td>\n",
       "      <td>0.49</td>\n",
       "    </tr>\n",
       "    <tr>\n",
       "      <th>18</th>\n",
       "      <td>20</td>\n",
       "      <td>going</td>\n",
       "      <td>238</td>\n",
       "      <td>2.64</td>\n",
       "      <td>#meatfreemonday</td>\n",
       "      <td>43</td>\n",
       "      <td>0.48</td>\n",
       "    </tr>\n",
       "    <tr>\n",
       "      <th>19</th>\n",
       "      <td>21</td>\n",
       "      <td>make</td>\n",
       "      <td>233</td>\n",
       "      <td>2.59</td>\n",
       "      <td>#veganhour</td>\n",
       "      <td>41</td>\n",
       "      <td>0.46</td>\n",
       "    </tr>\n",
       "    <tr>\n",
       "      <th>20</th>\n",
       "      <td>22</td>\n",
       "      <td>us</td>\n",
       "      <td>228</td>\n",
       "      <td>2.53</td>\n",
       "      <td>#competition</td>\n",
       "      <td>40</td>\n",
       "      <td>0.44</td>\n",
       "    </tr>\n",
       "    <tr>\n",
       "      <th>21</th>\n",
       "      <td>23</td>\n",
       "      <td>january</td>\n",
       "      <td>226</td>\n",
       "      <td>2.51</td>\n",
       "      <td>#veganlife</td>\n",
       "      <td>40</td>\n",
       "      <td>0.44</td>\n",
       "    </tr>\n",
       "    <tr>\n",
       "      <th>22</th>\n",
       "      <td>24</td>\n",
       "      <td>chocolate</td>\n",
       "      <td>222</td>\n",
       "      <td>2.46</td>\n",
       "      <td>#veganrecipes</td>\n",
       "      <td>38</td>\n",
       "      <td>0.42</td>\n",
       "    </tr>\n",
       "    <tr>\n",
       "      <th>23</th>\n",
       "      <td>25</td>\n",
       "      <td>time</td>\n",
       "      <td>219</td>\n",
       "      <td>2.43</td>\n",
       "      <td>#health</td>\n",
       "      <td>35</td>\n",
       "      <td>0.39</td>\n",
       "    </tr>\n",
       "    <tr>\n",
       "      <th>24</th>\n",
       "      <td>26</td>\n",
       "      <td>meat</td>\n",
       "      <td>218</td>\n",
       "      <td>2.42</td>\n",
       "      <td>#bristol</td>\n",
       "      <td>33</td>\n",
       "      <td>0.37</td>\n",
       "    </tr>\n",
       "    <tr>\n",
       "      <th>25</th>\n",
       "      <td>27</td>\n",
       "      <td>see</td>\n",
       "      <td>213</td>\n",
       "      <td>2.36</td>\n",
       "      <td>#yes2meat</td>\n",
       "      <td>32</td>\n",
       "      <td>0.36</td>\n",
       "    </tr>\n",
       "    <tr>\n",
       "      <th>26</th>\n",
       "      <td>28</td>\n",
       "      <td>month</td>\n",
       "      <td>207</td>\n",
       "      <td>2.30</td>\n",
       "      <td>#animalcruelty</td>\n",
       "      <td>32</td>\n",
       "      <td>0.36</td>\n",
       "    </tr>\n",
       "    <tr>\n",
       "      <th>27</th>\n",
       "      <td>29</td>\n",
       "      <td>dont</td>\n",
       "      <td>207</td>\n",
       "      <td>2.30</td>\n",
       "      <td>#giveaway</td>\n",
       "      <td>32</td>\n",
       "      <td>0.36</td>\n",
       "    </tr>\n",
       "    <tr>\n",
       "      <th>28</th>\n",
       "      <td>30</td>\n",
       "      <td>eat</td>\n",
       "      <td>206</td>\n",
       "      <td>2.29</td>\n",
       "      <td>#whatveganseat</td>\n",
       "      <td>32</td>\n",
       "      <td>0.36</td>\n",
       "    </tr>\n",
       "    <tr>\n",
       "      <th>29</th>\n",
       "      <td>31</td>\n",
       "      <td>days</td>\n",
       "      <td>203</td>\n",
       "      <td>2.25</td>\n",
       "      <td>#healthy</td>\n",
       "      <td>32</td>\n",
       "      <td>0.36</td>\n",
       "    </tr>\n",
       "  </tbody>\n",
       "</table>\n",
       "</div>"
      ],
      "text/plain": [
       "    index       word  count_words                             freq_words %  \\\n",
       "0       1      vegan         2264                                    25.13   \n",
       "1       3        day          575                                     6.38   \n",
       "2       4        new          570                                     6.33   \n",
       "3       5       last          435                                     4.83   \n",
       "4       6       food          370                                     4.11   \n",
       "5       7  delicious          350                                     3.89   \n",
       "6       8  veganuary          337                                     3.74   \n",
       "7       9        one          324                                     3.60   \n",
       "8      10        try          311                                     3.45   \n",
       "9      11     recipe          310                                     3.44   \n",
       "10     12      today          288                                     3.20   \n",
       "11     13        get          288                                     3.20   \n",
       "12     14       made          281                                     3.12   \n",
       "13     15        end          275                                     3.05   \n",
       "14     16      great          274                                     3.04   \n",
       "15     17       love          267                                     2.96   \n",
       "16     18         go          259                                     2.88   \n",
       "17     19       good          245                                     2.72   \n",
       "18     20      going          238                                     2.64   \n",
       "19     21       make          233                                     2.59   \n",
       "20     22         us          228                                     2.53   \n",
       "21     23    january          226                                     2.51   \n",
       "22     24  chocolate          222                                     2.46   \n",
       "23     25       time          219                                     2.43   \n",
       "24     26       meat          218                                     2.42   \n",
       "25     27        see          213                                     2.36   \n",
       "26     28      month          207                                     2.30   \n",
       "27     29       dont          207                                     2.30   \n",
       "28     30        eat          206                                     2.29   \n",
       "29     31       days          203                                     2.25   \n",
       "\n",
       "            hashtag  count_hashtag                          freq_hashtags %  \n",
       "0        #veganuary           3830                                    42.52  \n",
       "1            #vegan           2143                                    23.79  \n",
       "2    #veganuary2019           1267                                    14.07  \n",
       "3       #plantbased            335                                     3.72  \n",
       "4          #govegan            288                                     3.20  \n",
       "5         #veganism            162                                     1.80  \n",
       "6        #veganfood            149                                     1.65  \n",
       "7       #vegetarian            106                                     1.18  \n",
       "8     #animalrights             89                                     0.99  \n",
       "9              #win             82                                     0.91  \n",
       "10      #glutenfree             80                                     0.89  \n",
       "11     #crueltyfree             77                                     0.85  \n",
       "12      #dryjanuary             72                                     0.80  \n",
       "13          #vegans             67                                     0.74  \n",
       "14            #food             67                                     0.74  \n",
       "15       #dairyfree             55                                     0.61  \n",
       "16          #recipe             55                                     0.61  \n",
       "17         #organic             44                                     0.49  \n",
       "18  #meatfreemonday             43                                     0.48  \n",
       "19       #veganhour             41                                     0.46  \n",
       "20     #competition             40                                     0.44  \n",
       "21       #veganlife             40                                     0.44  \n",
       "22    #veganrecipes             38                                     0.42  \n",
       "23          #health             35                                     0.39  \n",
       "24         #bristol             33                                     0.37  \n",
       "25        #yes2meat             32                                     0.36  \n",
       "26   #animalcruelty             32                                     0.36  \n",
       "27        #giveaway             32                                     0.36  \n",
       "28   #whatveganseat             32                                     0.36  \n",
       "29         #healthy             32                                     0.36  "
      ]
     },
     "execution_count": 361,
     "metadata": {},
     "output_type": "execute_result"
    }
   ],
   "source": [
    "count = pd.concat([word_count, hash_count], axis=1)\n",
    "count"
   ]
  },
  {
   "cell_type": "code",
   "execution_count": 390,
   "metadata": {},
   "outputs": [],
   "source": [
    "log_wd = np.log(count['freq_words %'])\n",
    "log_ht = np.log(count['freq_hashtags %'])"
   ]
  },
  {
   "cell_type": "code",
   "execution_count": 382,
   "metadata": {
    "scrolled": true
   },
   "outputs": [
    {
     "data": {
      "application/vnd.plotly.v1+json": {
       "config": {
        "linkText": "Export to plot.ly",
        "plotlyServerURL": "https://plot.ly",
        "showLink": false
       },
       "data": [
        {
         "orientation": "h",
         "type": "bar",
         "uid": "81802dc9-9ba9-43af-a3b7-6cb36409627c",
         "x": [
          25.133214920071044,
          6.383214920071048,
          6.327708703374777,
          4.829040852575488,
          4.107460035523978,
          3.8854351687388986,
          3.741119005328597,
          3.5968028419182954,
          3.4524866785079924,
          3.4413854351687387
         ],
         "y": [
          "vegan",
          "day",
          "new",
          "last",
          "food",
          "delicious",
          "veganuary",
          "one",
          "try",
          "recipe"
         ]
        }
       ],
       "layout": {
        "margin": {
         "pad": 10
        },
        "title": {
         "text": "Top 10 most famous words"
        },
        "width": 500,
        "xaxis": {
         "title": {
          "text": "Frequency of eah word in the tweets (%)"
         }
        },
        "yaxis": {
         "automargin": true,
         "autorange": "reversed",
         "title": {
          "text": "10 most used words"
         }
        }
       }
      },
      "text/html": [
       "<div id=\"dfe83fa0-e202-417b-b696-97a6904aeab6\" style=\"height: 525px; width: 500px;\" class=\"plotly-graph-div\"></div><script type=\"text/javascript\">require([\"plotly\"], function(Plotly) { window.PLOTLYENV=window.PLOTLYENV || {};window.PLOTLYENV.BASE_URL=\"https://plot.ly\";Plotly.newPlot(\"dfe83fa0-e202-417b-b696-97a6904aeab6\", [{\"orientation\": \"h\", \"x\": [25.133214920071044, 6.383214920071048, 6.327708703374777, 4.829040852575488, 4.107460035523978, 3.8854351687388986, 3.741119005328597, 3.5968028419182954, 3.4524866785079924, 3.4413854351687387], \"y\": [\"vegan\", \"day\", \"new\", \"last\", \"food\", \"delicious\", \"veganuary\", \"one\", \"try\", \"recipe\"], \"type\": \"bar\", \"uid\": \"81802dc9-9ba9-43af-a3b7-6cb36409627c\"}], {\"margin\": {\"pad\": 10}, \"title\": {\"text\": \"Top 10 most famous words\"}, \"width\": 500, \"xaxis\": {\"title\": {\"text\": \"Frequency of eah word in the tweets (%)\"}}, \"yaxis\": {\"automargin\": true, \"autorange\": \"reversed\", \"title\": {\"text\": \"10 most used words\"}}}, {\"showLink\": false, \"linkText\": \"Export to plot.ly\", \"plotlyServerURL\": \"https://plot.ly\"})});</script>"
      ],
      "text/vnd.plotly.v1+html": [
       "<div id=\"dfe83fa0-e202-417b-b696-97a6904aeab6\" style=\"height: 525px; width: 500px;\" class=\"plotly-graph-div\"></div><script type=\"text/javascript\">require([\"plotly\"], function(Plotly) { window.PLOTLYENV=window.PLOTLYENV || {};window.PLOTLYENV.BASE_URL=\"https://plot.ly\";Plotly.newPlot(\"dfe83fa0-e202-417b-b696-97a6904aeab6\", [{\"orientation\": \"h\", \"x\": [25.133214920071044, 6.383214920071048, 6.327708703374777, 4.829040852575488, 4.107460035523978, 3.8854351687388986, 3.741119005328597, 3.5968028419182954, 3.4524866785079924, 3.4413854351687387], \"y\": [\"vegan\", \"day\", \"new\", \"last\", \"food\", \"delicious\", \"veganuary\", \"one\", \"try\", \"recipe\"], \"type\": \"bar\", \"uid\": \"81802dc9-9ba9-43af-a3b7-6cb36409627c\"}], {\"margin\": {\"pad\": 10}, \"title\": {\"text\": \"Top 10 most famous words\"}, \"width\": 500, \"xaxis\": {\"title\": {\"text\": \"Frequency of eah word in the tweets (%)\"}}, \"yaxis\": {\"automargin\": true, \"autorange\": \"reversed\", \"title\": {\"text\": \"10 most used words\"}}}, {\"showLink\": false, \"linkText\": \"Export to plot.ly\", \"plotlyServerURL\": \"https://plot.ly\"})});</script>"
      ]
     },
     "metadata": {},
     "output_type": "display_data"
    }
   ],
   "source": [
    "data = [Bar(\n",
    "        y=count['word'][0:10], # assign x as the dataframe column 'x'\n",
    "        x=count['freq_words %'][0:10], \n",
    "        orientation = 'h',\n",
    ")]\n",
    "\n",
    "layout = Layout(\n",
    "    title=\"Top 10 most famous words\",\n",
    "    xaxis=dict(title='Frequency of eah word in the tweets (%)'),\n",
    "    yaxis=dict(title='10 most used words', automargin = True, autorange='reversed'),\n",
    "    margin=dict(pad=10), \n",
    "    width=500\n",
    ")\n",
    "\n",
    "fig = Figure(data=data, layout=layout)\n",
    "\n",
    "iplot(fig)"
   ]
  },
  {
   "cell_type": "code",
   "execution_count": 389,
   "metadata": {},
   "outputs": [
    {
     "data": {
      "application/vnd.plotly.v1+json": {
       "config": {
        "linkText": "Export to plot.ly",
        "plotlyServerURL": "https://plot.ly",
        "showLink": false
       },
       "data": [
        {
         "orientation": "h",
         "type": "bar",
         "uid": "215639ba-3996-44ea-b808-6c6338fc3f21",
         "x": [
          3.224190274931693,
          1.8536718764059703,
          1.8449381964372156,
          1.5746478666973038,
          1.4128048412468897,
          1.357234990092079,
          1.3193847659609814,
          1.2800453514009493,
          1.2390947477878538,
          1.2358741330878116,
          1.1622623157445657,
          1.1622623157445657,
          1.1376565049423655,
          1.116072933275191,
          1.1124299419966899,
          1.0865504940088693,
          1.0561298973081574,
          1.0005600461533468,
          0.9715725092800944,
          0.9503402891743203,
          0.9286474645630606,
          0.9198368348809057,
          0.9019792174808992,
          0.8883735654251206,
          0.8837968983977087,
          0.860594001318045,
          0.8320206288739888,
          0.8320206288739888,
          0.827178004398201,
          0.812507814650407
         ],
         "y": [
          "vegan",
          "day",
          "new",
          "last",
          "food",
          "delicious",
          "veganuary",
          "one",
          "try",
          "recipe"
         ]
        }
       ],
       "layout": {
        "margin": {
         "pad": 10
        },
        "title": {
         "text": "Top 10 most famous words"
        },
        "width": 500,
        "xaxis": {
         "title": {
          "text": "Frequency of eah word in the tweets"
         }
        },
        "yaxis": {
         "automargin": true,
         "autorange": "reversed",
         "title": {
          "text": "10 most used words"
         }
        }
       }
      },
      "text/html": [
       "<div id=\"0df6bd18-9cd0-4a9e-aa22-17fd6e2f648a\" style=\"height: 525px; width: 500px;\" class=\"plotly-graph-div\"></div><script type=\"text/javascript\">require([\"plotly\"], function(Plotly) { window.PLOTLYENV=window.PLOTLYENV || {};window.PLOTLYENV.BASE_URL=\"https://plot.ly\";Plotly.newPlot(\"0df6bd18-9cd0-4a9e-aa22-17fd6e2f648a\", [{\"orientation\": \"h\", \"x\": [3.224190274931693, 1.8536718764059703, 1.8449381964372156, 1.5746478666973038, 1.4128048412468897, 1.357234990092079, 1.3193847659609814, 1.2800453514009493, 1.2390947477878538, 1.2358741330878116, 1.1622623157445657, 1.1622623157445657, 1.1376565049423655, 1.116072933275191, 1.1124299419966899, 1.0865504940088693, 1.0561298973081574, 1.0005600461533468, 0.9715725092800944, 0.9503402891743203, 0.9286474645630606, 0.9198368348809057, 0.9019792174808992, 0.8883735654251206, 0.8837968983977087, 0.860594001318045, 0.8320206288739888, 0.8320206288739888, 0.827178004398201, 0.812507814650407], \"y\": [\"vegan\", \"day\", \"new\", \"last\", \"food\", \"delicious\", \"veganuary\", \"one\", \"try\", \"recipe\"], \"type\": \"bar\", \"uid\": \"215639ba-3996-44ea-b808-6c6338fc3f21\"}], {\"margin\": {\"pad\": 10}, \"title\": {\"text\": \"Top 10 most famous words\"}, \"width\": 500, \"xaxis\": {\"title\": {\"text\": \"Frequency of eah word in the tweets\"}}, \"yaxis\": {\"automargin\": true, \"autorange\": \"reversed\", \"title\": {\"text\": \"10 most used words\"}}}, {\"showLink\": false, \"linkText\": \"Export to plot.ly\", \"plotlyServerURL\": \"https://plot.ly\"})});</script>"
      ],
      "text/vnd.plotly.v1+html": [
       "<div id=\"0df6bd18-9cd0-4a9e-aa22-17fd6e2f648a\" style=\"height: 525px; width: 500px;\" class=\"plotly-graph-div\"></div><script type=\"text/javascript\">require([\"plotly\"], function(Plotly) { window.PLOTLYENV=window.PLOTLYENV || {};window.PLOTLYENV.BASE_URL=\"https://plot.ly\";Plotly.newPlot(\"0df6bd18-9cd0-4a9e-aa22-17fd6e2f648a\", [{\"orientation\": \"h\", \"x\": [3.224190274931693, 1.8536718764059703, 1.8449381964372156, 1.5746478666973038, 1.4128048412468897, 1.357234990092079, 1.3193847659609814, 1.2800453514009493, 1.2390947477878538, 1.2358741330878116, 1.1622623157445657, 1.1622623157445657, 1.1376565049423655, 1.116072933275191, 1.1124299419966899, 1.0865504940088693, 1.0561298973081574, 1.0005600461533468, 0.9715725092800944, 0.9503402891743203, 0.9286474645630606, 0.9198368348809057, 0.9019792174808992, 0.8883735654251206, 0.8837968983977087, 0.860594001318045, 0.8320206288739888, 0.8320206288739888, 0.827178004398201, 0.812507814650407], \"y\": [\"vegan\", \"day\", \"new\", \"last\", \"food\", \"delicious\", \"veganuary\", \"one\", \"try\", \"recipe\"], \"type\": \"bar\", \"uid\": \"215639ba-3996-44ea-b808-6c6338fc3f21\"}], {\"margin\": {\"pad\": 10}, \"title\": {\"text\": \"Top 10 most famous words\"}, \"width\": 500, \"xaxis\": {\"title\": {\"text\": \"Frequency of eah word in the tweets\"}}, \"yaxis\": {\"automargin\": true, \"autorange\": \"reversed\", \"title\": {\"text\": \"10 most used words\"}}}, {\"showLink\": false, \"linkText\": \"Export to plot.ly\", \"plotlyServerURL\": \"https://plot.ly\"})});</script>"
      ]
     },
     "metadata": {},
     "output_type": "display_data"
    }
   ],
   "source": [
    "data = [Bar(\n",
    "        y=count['word'][0:10], # assign x as the dataframe column 'x'\n",
    "        x=log_wd, \n",
    "        orientation = 'h',\n",
    ")]\n",
    "\n",
    "layout = Layout(\n",
    "    title=\"Top 10 most famous words\",\n",
    "    xaxis=dict(title='Frequency of eah word in the tweets'),\n",
    "    yaxis=dict(title='10 most used words', automargin = True, autorange='reversed'),\n",
    "    margin=dict(pad=10), \n",
    "    width=500\n",
    ")\n",
    "\n",
    "fig = Figure(data=data, layout=layout)\n",
    "\n",
    "iplot(fig)"
   ]
  },
  {
   "cell_type": "code",
   "execution_count": 383,
   "metadata": {
    "scrolled": true
   },
   "outputs": [
    {
     "data": {
      "application/vnd.plotly.v1+json": {
       "config": {
        "linkText": "Export to plot.ly",
        "plotlyServerURL": "https://plot.ly",
        "showLink": false
       },
       "data": [
        {
         "orientation": "h",
         "type": "bar",
         "uid": "75cc2311-8167-4ff8-92b9-25dff8b0099f",
         "x": [
          42.51776198934281,
          23.789964476021314,
          14.065275310834814,
          3.7189165186500888,
          3.197158081705151,
          1.7984014209591477,
          1.6540852575488454,
          1.1767317939609236,
          0.9880106571936057,
          0.9103019538188277
         ],
         "y": [
          "#veganuary",
          "#vegan",
          "#veganuary2019",
          "#plantbased",
          "#govegan",
          "#veganism",
          "#veganfood",
          "#vegetarian",
          "#animalrights",
          "#win"
         ]
        }
       ],
       "layout": {
        "margin": {
         "pad": 10
        },
        "title": {
         "text": "Top 10 most famous hashtags"
        },
        "width": 500,
        "xaxis": {
         "title": {
          "text": "Frequency of eah hashtag in the tweets (%)"
         }
        },
        "yaxis": {
         "automargin": true,
         "autorange": "reversed",
         "title": {
          "text": "10 most used hashtags"
         }
        }
       }
      },
      "text/html": [
       "<div id=\"c3161649-b8b2-479d-85e6-ad73652db389\" style=\"height: 525px; width: 500px;\" class=\"plotly-graph-div\"></div><script type=\"text/javascript\">require([\"plotly\"], function(Plotly) { window.PLOTLYENV=window.PLOTLYENV || {};window.PLOTLYENV.BASE_URL=\"https://plot.ly\";Plotly.newPlot(\"c3161649-b8b2-479d-85e6-ad73652db389\", [{\"orientation\": \"h\", \"x\": [42.51776198934281, 23.789964476021314, 14.065275310834814, 3.7189165186500888, 3.197158081705151, 1.7984014209591477, 1.6540852575488454, 1.1767317939609236, 0.9880106571936057, 0.9103019538188277], \"y\": [\"#veganuary\", \"#vegan\", \"#veganuary2019\", \"#plantbased\", \"#govegan\", \"#veganism\", \"#veganfood\", \"#vegetarian\", \"#animalrights\", \"#win\"], \"type\": \"bar\", \"uid\": \"75cc2311-8167-4ff8-92b9-25dff8b0099f\"}], {\"margin\": {\"pad\": 10}, \"title\": {\"text\": \"Top 10 most famous hashtags\"}, \"width\": 500, \"xaxis\": {\"title\": {\"text\": \"Frequency of eah hashtag in the tweets (%)\"}}, \"yaxis\": {\"automargin\": true, \"autorange\": \"reversed\", \"title\": {\"text\": \"10 most used hashtags\"}}}, {\"showLink\": false, \"linkText\": \"Export to plot.ly\", \"plotlyServerURL\": \"https://plot.ly\"})});</script>"
      ],
      "text/vnd.plotly.v1+html": [
       "<div id=\"c3161649-b8b2-479d-85e6-ad73652db389\" style=\"height: 525px; width: 500px;\" class=\"plotly-graph-div\"></div><script type=\"text/javascript\">require([\"plotly\"], function(Plotly) { window.PLOTLYENV=window.PLOTLYENV || {};window.PLOTLYENV.BASE_URL=\"https://plot.ly\";Plotly.newPlot(\"c3161649-b8b2-479d-85e6-ad73652db389\", [{\"orientation\": \"h\", \"x\": [42.51776198934281, 23.789964476021314, 14.065275310834814, 3.7189165186500888, 3.197158081705151, 1.7984014209591477, 1.6540852575488454, 1.1767317939609236, 0.9880106571936057, 0.9103019538188277], \"y\": [\"#veganuary\", \"#vegan\", \"#veganuary2019\", \"#plantbased\", \"#govegan\", \"#veganism\", \"#veganfood\", \"#vegetarian\", \"#animalrights\", \"#win\"], \"type\": \"bar\", \"uid\": \"75cc2311-8167-4ff8-92b9-25dff8b0099f\"}], {\"margin\": {\"pad\": 10}, \"title\": {\"text\": \"Top 10 most famous hashtags\"}, \"width\": 500, \"xaxis\": {\"title\": {\"text\": \"Frequency of eah hashtag in the tweets (%)\"}}, \"yaxis\": {\"automargin\": true, \"autorange\": \"reversed\", \"title\": {\"text\": \"10 most used hashtags\"}}}, {\"showLink\": false, \"linkText\": \"Export to plot.ly\", \"plotlyServerURL\": \"https://plot.ly\"})});</script>"
      ]
     },
     "metadata": {},
     "output_type": "display_data"
    }
   ],
   "source": [
    "data = [Bar(\n",
    "        y=count['hashtag'][0:10], # assign x as the dataframe column 'x'\n",
    "        x=count['freq_hashtags %'][0:10], \n",
    "        orientation = 'h',\n",
    ")]\n",
    "\n",
    "layout = Layout(\n",
    "    title=\"Top 10 most famous hashtags\",\n",
    "    xaxis=dict(title='Frequency of eah hashtag in the tweets (%)'),\n",
    "    yaxis=dict(title='10 most used hashtags', automargin = True, autorange='reversed'),\n",
    "    margin=dict(pad=10), \n",
    "    width = 500\n",
    ")\n",
    "\n",
    "fig = Figure(data=data, layout=layout)\n",
    "\n",
    "iplot(fig)"
   ]
  },
  {
   "cell_type": "code",
   "execution_count": 392,
   "metadata": {},
   "outputs": [
    {
     "data": {
      "application/vnd.plotly.v1+json": {
       "config": {
        "linkText": "Export to plot.ly",
        "plotlyServerURL": "https://plot.ly",
        "showLink": false
       },
       "data": [
        {
         "orientation": "h",
         "type": "bar",
         "uid": "4b7483d2-1688-4190-a824-12432ab902c2",
         "x": [
          3.7499219177833116,
          3.169263831082197,
          2.6437090159297587,
          1.313432367433686,
          1.1622623157445657,
          0.5868981708410039,
          0.5032481415540788,
          0.1627409297206869,
          -0.012061794659240396,
          -0.09397891712712712,
          -0.11867152971749875,
          -0.15689274253769653,
          -0.22403204537532492,
          -0.29600554500041415,
          -0.29600554500041415,
          -0.4933649791589093,
          -0.4933649791589093,
          -0.7165085304731189,
          -0.7394980486978178,
          -0.7871260976870724,
          -0.811818710277444,
          -0.811818710277444,
          -0.8631120046649945,
          -0.9453501029019665,
          -1.0041906029249,
          -1.0349622615916536,
          -1.0349622615916536,
          -1.0349622615916536,
          -1.0349622615916536,
          -1.0349622615916536
         ],
         "y": [
          "#veganuary",
          "#vegan",
          "#veganuary2019",
          "#plantbased",
          "#govegan",
          "#veganism",
          "#veganfood",
          "#vegetarian",
          "#animalrights",
          "#win"
         ]
        }
       ],
       "layout": {
        "margin": {
         "pad": 10
        },
        "title": {
         "text": "Top 10 most famous hashtags"
        },
        "width": 500,
        "xaxis": {
         "title": {
          "text": "Frequency of eah hashtag in the tweets (%)"
         }
        },
        "yaxis": {
         "automargin": true,
         "autorange": "reversed",
         "title": {
          "text": "10 most used hashtags"
         }
        }
       }
      },
      "text/html": [
       "<div id=\"14fc54d0-ce28-4138-a5d2-b6d96d05005a\" style=\"height: 525px; width: 500px;\" class=\"plotly-graph-div\"></div><script type=\"text/javascript\">require([\"plotly\"], function(Plotly) { window.PLOTLYENV=window.PLOTLYENV || {};window.PLOTLYENV.BASE_URL=\"https://plot.ly\";Plotly.newPlot(\"14fc54d0-ce28-4138-a5d2-b6d96d05005a\", [{\"orientation\": \"h\", \"x\": [3.7499219177833116, 3.169263831082197, 2.6437090159297587, 1.313432367433686, 1.1622623157445657, 0.5868981708410039, 0.5032481415540788, 0.1627409297206869, -0.012061794659240396, -0.09397891712712712, -0.11867152971749875, -0.15689274253769653, -0.22403204537532492, -0.29600554500041415, -0.29600554500041415, -0.4933649791589093, -0.4933649791589093, -0.7165085304731189, -0.7394980486978178, -0.7871260976870724, -0.811818710277444, -0.811818710277444, -0.8631120046649945, -0.9453501029019665, -1.0041906029249, -1.0349622615916536, -1.0349622615916536, -1.0349622615916536, -1.0349622615916536, -1.0349622615916536], \"y\": [\"#veganuary\", \"#vegan\", \"#veganuary2019\", \"#plantbased\", \"#govegan\", \"#veganism\", \"#veganfood\", \"#vegetarian\", \"#animalrights\", \"#win\"], \"type\": \"bar\", \"uid\": \"4b7483d2-1688-4190-a824-12432ab902c2\"}], {\"margin\": {\"pad\": 10}, \"title\": {\"text\": \"Top 10 most famous hashtags\"}, \"width\": 500, \"xaxis\": {\"title\": {\"text\": \"Frequency of eah hashtag in the tweets (%)\"}}, \"yaxis\": {\"automargin\": true, \"autorange\": \"reversed\", \"title\": {\"text\": \"10 most used hashtags\"}}}, {\"showLink\": false, \"linkText\": \"Export to plot.ly\", \"plotlyServerURL\": \"https://plot.ly\"})});</script>"
      ],
      "text/vnd.plotly.v1+html": [
       "<div id=\"14fc54d0-ce28-4138-a5d2-b6d96d05005a\" style=\"height: 525px; width: 500px;\" class=\"plotly-graph-div\"></div><script type=\"text/javascript\">require([\"plotly\"], function(Plotly) { window.PLOTLYENV=window.PLOTLYENV || {};window.PLOTLYENV.BASE_URL=\"https://plot.ly\";Plotly.newPlot(\"14fc54d0-ce28-4138-a5d2-b6d96d05005a\", [{\"orientation\": \"h\", \"x\": [3.7499219177833116, 3.169263831082197, 2.6437090159297587, 1.313432367433686, 1.1622623157445657, 0.5868981708410039, 0.5032481415540788, 0.1627409297206869, -0.012061794659240396, -0.09397891712712712, -0.11867152971749875, -0.15689274253769653, -0.22403204537532492, -0.29600554500041415, -0.29600554500041415, -0.4933649791589093, -0.4933649791589093, -0.7165085304731189, -0.7394980486978178, -0.7871260976870724, -0.811818710277444, -0.811818710277444, -0.8631120046649945, -0.9453501029019665, -1.0041906029249, -1.0349622615916536, -1.0349622615916536, -1.0349622615916536, -1.0349622615916536, -1.0349622615916536], \"y\": [\"#veganuary\", \"#vegan\", \"#veganuary2019\", \"#plantbased\", \"#govegan\", \"#veganism\", \"#veganfood\", \"#vegetarian\", \"#animalrights\", \"#win\"], \"type\": \"bar\", \"uid\": \"4b7483d2-1688-4190-a824-12432ab902c2\"}], {\"margin\": {\"pad\": 10}, \"title\": {\"text\": \"Top 10 most famous hashtags\"}, \"width\": 500, \"xaxis\": {\"title\": {\"text\": \"Frequency of eah hashtag in the tweets (%)\"}}, \"yaxis\": {\"automargin\": true, \"autorange\": \"reversed\", \"title\": {\"text\": \"10 most used hashtags\"}}}, {\"showLink\": false, \"linkText\": \"Export to plot.ly\", \"plotlyServerURL\": \"https://plot.ly\"})});</script>"
      ]
     },
     "metadata": {},
     "output_type": "display_data"
    }
   ],
   "source": [
    "data = [Bar(\n",
    "        y=count['hashtag'][0:10], # assign x as the dataframe column 'x'\n",
    "        x=log_ht, \n",
    "        orientation = 'h',\n",
    ")]\n",
    "\n",
    "layout = Layout(\n",
    "    title=\"Top 10 most famous hashtags\",\n",
    "    xaxis=dict(title='Frequency of eah hashtag in the tweets (%)'),\n",
    "    yaxis=dict(title='10 most used hashtags', automargin = True, autorange='reversed'),\n",
    "    margin=dict(pad=10), \n",
    "    width = 500\n",
    ")\n",
    "\n",
    "fig = Figure(data=data, layout=layout)\n",
    "\n",
    "iplot(fig)"
   ]
  },
  {
   "cell_type": "markdown",
   "metadata": {},
   "source": [
    "### Word2Vec"
   ]
  },
  {
   "cell_type": "code",
   "execution_count": null,
   "metadata": {},
   "outputs": [],
   "source": [
    "from gensim.models import word2vec"
   ]
  },
  {
   "cell_type": "markdown",
   "metadata": {},
   "source": [
    "NLP - Natural Language Processing\n",
    "\n",
    "Goal: Enable computer to fully understand various language"
   ]
  },
  {
   "cell_type": "markdown",
   "metadata": {},
   "source": [
    "What is Word2vec?\n",
    "- Models use to produce word embeddings (words, sentences from a vocabulary are mapped to vectors of real numbers). Algorithm created by Tomas Mikolov's team at Goggle. \n",
    "- Main Idea: Find similarity of words\n",
    "- Core Assumption: Meaning of words is affected by the words around it. \n",
    "\n",
    "Steps and Techniques for Word2Vec:\n",
    "\n",
    "I. Continuous Bag of Words (CBOW):\n",
    "- Input: Context of the neighboring words\n",
    "- Output: Target word\n",
    "- Window: Limit the number of words in each context\n",
    "\n",
    "II. Skip Gram:\n",
    "- Input: Target word\n",
    "- Output: Context of the neighboring words\n",
    "- Window: Limit the number of words in each context\n",
    "\n",
    "III. Steps:\n",
    "- Chose the techniques (CBOW or Skip Gram), this will determine how to run Word2Vec algorithm\n",
    "- Create a corpus of text (the input). Here the corpus will be the list of all clean tweets. \n",
    "- Produce a vector space: Each words of the corpus is assigned to its corresponding vector.\n",
    "- Position the words vectors such that words with common contexts are closed to one another is the space. \n",
    "\n",
    "Why is it interesting to use Word2Vec? \n",
    "- The meaning of a word is usually influenced by the other words used in the sentence! Imagine, we have two words that are closely related to one another, the words show then some similarity. Here, we could think about the words \"vegan\" and \"plant-based\", both used to describe food that does not come from any animals.\n",
    "- How to know which words present similarity? How to find words that are closely related to each other? How to find the categories of these words automatically?\n",
    "\n",
    "Word2Vec Model:\n",
    "- Center word: Word which chose to focus on\n",
    "- Context words: Words around the center word\n",
    "- Size: Dimensionality of the vector. Higher the size, denser the embeddings.\n",
    "- Window: Define the number of context word\n",
    "- Min-count: Threshold value, word with frequency below min-count are dropped before training occurs, they wont be included into the model.\n",
    "- Workers: Used for parallelization"
   ]
  },
  {
   "cell_type": "markdown",
   "metadata": {},
   "source": [
    "#### Specific comments on this analysis!"
   ]
  },
  {
   "cell_type": "markdown",
   "metadata": {},
   "source": [
    "What is the purpose of using Word2Vec? \n",
    "- Core Objectif: Understand the context of specific word. What do twitters associated with words such as 'veganuary', 'veganism' or 'plantbased'. \n",
    "- Method: Skip-Gram - Prediction of the context given a word\n",
    "- Note: Training of our own word vectors"
   ]
  },
  {
   "cell_type": "code",
   "execution_count": 437,
   "metadata": {
    "scrolled": true
   },
   "outputs": [
    {
     "data": {
      "text/html": [
       "<div>\n",
       "<style scoped>\n",
       "    .dataframe tbody tr th:only-of-type {\n",
       "        vertical-align: middle;\n",
       "    }\n",
       "\n",
       "    .dataframe tbody tr th {\n",
       "        vertical-align: top;\n",
       "    }\n",
       "\n",
       "    .dataframe thead th {\n",
       "        text-align: right;\n",
       "    }\n",
       "</style>\n",
       "<table border=\"1\" class=\"dataframe\">\n",
       "  <thead>\n",
       "    <tr style=\"text-align: right;\">\n",
       "      <th></th>\n",
       "      <th>Date</th>\n",
       "      <th>UserID</th>\n",
       "      <th>UserScreenName</th>\n",
       "      <th>Text</th>\n",
       "      <th>UserLocation</th>\n",
       "      <th>retweet_count</th>\n",
       "      <th>UserFollowers</th>\n",
       "      <th>UserFriends</th>\n",
       "      <th>UserLanguage</th>\n",
       "      <th>RetweetUserName</th>\n",
       "      <th>...</th>\n",
       "      <th>tokenText</th>\n",
       "      <th>noStopWords</th>\n",
       "      <th>tokenTextnoStop</th>\n",
       "      <th>tokenCount</th>\n",
       "      <th>clean_no_hashtags</th>\n",
       "      <th>tokenNoHastags</th>\n",
       "      <th>tokenNoHastags_Count</th>\n",
       "      <th>NoHastags_NoStopWords</th>\n",
       "      <th>Token_NoHastags_NoStopWords</th>\n",
       "      <th>words_analysis</th>\n",
       "    </tr>\n",
       "  </thead>\n",
       "  <tbody>\n",
       "    <tr>\n",
       "      <th>0</th>\n",
       "      <td>2019-01-28 23:05:53</td>\n",
       "      <td>1133610576</td>\n",
       "      <td>MarymoBelfast</td>\n",
       "      <td>rt @leedowningkeat: why im still vegan. share and watch this to counteract the ex vegan trend#whyimstillvegan #f</td>\n",
       "      <td>Ireland</td>\n",
       "      <td>6</td>\n",
       "      <td>12498</td>\n",
       "      <td>12525</td>\n",
       "      <td>en</td>\n",
       "      <td>lee downing keat</td>\n",
       "      <td>...</td>\n",
       "      <td>[rt, leedowningkeat, why, im, still, vegan, share, and, watch, this, to, counteract, the, ex, vegan, trendwhyimstillvegan, f]</td>\n",
       "      <td>rt leedowningkeat im still vegan share watch counteract ex vegan trendwhyimstillvegan f</td>\n",
       "      <td>[rt, leedowningkeat, im, still, vegan, share, watch, counteract, ex, vegan, trendwhyimstillvegan, f]</td>\n",
       "      <td>17</td>\n",
       "      <td>rt  why im still vegan share and watch this to counteract the ex vegan trend</td>\n",
       "      <td>[rt, why, im, still, vegan, share, and, watch, this, to, counteract, the, ex, vegan, trend]</td>\n",
       "      <td>15</td>\n",
       "      <td>rt im still vegan share watch counteract ex vegan trend</td>\n",
       "      <td>[rt, im, still, vegan, share, watch, counteract, ex, vegan, trend]</td>\n",
       "      <td>im still vegan share watch counteract ex vegan trend</td>\n",
       "    </tr>\n",
       "    <tr>\n",
       "      <th>1</th>\n",
       "      <td>2019-01-28 23:03:51</td>\n",
       "      <td>1088500218964828160</td>\n",
       "      <td>Lilly84914614</td>\n",
       "      <td>rt @xvx_food: lunch today was the @marksandspencer sweet potato biryani wrap and some of their salted tortilla chips, it was absolutely del</td>\n",
       "      <td>NaN</td>\n",
       "      <td>0</td>\n",
       "      <td>3</td>\n",
       "      <td>17</td>\n",
       "      <td>en</td>\n",
       "      <td>Vegan Food Only Ⓥ</td>\n",
       "      <td>...</td>\n",
       "      <td>[rt, xvxfood, lunch, today, was, the, marksandspencer, sweet, potato, biryani, wrap, and, some, of, their, salted, tortilla, chips, it, was, absolutely, del]</td>\n",
       "      <td>rt xvxfood lunch today marksandspencer sweet potato biryani wrap salted tortilla chips absolutely del</td>\n",
       "      <td>[rt, xvxfood, lunch, today, marksandspencer, sweet, potato, biryani, wrap, salted, tortilla, chips, absolutely, del]</td>\n",
       "      <td>22</td>\n",
       "      <td>rt  lunch today was the  sweet potato biryani wrap and some of their salted tortilla chips it was absolutely del</td>\n",
       "      <td>[rt, lunch, today, was, the, sweet, potato, biryani, wrap, and, some, of, their, salted, tortilla, chips, it, was, absolutely, del]</td>\n",
       "      <td>20</td>\n",
       "      <td>rt lunch today sweet potato biryani wrap salted tortilla chips absolutely del</td>\n",
       "      <td>[rt, lunch, today, sweet, potato, biryani, wrap, salted, tortilla, chips, absolutely, del]</td>\n",
       "      <td>lunch today sweet potato biryani wrap salted tortilla chips absolutely del</td>\n",
       "    </tr>\n",
       "  </tbody>\n",
       "</table>\n",
       "<p>2 rows × 32 columns</p>\n",
       "</div>"
      ],
      "text/plain": [
       "                  Date               UserID UserScreenName  \\\n",
       "0  2019-01-28 23:05:53           1133610576  MarymoBelfast   \n",
       "1  2019-01-28 23:03:51  1088500218964828160  Lilly84914614   \n",
       "\n",
       "                                                                                                                                          Text  \\\n",
       "0                             rt @leedowningkeat: why im still vegan. share and watch this to counteract the ex vegan trend#whyimstillvegan #f   \n",
       "1  rt @xvx_food: lunch today was the @marksandspencer sweet potato biryani wrap and some of their salted tortilla chips, it was absolutely del   \n",
       "\n",
       "  UserLocation  retweet_count  UserFollowers  UserFriends UserLanguage  \\\n",
       "0      Ireland              6          12498        12525           en   \n",
       "1          NaN              0              3           17           en   \n",
       "\n",
       "     RetweetUserName  ...  \\\n",
       "0   lee downing keat  ...   \n",
       "1  Vegan Food Only Ⓥ  ...   \n",
       "\n",
       "                                                                                                                                                       tokenText  \\\n",
       "0                                  [rt, leedowningkeat, why, im, still, vegan, share, and, watch, this, to, counteract, the, ex, vegan, trendwhyimstillvegan, f]   \n",
       "1  [rt, xvxfood, lunch, today, was, the, marksandspencer, sweet, potato, biryani, wrap, and, some, of, their, salted, tortilla, chips, it, was, absolutely, del]   \n",
       "\n",
       "                                                                                             noStopWords  \\\n",
       "0                rt leedowningkeat im still vegan share watch counteract ex vegan trendwhyimstillvegan f   \n",
       "1  rt xvxfood lunch today marksandspencer sweet potato biryani wrap salted tortilla chips absolutely del   \n",
       "\n",
       "                                                                                                        tokenTextnoStop  \\\n",
       "0                  [rt, leedowningkeat, im, still, vegan, share, watch, counteract, ex, vegan, trendwhyimstillvegan, f]   \n",
       "1  [rt, xvxfood, lunch, today, marksandspencer, sweet, potato, biryani, wrap, salted, tortilla, chips, absolutely, del]   \n",
       "\n",
       "  tokenCount  \\\n",
       "0         17   \n",
       "1         22   \n",
       "\n",
       "                                                                                                  clean_no_hashtags  \\\n",
       "0                                     rt  why im still vegan share and watch this to counteract the ex vegan trend    \n",
       "1  rt  lunch today was the  sweet potato biryani wrap and some of their salted tortilla chips it was absolutely del   \n",
       "\n",
       "                                                                                                                        tokenNoHastags  \\\n",
       "0                                          [rt, why, im, still, vegan, share, and, watch, this, to, counteract, the, ex, vegan, trend]   \n",
       "1  [rt, lunch, today, was, the, sweet, potato, biryani, wrap, and, some, of, their, salted, tortilla, chips, it, was, absolutely, del]   \n",
       "\n",
       "   tokenNoHastags_Count  \\\n",
       "0                    15   \n",
       "1                    20   \n",
       "\n",
       "                                                           NoHastags_NoStopWords  \\\n",
       "0                        rt im still vegan share watch counteract ex vegan trend   \n",
       "1  rt lunch today sweet potato biryani wrap salted tortilla chips absolutely del   \n",
       "\n",
       "                                                                  Token_NoHastags_NoStopWords  \\\n",
       "0                          [rt, im, still, vegan, share, watch, counteract, ex, vegan, trend]   \n",
       "1  [rt, lunch, today, sweet, potato, biryani, wrap, salted, tortilla, chips, absolutely, del]   \n",
       "\n",
       "                                                               words_analysis  \n",
       "0                        im still vegan share watch counteract ex vegan trend  \n",
       "1  lunch today sweet potato biryani wrap salted tortilla chips absolutely del  \n",
       "\n",
       "[2 rows x 32 columns]"
      ]
     },
     "execution_count": 437,
     "metadata": {},
     "output_type": "execute_result"
    }
   ],
   "source": [
    "twittertext_nohastags.head(2)"
   ]
  },
  {
   "cell_type": "code",
   "execution_count": 420,
   "metadata": {},
   "outputs": [],
   "source": [
    "# Create a list of all the words to pass it on the Word2Vec model. \n",
    "twittertext_nohastags.= list(twittertext_nohastags['Token_NoHastags_NoStopWords'])\n",
    "list_hashtags = list(twittertext_nohastags['tokenNoHastags'])"
   ]
  },
  {
   "cell_type": "code",
   "execution_count": 441,
   "metadata": {},
   "outputs": [
    {
     "name": "stdout",
     "output_type": "stream",
     "text": [
      "[['rt', 'im', 'still', 'vegan', 'share', 'watch', 'counteract', 'ex', 'vegan', 'trend'], ['rt', 'lunch', 'today', 'sweet', 'potato', 'biryani', 'wrap', 'salted', 'tortilla', 'chips', 'absolutely', 'del'], ['angel', 'kind', 'im', 'taking', 'via']]\n",
      "\n",
      "[['rt', 'leedowningkeat', 'im', 'still', 'vegan', 'share', 'watch', 'counteract', 'ex', 'vegan', 'trendwhyimstillvegan', 'f'], ['rt', 'xvxfood', 'lunch', 'today', 'marksandspencer', 'sweet', 'potato', 'biryani', 'wrap', 'salted', 'tortilla', 'chips', 'absolutely', 'del'], ['angel', 'kind', 'mondaymotivaton', 'im', 'taking', 'via', 'bbcnews']]\n"
     ]
    }
   ],
   "source": [
    "# Have a look to understand what the structure of a corpus look like!\n",
    "print(list_nohashtags[0:3])\n",
    "print()\n",
    "print(list_hashtags[0:3])"
   ]
  },
  {
   "cell_type": "code",
   "execution_count": 400,
   "metadata": {},
   "outputs": [
    {
     "name": "stdout",
     "output_type": "stream",
     "text": [
      "9008\n",
      "9008\n"
     ]
    }
   ],
   "source": [
    "# How many tweets are part of the corpus (list of tweets)\n",
    "print(len(list_nohashtags))\n",
    "print(len(list_hashtags))"
   ]
  },
  {
   "cell_type": "markdown",
   "metadata": {},
   "source": [
    "### Corpus without hashtags!"
   ]
  },
  {
   "cell_type": "code",
   "execution_count": 529,
   "metadata": {},
   "outputs": [
    {
     "data": {
      "text/plain": [
       "(257283, 761390)"
      ]
     },
     "execution_count": 529,
     "metadata": {},
     "output_type": "execute_result"
    }
   ],
   "source": [
    "# Build the Word2Vec model\n",
    "model = gensim.models.Word2Vec(\n",
    "        list_nohashtags,\n",
    "        size=100,\n",
    "        window=10,\n",
    "        min_count=40,\n",
    "        workers=10)\n",
    "model.train(list_nohashtags, total_examples=len(list_nohashtags), epochs=10)"
   ]
  },
  {
   "cell_type": "code",
   "execution_count": 530,
   "metadata": {
    "scrolled": false
   },
   "outputs": [
    {
     "data": {
      "text/plain": [
       "[('many', 0.9924602508544922),\n",
       " ('plantbased', 0.9915207624435425),\n",
       " ('diet', 0.9890055656433105),\n",
       " ('may', 0.9861971139907837),\n",
       " ('year', 0.9847494959831238),\n",
       " ('2019', 0.9843831062316895),\n",
       " ('people', 0.9840497970581055),\n",
       " ('youre', 0.9818935394287109),\n",
       " ('going', 0.9800825715065002),\n",
       " ('record', 0.9796152114868164)]"
      ]
     },
     "execution_count": 530,
     "metadata": {},
     "output_type": "execute_result"
    }
   ],
   "source": [
    "w1 = 'veganism'\n",
    "model.wv.most_similar(positive=w1)"
   ]
  },
  {
   "cell_type": "code",
   "execution_count": 497,
   "metadata": {},
   "outputs": [
    {
     "data": {
      "text/plain": [
       "[('many', 0.9917755722999573),\n",
       " ('plantbased', 0.9864330887794495),\n",
       " ('giving', 0.9834609031677246),\n",
       " ('2019', 0.9826610088348389),\n",
       " ('diet', 0.9820951223373413),\n",
       " ('years', 0.9797593951225281),\n",
       " ('people', 0.9794033169746399),\n",
       " ('may', 0.9759827852249146),\n",
       " ('thought', 0.9743541479110718),\n",
       " ('year', 0.9740289449691772)]"
      ]
     },
     "execution_count": 497,
     "metadata": {},
     "output_type": "execute_result"
    }
   ],
   "source": [
    "w1 = 'veganism'\n",
    "model.wv.most_similar(positive=w1)"
   ]
  },
  {
   "cell_type": "code",
   "execution_count": 510,
   "metadata": {},
   "outputs": [
    {
     "data": {
      "text/plain": [
       "[('recipes', 0.9545639157295227),\n",
       " ('fancy', 0.9501673579216003),\n",
       " ('available', 0.9491777420043945),\n",
       " ('100', 0.9476940035820007),\n",
       " ('dark', 0.9474703073501587),\n",
       " ('cafe', 0.9471277594566345),\n",
       " ('course', 0.9459956288337708),\n",
       " ('cakes', 0.9458357691764832),\n",
       " ('yet', 0.9452208280563354),\n",
       " ('including', 0.9449727535247803)]"
      ]
     },
     "execution_count": 510,
     "metadata": {},
     "output_type": "execute_result"
    }
   ],
   "source": [
    "w2 = 'vegan'\n",
    "model.wv.most_similar(positive=w2)"
   ]
  },
  {
   "cell_type": "code",
   "execution_count": 512,
   "metadata": {},
   "outputs": [
    {
     "data": {
      "text/plain": [
       "[('guide', 0.9867604970932007),\n",
       " ('save', 0.9860968589782715),\n",
       " ('life', 0.9856224656105042),\n",
       " ('foods', 0.9855179786682129),\n",
       " ('slaughter', 0.9844403862953186),\n",
       " ('join', 0.9837546944618225),\n",
       " ('please', 0.9836490154266357),\n",
       " ('since', 0.9835818409919739),\n",
       " ('launches', 0.9833881855010986),\n",
       " ('believe', 0.9833212494850159)]"
      ]
     },
     "execution_count": 512,
     "metadata": {},
     "output_type": "execute_result"
    }
   ],
   "source": [
    "w3 = 'food'\n",
    "model.wv.most_similar(positive=w3)"
   ]
  },
  {
   "cell_type": "code",
   "execution_count": 550,
   "metadata": {
    "scrolled": true
   },
   "outputs": [
    {
     "data": {
      "text/plain": [
       "array([ 0.08303521,  0.0701109 ,  0.01734888,  0.07978216,  0.09916683,\n",
       "        0.11882699, -0.20947507,  0.10473447, -0.0254587 , -0.19821899,\n",
       "        0.08498698, -0.0369148 ,  0.17623807, -0.13367681, -0.2592665 ,\n",
       "       -0.06546442,  0.11428049,  0.00933168, -0.03410958, -0.18457171,\n",
       "       -0.09273828,  0.02264551, -0.04667592,  0.01511203, -0.16952163,\n",
       "       -0.07463797,  0.09531136, -0.13707991, -0.15467416, -0.04521642,\n",
       "        0.2486879 ,  0.07507189, -0.06216909,  0.13587153,  0.12092968,\n",
       "        0.07196242,  0.01598738, -0.08981488, -0.03119463,  0.11316884,\n",
       "        0.0235993 ,  0.09984357, -0.03814071, -0.07912076, -0.04860257,\n",
       "       -0.09277829,  0.00867034,  0.10011549, -0.00461723,  0.08129141,\n",
       "       -0.18844996,  0.09994388,  0.10017519, -0.01638502, -0.18030371,\n",
       "        0.13647935, -0.07959282,  0.01100311, -0.07819349,  0.15650699,\n",
       "       -0.0272833 ,  0.03270189, -0.11755508, -0.07573809,  0.03789881,\n",
       "       -0.17702647, -0.00553805, -0.04922303,  0.00878066,  0.05318183,\n",
       "        0.18919763, -0.0302056 ,  0.09907749,  0.01373989,  0.02867124,\n",
       "        0.10641957, -0.11179804,  0.01767686, -0.15025155, -0.0130869 ,\n",
       "        0.02333259,  0.18355241, -0.00107833,  0.10223649, -0.17541268,\n",
       "       -0.20411217, -0.00694552, -0.05318801,  0.13364632,  0.0511063 ,\n",
       "       -0.07013057, -0.02163501, -0.07989707, -0.06251198, -0.25282606,\n",
       "        0.10117097,  0.04244951, -0.08370257, -0.02958587,  0.05040215,\n",
       "       -0.04077485, -0.10411305, -0.048266  , -0.01118194, -0.03387288,\n",
       "        0.07709779, -0.0293221 , -0.11336923,  0.04897004,  0.20696695,\n",
       "        0.05105659, -0.10877396, -0.15852916,  0.12213316, -0.04545967,\n",
       "        0.07109337,  0.07779761, -0.12797374,  0.06433643, -0.0773967 ,\n",
       "       -0.06641664, -0.0534265 , -0.05972786,  0.10008356, -0.04577944,\n",
       "        0.0095311 , -0.08865169, -0.13221404,  0.08984235,  0.12772082,\n",
       "       -0.122312  , -0.05112492,  0.04427384, -0.16907243,  0.11276429,\n",
       "       -0.11856249,  0.1455409 , -0.09570391, -0.06955032, -0.19677465,\n",
       "       -0.06210239, -0.01423864, -0.03695665, -0.04360736, -0.16655488,\n",
       "       -0.14777772, -0.09505012, -0.04288743,  0.0241889 , -0.08085571,\n",
       "       -0.02714312, -0.00656499,  0.07141101, -0.0023015 ,  0.06063476,\n",
       "        0.03947081,  0.01146065, -0.06786912,  0.04968208, -0.03728755,\n",
       "       -0.18966778, -0.06077381,  0.04986838,  0.10101929,  0.09030789,\n",
       "       -0.00494963,  0.1578081 ,  0.01456638,  0.22651452,  0.05488536,\n",
       "        0.08525612,  0.00676893, -0.08881107, -0.06275381,  0.13159475,\n",
       "       -0.04497647,  0.02946369, -0.00445034, -0.02404589,  0.10819899,\n",
       "       -0.00940648,  0.20946252, -0.10730384, -0.10200679,  0.07628869,\n",
       "       -0.18341829,  0.11265404, -0.10382845,  0.08566658,  0.12109557,\n",
       "        0.08979046,  0.1191562 ,  0.02692957,  0.18311235,  0.07505029,\n",
       "        0.02804043, -0.08961207,  0.13764994, -0.00084173, -0.11071935,\n",
       "        0.12632686, -0.05679129,  0.01723495, -0.0827031 ,  0.03627646,\n",
       "        0.02754518,  0.03037766, -0.07481729,  0.21104005, -0.03369918,\n",
       "        0.02981731, -0.0143929 , -0.04946868, -0.16933517, -0.02182744,\n",
       "       -0.12153932,  0.04885649, -0.08756152,  0.11082456,  0.00171445,\n",
       "        0.16337486,  0.03386282, -0.0686269 ,  0.08014085,  0.05662438,\n",
       "       -0.00118942,  0.09676779,  0.1234396 , -0.06321681,  0.29935482,\n",
       "       -0.13214573, -0.01689921, -0.08508518, -0.0087111 , -0.0961992 ,\n",
       "        0.00324315,  0.11036301, -0.0732444 , -0.07747826, -0.07359881,\n",
       "       -0.07284098, -0.02260575,  0.2671061 , -0.09590915, -0.13844857,\n",
       "       -0.03516841, -0.03557057, -0.22809486, -0.18694197,  0.01278054,\n",
       "       -0.02989632,  0.3040339 , -0.02648401, -0.07393387,  0.14430176,\n",
       "        0.08759031,  0.09518789,  0.016735  ,  0.02134208, -0.06114785,\n",
       "       -0.05778903, -0.1985774 ,  0.03453988,  0.20995063,  0.04618089,\n",
       "       -0.00819093, -0.04815983,  0.02521876, -0.01861861, -0.07964312,\n",
       "       -0.10445853,  0.11880529,  0.08481715, -0.00709103, -0.05203666,\n",
       "       -0.13079554,  0.00563929,  0.07983645, -0.10610433,  0.13440242,\n",
       "       -0.10750323,  0.26437318, -0.01091605, -0.18619426, -0.10219309,\n",
       "       -0.1508227 ,  0.0570891 ,  0.08964798,  0.05934184, -0.25038594,\n",
       "       -0.06967133, -0.10790837,  0.08635923, -0.08834966, -0.0216355 ,\n",
       "       -0.05307634,  0.06420984, -0.16577601, -0.09036377,  0.07509767],\n",
       "      dtype=float32)"
      ]
     },
     "execution_count": 550,
     "metadata": {},
     "output_type": "execute_result"
    }
   ],
   "source": [
    "# Build the vocabulary\n",
    "model = word2vec.Word2Vec(list_nohashtags, \n",
    "                          size=300, \n",
    "                          window=10, \n",
    "                          min_count=30, \n",
    "                          workers=10)\n",
    "\n",
    "model.wv['veganuary']"
   ]
  },
  {
   "cell_type": "markdown",
   "metadata": {},
   "source": [
    "### Principal Component Analysis "
   ]
  },
  {
   "cell_type": "code",
   "execution_count": 551,
   "metadata": {},
   "outputs": [
    {
     "name": "stderr",
     "output_type": "stream",
     "text": [
      "/Users/audevuilliomenet/.pyenv/versions/3.7.2/lib/python3.7/site-packages/ipykernel_launcher.py:6: DeprecationWarning:\n",
      "\n",
      "Call to deprecated `__getitem__` (Method will be removed in 4.0.0, use self.wv.__getitem__() instead).\n",
      "\n"
     ]
    }
   ],
   "source": [
    "from sklearn.decomposition import PCA\n",
    "\n",
    "# import the vocabulary we have just created! \n",
    "vocab = list(model.wv.vocab)\n",
    "# Create the vector X holding the n dimensions for each words in the vocab!\n",
    "X = model[model.wv.vocab]\n",
    "\n",
    "# Reduce the n dimensions to 2D\n",
    "pca = PCA(n_components=2)\n",
    "result = pca.fit_transform(X)"
   ]
  },
  {
   "cell_type": "code",
   "execution_count": 552,
   "metadata": {
    "scrolled": true
   },
   "outputs": [
    {
     "data": {
      "image/png": "[encoded data removed]",
      "text/plain": [
       "<Figure size 432x288 with 1 Axes>"
      ]
     },
     "metadata": {
      "needs_background": "light"
     },
     "output_type": "display_data"
    }
   ],
   "source": [
    "# Visualize the results in a scatter plot!\n",
    "plt.scatter(result[:,0], result[:,1])\n",
    "\n",
    "# Add meaning to the scatter plot!\n",
    "words = list(model.wv.vocab)\n",
    "for i, word in enumerate(words):\n",
    "    plt.annotate(word, xy=(result[i,0], result[i,1]))\n",
    "plt.show()"
   ]
  },
  {
   "cell_type": "code",
   "execution_count": 553,
   "metadata": {},
   "outputs": [
    {
     "data": {
      "text/plain": [
       "455"
      ]
     },
     "execution_count": 553,
     "metadata": {},
     "output_type": "execute_result"
    }
   ],
   "source": [
    "test = list(model.wv.vectors)\n",
    "len(test)"
   ]
  },
  {
   "cell_type": "code",
   "execution_count": 554,
   "metadata": {
    "scrolled": false
   },
   "outputs": [],
   "source": [
    "# Find now similarity using the words embddings we have created!\n",
    "zipped = zip(model.wv.index2word, model.wv.vectors)\n",
    "\n",
    "wordresult = [i for i in zipped if i[0] == word]\n",
    "vecresult = [i for i in zipped if i[1] == vector]"
   ]
  },
  {
   "cell_type": "code",
   "execution_count": 555,
   "metadata": {},
   "outputs": [
    {
     "data": {
      "text/plain": [
       "[('ready', 0.999852180480957),\n",
       " ('dishes', 0.9998490810394287),\n",
       " ('special', 0.9998459219932556),\n",
       " ('new', 0.999845564365387),\n",
       " ('good', 0.9998446702957153),\n",
       " ('im', 0.9998416900634766),\n",
       " ('wine', 0.9998409748077393),\n",
       " ('beautiful', 0.9998403787612915),\n",
       " ('try', 0.9998399019241333),\n",
       " ('today', 0.9998393058776855)]"
      ]
     },
     "execution_count": 555,
     "metadata": {},
     "output_type": "execute_result"
    }
   ],
   "source": [
    "model.wv.most_similar('vegan')"
   ]
  },
  {
   "cell_type": "code",
   "execution_count": null,
   "metadata": {},
   "outputs": [],
   "source": [
    "#zip the two lists containing vectors and words\n",
    "zipped = zip(model.wv.index2word, model.wv.vectors)\n",
    "\n",
    "# the resulting list contains `(word, wordvector)` tuples. \n",
    "# We can extract the entry for any `word` or `vector` \n",
    "# (replace with the word/vector you're looking for) using a list comprehension:\n",
    "wordresult = [i for i in zipped if i[0] == word]\n",
    "vecresult = [i for i in zipped if i[1] == vector]\n",
    "\n",
    "\n",
    "wrds = list(model.wv.vocab)\n",
    "len(wrds)\n",
    "\n",
    "model.wv.most_similar('ldf18')"
   ]
  },
  {
   "cell_type": "markdown",
   "metadata": {},
   "source": [
    "### Corpus with hashtags!"
   ]
  },
  {
   "cell_type": "code",
   "execution_count": 492,
   "metadata": {},
   "outputs": [
    {
     "data": {
      "text/plain": [
       "(376253, 988090)"
      ]
     },
     "execution_count": 492,
     "metadata": {},
     "output_type": "execute_result"
    }
   ],
   "source": [
    "# Build the Word2Vec model\n",
    "model = gensim.models.Word2Vec(\n",
    "        list_hashtags,\n",
    "        size=150,\n",
    "        window=10,\n",
    "        min_count=30,\n",
    "        workers=10)\n",
    "model.train(list_hashtags, total_examples=len(list_hashtags), epochs=10)"
   ]
  },
  {
   "cell_type": "code",
   "execution_count": 480,
   "metadata": {
    "scrolled": true
   },
   "outputs": [
    {
     "data": {
      "text/plain": [
       "[('review', 0.8931894302368164),\n",
       " ('veganrecipes', 0.8615270853042603),\n",
       " ('friendly', 0.8580796718597412),\n",
       " ('watch', 0.8569813966751099),\n",
       " ('foodie', 0.8543418645858765),\n",
       " ('top', 0.8534507751464844),\n",
       " ('found', 0.8490413427352905),\n",
       " ('brand', 0.8482712507247925),\n",
       " ('meatfree', 0.8477548360824585),\n",
       " ('ingredients', 0.8470067381858826)]"
      ]
     },
     "execution_count": 480,
     "metadata": {},
     "output_type": "execute_result"
    }
   ],
   "source": [
    "# Look at the hashtags that are similar to #vegan!\n",
    "w1 = 'vegan'\n",
    "model.wv.most_similar(positive=w1)"
   ]
  },
  {
   "cell_type": "code",
   "execution_count": 493,
   "metadata": {},
   "outputs": [
    {
     "data": {
      "text/plain": [
       "[('top', 0.901104748249054),\n",
       " ('review', 0.8907033801078796),\n",
       " ('video', 0.8806260824203491),\n",
       " ('youtube', 0.8668935298919678),\n",
       " ('veganrecipes', 0.8596522212028503),\n",
       " ('found', 0.8565287590026855),\n",
       " ('including', 0.8509935736656189),\n",
       " ('watch', 0.8483509421348572),\n",
       " ('foodie', 0.8432002067565918),\n",
       " ('recipes', 0.8375494480133057)]"
      ]
     },
     "execution_count": 493,
     "metadata": {},
     "output_type": "execute_result"
    }
   ],
   "source": [
    "# Look at the hashtags that are similar to #vegan!\n",
    "w2 = 'vegan'\n",
    "model.wv.most_similar(positive=w2)"
   ]
  },
  {
   "cell_type": "markdown",
   "metadata": {},
   "source": [
    "### Words per day"
   ]
  },
  {
   "cell_type": "markdown",
   "metadata": {},
   "source": [
    "Understanding the process of Lemmatization! \n",
    "- Aim: Gropuing together the inflected forms of a word so they can be analysed as a single item! (Example: am, are, is = be)\n",
    "- More information: https://en.wikipedia.org/wiki/Lemmatisation"
   ]
  },
  {
   "cell_type": "code",
   "execution_count": 171,
   "metadata": {},
   "outputs": [],
   "source": [
    "from nltk.stem import WordNetLemmatizer\n",
    "from collections import Counter\n"
   ]
  },
  {
   "cell_type": "code",
   "execution_count": 178,
   "metadata": {},
   "outputs": [
    {
     "name": "stderr",
     "output_type": "stream",
     "text": [
      "[nltk_data] Downloading package wordnet to\n",
      "[nltk_data]     /Users/audevuilliomenet/nltk_data...\n",
      "[nltk_data]   Unzipping corpora/wordnet.zip.\n"
     ]
    },
    {
     "data": {
      "text/plain": [
       "True"
      ]
     },
     "execution_count": 178,
     "metadata": {},
     "output_type": "execute_result"
    }
   ],
   "source": [
    "nltk.download('wordnet')"
   ]
  },
  {
   "cell_type": "code",
   "execution_count": 172,
   "metadata": {},
   "outputs": [],
   "source": [
    "#import word lemmatizer\n",
    "wordnet_lemmatizer = WordNetLemmatizer()"
   ]
  },
  {
   "cell_type": "markdown",
   "metadata": {},
   "source": [
    "#### With Hashtags!"
   ]
  },
  {
   "cell_type": "code",
   "execution_count": 207,
   "metadata": {},
   "outputs": [],
   "source": [
    "#group the text by day\n",
    "day = twittertext.groupby('Day').apply(lambda x: x['noStopWords'].str.cat())\n",
    "\n",
    "#tokenize the text for that day using word lemmatizer and then count\n",
    "day = day.apply(lambda x: Counter([\n",
    "    wordnet_lemmatizer.lemmatize(w) \n",
    "    for w in word_tokenize(x) \n",
    "    if w.lower() not in stop and not w.isdigit()]))"
   ]
  },
  {
   "cell_type": "code",
   "execution_count": 208,
   "metadata": {},
   "outputs": [],
   "source": [
    "#count the five most frequent words per day\n",
    "day_freq = day.apply(lambda x: x.most_common(5))\n",
    "\n",
    "# create a dataframe of the five most frequent words per day\n",
    "day_freq = pd.DataFrame.from_records(\n",
    "    day_freq.values.tolist()).set_index(day_freq.index)"
   ]
  },
  {
   "cell_type": "code",
   "execution_count": 209,
   "metadata": {
    "scrolled": true
   },
   "outputs": [
    {
     "data": {
      "text/html": [
       "<div>\n",
       "<style scoped>\n",
       "    .dataframe tbody tr th:only-of-type {\n",
       "        vertical-align: middle;\n",
       "    }\n",
       "\n",
       "    .dataframe tbody tr th {\n",
       "        vertical-align: top;\n",
       "    }\n",
       "\n",
       "    .dataframe thead th {\n",
       "        text-align: right;\n",
       "    }\n",
       "</style>\n",
       "<table border=\"1\" class=\"dataframe\">\n",
       "  <thead>\n",
       "    <tr style=\"text-align: right;\">\n",
       "      <th></th>\n",
       "      <th>0</th>\n",
       "      <th>1</th>\n",
       "      <th>2</th>\n",
       "      <th>3</th>\n",
       "      <th>4</th>\n",
       "    </tr>\n",
       "    <tr>\n",
       "      <th>Day</th>\n",
       "      <th></th>\n",
       "      <th></th>\n",
       "      <th></th>\n",
       "      <th></th>\n",
       "      <th></th>\n",
       "    </tr>\n",
       "  </thead>\n",
       "  <tbody>\n",
       "    <tr>\n",
       "      <th>22</th>\n",
       "      <td>(vegan, 122)</td>\n",
       "      <td>(veganuary2019, 85)</td>\n",
       "      <td>(veganuary, 43)</td>\n",
       "      <td>(amp, 37)</td>\n",
       "      <td>(day, 23)</td>\n",
       "    </tr>\n",
       "    <tr>\n",
       "      <th>23</th>\n",
       "      <td>(vegan, 133)</td>\n",
       "      <td>(veganuary2019, 61)</td>\n",
       "      <td>(amp, 31)</td>\n",
       "      <td>(veganuary, 29)</td>\n",
       "      <td>(day, 28)</td>\n",
       "    </tr>\n",
       "    <tr>\n",
       "      <th>24</th>\n",
       "      <td>(vegan, 154)</td>\n",
       "      <td>(veganuary2019, 94)</td>\n",
       "      <td>(veganuary, 40)</td>\n",
       "      <td>(amp, 24)</td>\n",
       "      <td>(day, 16)</td>\n",
       "    </tr>\n",
       "    <tr>\n",
       "      <th>25</th>\n",
       "      <td>(vegan, 511)</td>\n",
       "      <td>(veganuary, 325)</td>\n",
       "      <td>(amp, 92)</td>\n",
       "      <td>(veganuary2019, 78)</td>\n",
       "      <td>(day, 66)</td>\n",
       "    </tr>\n",
       "    <tr>\n",
       "      <th>26</th>\n",
       "      <td>(vegan, 432)</td>\n",
       "      <td>(veganuary, 308)</td>\n",
       "      <td>(amp, 79)</td>\n",
       "      <td>(food, 72)</td>\n",
       "      <td>(veganuary2019, 64)</td>\n",
       "    </tr>\n",
       "    <tr>\n",
       "      <th>27</th>\n",
       "      <td>(vegan, 400)</td>\n",
       "      <td>(veganuary, 277)</td>\n",
       "      <td>(amp, 89)</td>\n",
       "      <td>(day, 64)</td>\n",
       "      <td>(veganuary2019, 53)</td>\n",
       "    </tr>\n",
       "    <tr>\n",
       "      <th>28</th>\n",
       "      <td>(vegan, 535)</td>\n",
       "      <td>(veganuary, 421)</td>\n",
       "      <td>(veganuary2019, 103)</td>\n",
       "      <td>(amp, 89)</td>\n",
       "      <td>(day, 65)</td>\n",
       "    </tr>\n",
       "    <tr>\n",
       "      <th>29</th>\n",
       "      <td>(vegan, 477)</td>\n",
       "      <td>(veganuary, 367)</td>\n",
       "      <td>(amp, 83)</td>\n",
       "      <td>(veganuary2019, 74)</td>\n",
       "      <td>(day, 73)</td>\n",
       "    </tr>\n",
       "    <tr>\n",
       "      <th>30</th>\n",
       "      <td>(vegan, 487)</td>\n",
       "      <td>(veganuary, 395)</td>\n",
       "      <td>(amp, 87)</td>\n",
       "      <td>(day, 66)</td>\n",
       "      <td>(new, 65)</td>\n",
       "    </tr>\n",
       "    <tr>\n",
       "      <th>31</th>\n",
       "      <td>(veganuary, 681)</td>\n",
       "      <td>(vegan, 657)</td>\n",
       "      <td>(day, 254)</td>\n",
       "      <td>(amp, 137)</td>\n",
       "      <td>(last, 130)</td>\n",
       "    </tr>\n",
       "  </tbody>\n",
       "</table>\n",
       "</div>"
      ],
      "text/plain": [
       "                    0                    1                     2  \\\n",
       "Day                                                                \n",
       "22       (vegan, 122)  (veganuary2019, 85)       (veganuary, 43)   \n",
       "23       (vegan, 133)  (veganuary2019, 61)             (amp, 31)   \n",
       "24       (vegan, 154)  (veganuary2019, 94)       (veganuary, 40)   \n",
       "25       (vegan, 511)     (veganuary, 325)             (amp, 92)   \n",
       "26       (vegan, 432)     (veganuary, 308)             (amp, 79)   \n",
       "27       (vegan, 400)     (veganuary, 277)             (amp, 89)   \n",
       "28       (vegan, 535)     (veganuary, 421)  (veganuary2019, 103)   \n",
       "29       (vegan, 477)     (veganuary, 367)             (amp, 83)   \n",
       "30       (vegan, 487)     (veganuary, 395)             (amp, 87)   \n",
       "31   (veganuary, 681)         (vegan, 657)            (day, 254)   \n",
       "\n",
       "                       3                    4  \n",
       "Day                                            \n",
       "22             (amp, 37)            (day, 23)  \n",
       "23       (veganuary, 29)            (day, 28)  \n",
       "24             (amp, 24)            (day, 16)  \n",
       "25   (veganuary2019, 78)            (day, 66)  \n",
       "26            (food, 72)  (veganuary2019, 64)  \n",
       "27             (day, 64)  (veganuary2019, 53)  \n",
       "28             (amp, 89)            (day, 65)  \n",
       "29   (veganuary2019, 74)            (day, 73)  \n",
       "30             (day, 66)            (new, 65)  \n",
       "31            (amp, 137)          (last, 130)  "
      ]
     },
     "execution_count": 209,
     "metadata": {},
     "output_type": "execute_result"
    }
   ],
   "source": [
    "day_freq"
   ]
  },
  {
   "cell_type": "code",
   "execution_count": 205,
   "metadata": {},
   "outputs": [],
   "source": [
    "def normalize_row(x):\n",
    "    label, repetition = zip(*x)\n",
    "    t = sum(repetition)\n",
    "    r = [n/t for n in repetition]\n",
    "    return list(zip(label,r))\n",
    "\n",
    "day_freq = day_freq.apply(lambda x: normalize_row(x), axis=1)"
   ]
  },
  {
   "cell_type": "markdown",
   "metadata": {},
   "source": [
    "#### Without hashtags!"
   ]
  },
  {
   "cell_type": "code",
   "execution_count": 198,
   "metadata": {},
   "outputs": [],
   "source": [
    "#group the text by day\n",
    "day_nh = twittertext_nohastags.groupby('Day').apply(lambda x: x['words_analysis'].str.cat())\n",
    "\n",
    "#tokenize the text for that day using word lemmatizer and then count\n",
    "day_nh = day_nh.apply(lambda x: Counter([\n",
    "    wordnet_lemmatizer.lemmatize(w) \n",
    "    for w in word_tokenize(x) \n",
    "    if w.lower() not in stop and not w.isdigit()]))"
   ]
  },
  {
   "cell_type": "code",
   "execution_count": 199,
   "metadata": {},
   "outputs": [],
   "source": [
    "#count the five most frequent words per day\n",
    "day_freq_nh = day_nh.apply(lambda x: x.most_common(5))\n",
    "\n",
    "# create a dataframe of the five most frequent words per day\n",
    "day_freq_nh = pd.DataFrame.from_records(\n",
    "    day_freq_nh.values.tolist()).set_index(day_freq.index)"
   ]
  },
  {
   "cell_type": "code",
   "execution_count": 201,
   "metadata": {
    "scrolled": true
   },
   "outputs": [
    {
     "data": {
      "text/html": [
       "<div>\n",
       "<style scoped>\n",
       "    .dataframe tbody tr th:only-of-type {\n",
       "        vertical-align: middle;\n",
       "    }\n",
       "\n",
       "    .dataframe tbody tr th {\n",
       "        vertical-align: top;\n",
       "    }\n",
       "\n",
       "    .dataframe thead th {\n",
       "        text-align: right;\n",
       "    }\n",
       "</style>\n",
       "<table border=\"1\" class=\"dataframe\">\n",
       "  <thead>\n",
       "    <tr style=\"text-align: right;\">\n",
       "      <th></th>\n",
       "      <th>0</th>\n",
       "      <th>1</th>\n",
       "      <th>2</th>\n",
       "      <th>3</th>\n",
       "      <th>4</th>\n",
       "    </tr>\n",
       "    <tr>\n",
       "      <th>Day</th>\n",
       "      <th></th>\n",
       "      <th></th>\n",
       "      <th></th>\n",
       "      <th></th>\n",
       "      <th></th>\n",
       "    </tr>\n",
       "  </thead>\n",
       "  <tbody>\n",
       "    <tr>\n",
       "      <th>22</th>\n",
       "      <td>(vegan, 49)</td>\n",
       "      <td>(want, 18)</td>\n",
       "      <td>(day, 15)</td>\n",
       "      <td>(one, 14)</td>\n",
       "      <td>(get, 13)</td>\n",
       "    </tr>\n",
       "    <tr>\n",
       "      <th>23</th>\n",
       "      <td>(vegan, 66)</td>\n",
       "      <td>(day, 13)</td>\n",
       "      <td>(new, 12)</td>\n",
       "      <td>(food, 12)</td>\n",
       "      <td>(made, 12)</td>\n",
       "    </tr>\n",
       "    <tr>\n",
       "      <th>24</th>\n",
       "      <td>(vegan, 82)</td>\n",
       "      <td>(food, 15)</td>\n",
       "      <td>(make, 14)</td>\n",
       "      <td>(day, 13)</td>\n",
       "      <td>(recipe, 13)</td>\n",
       "    </tr>\n",
       "    <tr>\n",
       "      <th>25</th>\n",
       "      <td>(vegan, 248)</td>\n",
       "      <td>(day, 54)</td>\n",
       "      <td>(food, 52)</td>\n",
       "      <td>(new, 50)</td>\n",
       "      <td>(recipe, 42)</td>\n",
       "    </tr>\n",
       "    <tr>\n",
       "      <th>26</th>\n",
       "      <td>(vegan, 209)</td>\n",
       "      <td>(food, 62)</td>\n",
       "      <td>(new, 59)</td>\n",
       "      <td>(day, 48)</td>\n",
       "      <td>(recipe, 40)</td>\n",
       "    </tr>\n",
       "    <tr>\n",
       "      <th>27</th>\n",
       "      <td>(vegan, 186)</td>\n",
       "      <td>(day, 52)</td>\n",
       "      <td>(new, 33)</td>\n",
       "      <td>(food, 33)</td>\n",
       "      <td>(u, 29)</td>\n",
       "    </tr>\n",
       "    <tr>\n",
       "      <th>28</th>\n",
       "      <td>(vegan, 258)</td>\n",
       "      <td>(day, 55)</td>\n",
       "      <td>(delicious, 53)</td>\n",
       "      <td>(week, 51)</td>\n",
       "      <td>(animal, 48)</td>\n",
       "    </tr>\n",
       "    <tr>\n",
       "      <th>29</th>\n",
       "      <td>(vegan, 232)</td>\n",
       "      <td>(new, 62)</td>\n",
       "      <td>(day, 60)</td>\n",
       "      <td>(food, 45)</td>\n",
       "      <td>(one, 41)</td>\n",
       "    </tr>\n",
       "    <tr>\n",
       "      <th>30</th>\n",
       "      <td>(vegan, 230)</td>\n",
       "      <td>(day, 59)</td>\n",
       "      <td>(new, 52)</td>\n",
       "      <td>(end, 50)</td>\n",
       "      <td>(year, 39)</td>\n",
       "    </tr>\n",
       "    <tr>\n",
       "      <th>31</th>\n",
       "      <td>(vegan, 319)</td>\n",
       "      <td>(day, 235)</td>\n",
       "      <td>(end, 105)</td>\n",
       "      <td>(last, 102)</td>\n",
       "      <td>(month, 74)</td>\n",
       "    </tr>\n",
       "  </tbody>\n",
       "</table>\n",
       "</div>"
      ],
      "text/plain": [
       "                0           1                2            3             4\n",
       "Day                                                                      \n",
       "22    (vegan, 49)  (want, 18)        (day, 15)    (one, 14)     (get, 13)\n",
       "23    (vegan, 66)   (day, 13)        (new, 12)   (food, 12)    (made, 12)\n",
       "24    (vegan, 82)  (food, 15)       (make, 14)    (day, 13)  (recipe, 13)\n",
       "25   (vegan, 248)   (day, 54)       (food, 52)    (new, 50)  (recipe, 42)\n",
       "26   (vegan, 209)  (food, 62)        (new, 59)    (day, 48)  (recipe, 40)\n",
       "27   (vegan, 186)   (day, 52)        (new, 33)   (food, 33)       (u, 29)\n",
       "28   (vegan, 258)   (day, 55)  (delicious, 53)   (week, 51)  (animal, 48)\n",
       "29   (vegan, 232)   (new, 62)        (day, 60)   (food, 45)     (one, 41)\n",
       "30   (vegan, 230)   (day, 59)        (new, 52)    (end, 50)    (year, 39)\n",
       "31   (vegan, 319)  (day, 235)       (end, 105)  (last, 102)   (month, 74)"
      ]
     },
     "execution_count": 201,
     "metadata": {},
     "output_type": "execute_result"
    }
   ],
   "source": [
    "day_freq_nh"
   ]
  },
  {
   "cell_type": "code",
   "execution_count": 210,
   "metadata": {},
   "outputs": [],
   "source": [
    "def normalize_row(x):\n",
    "    label, repetition = zip(*x)\n",
    "    t = sum(repetition)\n",
    "    r = [n/t for n in repetition]\n",
    "    return list(zip(label,r))\n",
    "\n",
    "day_freq_nh = day_freq_nh.apply(lambda x: normalize_row(x), axis=1)"
   ]
  },
  {
   "cell_type": "code",
   "execution_count": null,
   "metadata": {},
   "outputs": [],
   "source": []
  },
  {
   "cell_type": "code",
   "execution_count": null,
   "metadata": {},
   "outputs": [],
   "source": []
  },
  {
   "cell_type": "code",
   "execution_count": null,
   "metadata": {},
   "outputs": [],
   "source": []
  },
  {
   "cell_type": "code",
   "execution_count": null,
   "metadata": {},
   "outputs": [],
   "source": []
  },
  {
   "cell_type": "code",
   "execution_count": null,
   "metadata": {},
   "outputs": [],
   "source": []
  },
  {
   "cell_type": "code",
   "execution_count": 194,
   "metadata": {},
   "outputs": [
    {
     "data": {
      "text/html": [
       "<div>\n",
       "<style scoped>\n",
       "    .dataframe tbody tr th:only-of-type {\n",
       "        vertical-align: middle;\n",
       "    }\n",
       "\n",
       "    .dataframe tbody tr th {\n",
       "        vertical-align: top;\n",
       "    }\n",
       "\n",
       "    .dataframe thead th {\n",
       "        text-align: right;\n",
       "    }\n",
       "</style>\n",
       "<table border=\"1\" class=\"dataframe\">\n",
       "  <thead>\n",
       "    <tr style=\"text-align: right;\">\n",
       "      <th></th>\n",
       "      <th>Date</th>\n",
       "      <th>UserID</th>\n",
       "      <th>UserScreenName</th>\n",
       "      <th>Text</th>\n",
       "      <th>UserLocation</th>\n",
       "      <th>retweet_count</th>\n",
       "      <th>UserFollowers</th>\n",
       "      <th>UserFriends</th>\n",
       "      <th>UserLanguage</th>\n",
       "      <th>RetweetUserName</th>\n",
       "      <th>...</th>\n",
       "      <th>tokenText</th>\n",
       "      <th>noStopWords</th>\n",
       "      <th>tokenTextnoStop</th>\n",
       "      <th>tokenCount</th>\n",
       "      <th>clean_no_hashtags</th>\n",
       "      <th>tokenNoHastags</th>\n",
       "      <th>tokenNoHastags_Count</th>\n",
       "      <th>NoHastags_NoStopWords</th>\n",
       "      <th>Token_NoHastags_NoStopWords</th>\n",
       "      <th>words_analysis</th>\n",
       "    </tr>\n",
       "  </thead>\n",
       "  <tbody>\n",
       "    <tr>\n",
       "      <th>0</th>\n",
       "      <td>2019-01-28 23:05:53</td>\n",
       "      <td>1133610576</td>\n",
       "      <td>MarymoBelfast</td>\n",
       "      <td>rt @leedowningkeat: why im still vegan. share and watch this to counteract the ex vegan trend#whyimstillvegan #f</td>\n",
       "      <td>Ireland</td>\n",
       "      <td>6</td>\n",
       "      <td>12498</td>\n",
       "      <td>12525</td>\n",
       "      <td>en</td>\n",
       "      <td>lee downing keat</td>\n",
       "      <td>...</td>\n",
       "      <td>[rt, leedowningkeat, why, im, still, vegan, share, and, watch, this, to, counteract, the, ex, vegan, trendwhyimstillvegan, f]</td>\n",
       "      <td>rt leedowningkeat im still vegan share watch counteract ex vegan trendwhyimstillvegan f</td>\n",
       "      <td>[rt, leedowningkeat, im, still, vegan, share, watch, counteract, ex, vegan, trendwhyimstillvegan, f]</td>\n",
       "      <td>17</td>\n",
       "      <td>rt  why im still vegan share and watch this to counteract the ex vegan trend</td>\n",
       "      <td>[rt, why, im, still, vegan, share, and, watch, this, to, counteract, the, ex, vegan, trend]</td>\n",
       "      <td>15</td>\n",
       "      <td>rt im still vegan share watch counteract ex vegan trend</td>\n",
       "      <td>[rt, im, still, vegan, share, watch, counteract, ex, vegan, trend]</td>\n",
       "      <td>im still vegan share watch counteract ex vegan trend</td>\n",
       "    </tr>\n",
       "    <tr>\n",
       "      <th>1</th>\n",
       "      <td>2019-01-28 23:03:51</td>\n",
       "      <td>1088500218964828160</td>\n",
       "      <td>Lilly84914614</td>\n",
       "      <td>rt @xvx_food: lunch today was the @marksandspencer sweet potato biryani wrap and some of their salted tortilla chips, it was absolutely del</td>\n",
       "      <td>NaN</td>\n",
       "      <td>0</td>\n",
       "      <td>3</td>\n",
       "      <td>17</td>\n",
       "      <td>en</td>\n",
       "      <td>Vegan Food Only Ⓥ</td>\n",
       "      <td>...</td>\n",
       "      <td>[rt, xvxfood, lunch, today, was, the, marksandspencer, sweet, potato, biryani, wrap, and, some, of, their, salted, tortilla, chips, it, was, absolutely, del]</td>\n",
       "      <td>rt xvxfood lunch today marksandspencer sweet potato biryani wrap salted tortilla chips absolutely del</td>\n",
       "      <td>[rt, xvxfood, lunch, today, marksandspencer, sweet, potato, biryani, wrap, salted, tortilla, chips, absolutely, del]</td>\n",
       "      <td>22</td>\n",
       "      <td>rt  lunch today was the  sweet potato biryani wrap and some of their salted tortilla chips it was absolutely del</td>\n",
       "      <td>[rt, lunch, today, was, the, sweet, potato, biryani, wrap, and, some, of, their, salted, tortilla, chips, it, was, absolutely, del]</td>\n",
       "      <td>20</td>\n",
       "      <td>rt lunch today sweet potato biryani wrap salted tortilla chips absolutely del</td>\n",
       "      <td>[rt, lunch, today, sweet, potato, biryani, wrap, salted, tortilla, chips, absolutely, del]</td>\n",
       "      <td>lunch today sweet potato biryani wrap salted tortilla chips absolutely del</td>\n",
       "    </tr>\n",
       "  </tbody>\n",
       "</table>\n",
       "<p>2 rows × 32 columns</p>\n",
       "</div>"
      ],
      "text/plain": [
       "                  Date               UserID UserScreenName  \\\n",
       "0  2019-01-28 23:05:53           1133610576  MarymoBelfast   \n",
       "1  2019-01-28 23:03:51  1088500218964828160  Lilly84914614   \n",
       "\n",
       "                                                                                                                                          Text  \\\n",
       "0                             rt @leedowningkeat: why im still vegan. share and watch this to counteract the ex vegan trend#whyimstillvegan #f   \n",
       "1  rt @xvx_food: lunch today was the @marksandspencer sweet potato biryani wrap and some of their salted tortilla chips, it was absolutely del   \n",
       "\n",
       "  UserLocation  retweet_count  UserFollowers  UserFriends UserLanguage  \\\n",
       "0      Ireland              6          12498        12525           en   \n",
       "1          NaN              0              3           17           en   \n",
       "\n",
       "     RetweetUserName  ...  \\\n",
       "0   lee downing keat  ...   \n",
       "1  Vegan Food Only Ⓥ  ...   \n",
       "\n",
       "                                                                                                                                                       tokenText  \\\n",
       "0                                  [rt, leedowningkeat, why, im, still, vegan, share, and, watch, this, to, counteract, the, ex, vegan, trendwhyimstillvegan, f]   \n",
       "1  [rt, xvxfood, lunch, today, was, the, marksandspencer, sweet, potato, biryani, wrap, and, some, of, their, salted, tortilla, chips, it, was, absolutely, del]   \n",
       "\n",
       "                                                                                             noStopWords  \\\n",
       "0                rt leedowningkeat im still vegan share watch counteract ex vegan trendwhyimstillvegan f   \n",
       "1  rt xvxfood lunch today marksandspencer sweet potato biryani wrap salted tortilla chips absolutely del   \n",
       "\n",
       "                                                                                                        tokenTextnoStop  \\\n",
       "0                  [rt, leedowningkeat, im, still, vegan, share, watch, counteract, ex, vegan, trendwhyimstillvegan, f]   \n",
       "1  [rt, xvxfood, lunch, today, marksandspencer, sweet, potato, biryani, wrap, salted, tortilla, chips, absolutely, del]   \n",
       "\n",
       "  tokenCount  \\\n",
       "0         17   \n",
       "1         22   \n",
       "\n",
       "                                                                                                  clean_no_hashtags  \\\n",
       "0                                     rt  why im still vegan share and watch this to counteract the ex vegan trend    \n",
       "1  rt  lunch today was the  sweet potato biryani wrap and some of their salted tortilla chips it was absolutely del   \n",
       "\n",
       "                                                                                                                        tokenNoHastags  \\\n",
       "0                                          [rt, why, im, still, vegan, share, and, watch, this, to, counteract, the, ex, vegan, trend]   \n",
       "1  [rt, lunch, today, was, the, sweet, potato, biryani, wrap, and, some, of, their, salted, tortilla, chips, it, was, absolutely, del]   \n",
       "\n",
       "   tokenNoHastags_Count  \\\n",
       "0                    15   \n",
       "1                    20   \n",
       "\n",
       "                                                           NoHastags_NoStopWords  \\\n",
       "0                        rt im still vegan share watch counteract ex vegan trend   \n",
       "1  rt lunch today sweet potato biryani wrap salted tortilla chips absolutely del   \n",
       "\n",
       "                                                                  Token_NoHastags_NoStopWords  \\\n",
       "0                          [rt, im, still, vegan, share, watch, counteract, ex, vegan, trend]   \n",
       "1  [rt, lunch, today, sweet, potato, biryani, wrap, salted, tortilla, chips, absolutely, del]   \n",
       "\n",
       "                                                               words_analysis  \n",
       "0                        im still vegan share watch counteract ex vegan trend  \n",
       "1  lunch today sweet potato biryani wrap salted tortilla chips absolutely del  \n",
       "\n",
       "[2 rows x 32 columns]"
      ]
     },
     "execution_count": 194,
     "metadata": {},
     "output_type": "execute_result"
    }
   ],
   "source": [
    "twittertext_nohastags.head(2)"
   ]
  },
  {
   "cell_type": "code",
   "execution_count": null,
   "metadata": {},
   "outputs": [],
   "source": []
  },
  {
   "cell_type": "code",
   "execution_count": 168,
   "metadata": {},
   "outputs": [
    {
     "name": "stdout",
     "output_type": "stream",
     "text": [
      "[('rt', 2880), ('vegan', 2264), ('amp', 781), ('day', 575), ('new', 570), ('last', 435), ('food', 370), ('delicious', 350), ('veganuary', 337), ('one', 324), ('try', 311), ('recipe', 310), ('today', 288), ('get', 288), ('made', 281), ('end', 275), ('great', 274), ('love', 267), ('go', 259), ('good', 245)]\n"
     ]
    }
   ],
   "source": [
    "from collections import Counter\n",
    " \n",
    "count_all = Counter()\n",
    "for line in twittertext_nohastags.Token_NoHastags_NoStopWords:\n",
    "    # Create a list with all the terms\n",
    "    all_words = [word for word in line]\n",
    "    # Update the counter\n",
    "    count_all.update(all_words)\n",
    "    # Print the first 5 most frequent words\n",
    "print(count_all.most_common(20))"
   ]
  },
  {
   "cell_type": "code",
   "execution_count": 65,
   "metadata": {},
   "outputs": [
    {
     "data": {
      "text/html": [
       "<script type=\"text/javascript\">window.PlotlyConfig = {MathJaxConfig: 'local'};</script><script type=\"text/javascript\">if (window.MathJax) {MathJax.Hub.Config({SVG: {font: \"STIX-Web\"}});}</script><script>requirejs.config({paths: { 'plotly': ['https://cdn.plot.ly/plotly-latest.min']},});if(!window._Plotly) {require(['plotly'],function(plotly) {window._Plotly=plotly;});}</script>"
      ],
      "text/vnd.plotly.v1+html": [
       "<script type=\"text/javascript\">window.PlotlyConfig = {MathJaxConfig: 'local'};</script><script type=\"text/javascript\">if (window.MathJax) {MathJax.Hub.Config({SVG: {font: \"STIX-Web\"}});}</script><script>requirejs.config({paths: { 'plotly': ['https://cdn.plot.ly/plotly-latest.min']},});if(!window._Plotly) {require(['plotly'],function(plotly) {window._Plotly=plotly;});}</script>"
      ]
     },
     "metadata": {},
     "output_type": "display_data"
    }
   ],
   "source": [
    "# Need to install plotly before using it! Run the !pip command bellow!\n",
    "# !pip install plotly\n",
    "from plotly import __version__\n",
    "from plotly.offline import download_plotlyjs, init_notebook_mode, plot, iplot\n",
    "\n",
    "import plotly.graph_objs as go\n",
    "from plotly.graph_objs import *\n",
    "import plotly.io as pio\n",
    "\n",
    "#You can also plot your graphs offline inside a Jupyter Notebook Environment. \n",
    "#First you need to initiate the Plotly Notebook mode as below:\n",
    "init_notebook_mode(connected=True)"
   ]
  },
  {
   "cell_type": "code",
   "execution_count": 67,
   "metadata": {},
   "outputs": [
    {
     "data": {
      "text/html": [
       "<div>\n",
       "<style scoped>\n",
       "    .dataframe tbody tr th:only-of-type {\n",
       "        vertical-align: middle;\n",
       "    }\n",
       "\n",
       "    .dataframe tbody tr th {\n",
       "        vertical-align: top;\n",
       "    }\n",
       "\n",
       "    .dataframe thead th {\n",
       "        text-align: right;\n",
       "    }\n",
       "</style>\n",
       "<table border=\"1\" class=\"dataframe\">\n",
       "  <thead>\n",
       "    <tr style=\"text-align: right;\">\n",
       "      <th></th>\n",
       "      <th>0</th>\n",
       "      <th>1</th>\n",
       "      <th>Freq</th>\n",
       "    </tr>\n",
       "  </thead>\n",
       "  <tbody>\n",
       "    <tr>\n",
       "      <th>0</th>\n",
       "      <td>vegan</td>\n",
       "      <td>383</td>\n",
       "      <td>49.23</td>\n",
       "    </tr>\n",
       "    <tr>\n",
       "      <th>1</th>\n",
       "      <td>veganuary2019</td>\n",
       "      <td>312</td>\n",
       "      <td>40.10</td>\n",
       "    </tr>\n",
       "    <tr>\n",
       "      <th>2</th>\n",
       "      <td>veganuary</td>\n",
       "      <td>134</td>\n",
       "      <td>17.22</td>\n",
       "    </tr>\n",
       "    <tr>\n",
       "      <th>3</th>\n",
       "      <td>weareveganuary</td>\n",
       "      <td>52</td>\n",
       "      <td>6.68</td>\n",
       "    </tr>\n",
       "    <tr>\n",
       "      <th>4</th>\n",
       "      <td>new</td>\n",
       "      <td>44</td>\n",
       "      <td>5.66</td>\n",
       "    </tr>\n",
       "    <tr>\n",
       "      <th>5</th>\n",
       "      <td>plantbased</td>\n",
       "      <td>44</td>\n",
       "      <td>5.66</td>\n",
       "    </tr>\n",
       "    <tr>\n",
       "      <th>6</th>\n",
       "      <td>food</td>\n",
       "      <td>41</td>\n",
       "      <td>5.27</td>\n",
       "    </tr>\n",
       "    <tr>\n",
       "      <th>7</th>\n",
       "      <td>delicious</td>\n",
       "      <td>39</td>\n",
       "      <td>5.01</td>\n",
       "    </tr>\n",
       "    <tr>\n",
       "      <th>8</th>\n",
       "      <td>day</td>\n",
       "      <td>36</td>\n",
       "      <td>4.63</td>\n",
       "    </tr>\n",
       "    <tr>\n",
       "      <th>9</th>\n",
       "      <td>recipe</td>\n",
       "      <td>34</td>\n",
       "      <td>4.37</td>\n",
       "    </tr>\n",
       "    <tr>\n",
       "      <th>10</th>\n",
       "      <td>great</td>\n",
       "      <td>33</td>\n",
       "      <td>4.24</td>\n",
       "    </tr>\n",
       "    <tr>\n",
       "      <th>11</th>\n",
       "      <td>govegan</td>\n",
       "      <td>32</td>\n",
       "      <td>4.11</td>\n",
       "    </tr>\n",
       "    <tr>\n",
       "      <th>12</th>\n",
       "      <td>love</td>\n",
       "      <td>32</td>\n",
       "      <td>4.11</td>\n",
       "    </tr>\n",
       "    <tr>\n",
       "      <th>13</th>\n",
       "      <td>today</td>\n",
       "      <td>31</td>\n",
       "      <td>3.98</td>\n",
       "    </tr>\n",
       "    <tr>\n",
       "      <th>14</th>\n",
       "      <td>made</td>\n",
       "      <td>29</td>\n",
       "      <td>3.73</td>\n",
       "    </tr>\n",
       "    <tr>\n",
       "      <th>15</th>\n",
       "      <td>meat</td>\n",
       "      <td>27</td>\n",
       "      <td>3.47</td>\n",
       "    </tr>\n",
       "    <tr>\n",
       "      <th>16</th>\n",
       "      <td>vegans</td>\n",
       "      <td>27</td>\n",
       "      <td>3.47</td>\n",
       "    </tr>\n",
       "    <tr>\n",
       "      <th>17</th>\n",
       "      <td>cheese</td>\n",
       "      <td>26</td>\n",
       "      <td>3.34</td>\n",
       "    </tr>\n",
       "    <tr>\n",
       "      <th>18</th>\n",
       "      <td>veganism</td>\n",
       "      <td>25</td>\n",
       "      <td>3.21</td>\n",
       "    </tr>\n",
       "    <tr>\n",
       "      <th>19</th>\n",
       "      <td>last</td>\n",
       "      <td>25</td>\n",
       "      <td>3.21</td>\n",
       "    </tr>\n",
       "  </tbody>\n",
       "</table>\n",
       "</div>"
      ],
      "text/plain": [
       "                 0    1                                     Freq\n",
       "0            vegan  383                                    49.23\n",
       "1    veganuary2019  312                                    40.10\n",
       "2        veganuary  134                                    17.22\n",
       "3   weareveganuary   52                                     6.68\n",
       "4              new   44                                     5.66\n",
       "5       plantbased   44                                     5.66\n",
       "6             food   41                                     5.27\n",
       "7        delicious   39                                     5.01\n",
       "8              day   36                                     4.63\n",
       "9           recipe   34                                     4.37\n",
       "10           great   33                                     4.24\n",
       "11         govegan   32                                     4.11\n",
       "12            love   32                                     4.11\n",
       "13           today   31                                     3.98\n",
       "14            made   29                                     3.73\n",
       "15            meat   27                                     3.47\n",
       "16          vegans   27                                     3.47\n",
       "17          cheese   26                                     3.34\n",
       "18        veganism   25                                     3.21\n",
       "19            last   25                                     3.21"
      ]
     },
     "execution_count": 67,
     "metadata": {},
     "output_type": "execute_result"
    }
   ],
   "source": [
    "most_common = pd.DataFrame(count_all.most_common(20))\n",
    "most_common['Freq'] = (most_common[1]/778)*100\n",
    "most_common"
   ]
  },
  {
   "cell_type": "code",
   "execution_count": 68,
   "metadata": {},
   "outputs": [
    {
     "data": {
      "application/vnd.plotly.v1+json": {
       "config": {
        "linkText": "Export to plot.ly",
        "plotlyServerURL": "https://plot.ly",
        "showLink": false
       },
       "data": [
        {
         "type": "bar",
         "uid": "0beaa0cc-8e5d-403c-bb13-43614ac3e4c5",
         "x": [
          "vegan",
          "veganuary2019",
          "veganuary",
          "weareveganuary",
          "new",
          "plantbased",
          "food",
          "delicious",
          "day",
          "recipe",
          "great",
          "govegan",
          "love",
          "today",
          "made",
          "meat",
          "vegans",
          "cheese",
          "veganism",
          "last"
         ],
         "y": [
          49.228791773778916,
          40.102827763496144,
          17.223650385604113,
          6.683804627249357,
          5.655526992287918,
          5.655526992287918,
          5.269922879177378,
          5.012853470437018,
          4.627249357326478,
          4.370179948586118,
          4.241645244215938,
          4.113110539845758,
          4.113110539845758,
          3.984575835475578,
          3.7275064267352187,
          3.470437017994859,
          3.470437017994859,
          3.3419023136246784,
          3.2133676092544987,
          3.2133676092544987
         ]
        }
       ],
       "layout": {
        "title": {
         "text": "Top 10 most used words in Tweets"
        },
        "width": 700,
        "xaxis": {
         "title": {
          "text": "Most famous words"
         }
        },
        "yaxis": {
         "title": {
          "text": "Percentage of word appearance in the tweets"
         }
        }
       }
      },
      "text/html": [
       "<div id=\"1a628960-4eeb-4ec8-9ecc-dc4e418168a4\" style=\"height: 525px; width: 700px;\" class=\"plotly-graph-div\"></div><script type=\"text/javascript\">require([\"plotly\"], function(Plotly) { window.PLOTLYENV=window.PLOTLYENV || {};window.PLOTLYENV.BASE_URL=\"https://plot.ly\";Plotly.newPlot(\"1a628960-4eeb-4ec8-9ecc-dc4e418168a4\", [{\"x\": [\"vegan\", \"veganuary2019\", \"veganuary\", \"weareveganuary\", \"new\", \"plantbased\", \"food\", \"delicious\", \"day\", \"recipe\", \"great\", \"govegan\", \"love\", \"today\", \"made\", \"meat\", \"vegans\", \"cheese\", \"veganism\", \"last\"], \"y\": [49.228791773778916, 40.102827763496144, 17.223650385604113, 6.683804627249357, 5.655526992287918, 5.655526992287918, 5.269922879177378, 5.012853470437018, 4.627249357326478, 4.370179948586118, 4.241645244215938, 4.113110539845758, 4.113110539845758, 3.984575835475578, 3.7275064267352187, 3.470437017994859, 3.470437017994859, 3.3419023136246784, 3.2133676092544987, 3.2133676092544987], \"type\": \"bar\", \"uid\": \"0beaa0cc-8e5d-403c-bb13-43614ac3e4c5\"}], {\"title\": {\"text\": \"Top 10 most used words in Tweets\"}, \"width\": 700, \"xaxis\": {\"title\": {\"text\": \"Most famous words\"}}, \"yaxis\": {\"title\": {\"text\": \"Percentage of word appearance in the tweets\"}}}, {\"showLink\": false, \"linkText\": \"Export to plot.ly\", \"plotlyServerURL\": \"https://plot.ly\"})});</script>"
      ],
      "text/vnd.plotly.v1+html": [
       "<div id=\"1a628960-4eeb-4ec8-9ecc-dc4e418168a4\" style=\"height: 525px; width: 700px;\" class=\"plotly-graph-div\"></div><script type=\"text/javascript\">require([\"plotly\"], function(Plotly) { window.PLOTLYENV=window.PLOTLYENV || {};window.PLOTLYENV.BASE_URL=\"https://plot.ly\";Plotly.newPlot(\"1a628960-4eeb-4ec8-9ecc-dc4e418168a4\", [{\"x\": [\"vegan\", \"veganuary2019\", \"veganuary\", \"weareveganuary\", \"new\", \"plantbased\", \"food\", \"delicious\", \"day\", \"recipe\", \"great\", \"govegan\", \"love\", \"today\", \"made\", \"meat\", \"vegans\", \"cheese\", \"veganism\", \"last\"], \"y\": [49.228791773778916, 40.102827763496144, 17.223650385604113, 6.683804627249357, 5.655526992287918, 5.655526992287918, 5.269922879177378, 5.012853470437018, 4.627249357326478, 4.370179948586118, 4.241645244215938, 4.113110539845758, 4.113110539845758, 3.984575835475578, 3.7275064267352187, 3.470437017994859, 3.470437017994859, 3.3419023136246784, 3.2133676092544987, 3.2133676092544987], \"type\": \"bar\", \"uid\": \"0beaa0cc-8e5d-403c-bb13-43614ac3e4c5\"}], {\"title\": {\"text\": \"Top 10 most used words in Tweets\"}, \"width\": 700, \"xaxis\": {\"title\": {\"text\": \"Most famous words\"}}, \"yaxis\": {\"title\": {\"text\": \"Percentage of word appearance in the tweets\"}}}, {\"showLink\": false, \"linkText\": \"Export to plot.ly\", \"plotlyServerURL\": \"https://plot.ly\"})});</script>"
      ]
     },
     "metadata": {},
     "output_type": "display_data"
    }
   ],
   "source": [
    "data = [Bar(\n",
    "        x=most_common[0], # assign x as the dataframe column 'x'\n",
    "        y=most_common['Freq']\n",
    "    )]\n",
    "\n",
    "layout = Layout(\n",
    "    title=\"Top 10 most used words in Tweets\",\n",
    "    xaxis=dict(title='Most famous words'),\n",
    "    yaxis=dict(title='Percentage of word appearance in the tweets'),\n",
    "    width = 700\n",
    ")\n",
    "\n",
    "fig = Figure(data=data, layout=layout)\n",
    "\n",
    "iplot(fig)"
   ]
  },
  {
   "cell_type": "code",
   "execution_count": 37,
   "metadata": {},
   "outputs": [],
   "source": [
    "#import Google's langdetect library to check where tweets are english or not\n",
    "from langdetect import detect"
   ]
  },
  {
   "cell_type": "code",
   "execution_count": 38,
   "metadata": {},
   "outputs": [],
   "source": [
    "lang = []\n",
    "\n",
    "try:\n",
    "    for index, row in twittertext['cleanText'].iteritems():\n",
    "        lang = detect(row)\n",
    "        twittertext.loc[index, 'Languagereveiw'] = lang\n",
    "\n",
    "except Exception:\n",
    "    pass"
   ]
  },
  {
   "cell_type": "code",
   "execution_count": 67,
   "metadata": {},
   "outputs": [
    {
     "ename": "AttributeError",
     "evalue": "'DataFrame' object has no attribute 'Languagereveiw'",
     "output_type": "error",
     "traceback": [
      "\u001b[0;31m---------------------------------------------------------------------------\u001b[0m",
      "\u001b[0;31mAttributeError\u001b[0m                            Traceback (most recent call last)",
      "\u001b[0;32m<ipython-input-67-df36cd585bef>\u001b[0m in \u001b[0;36m<module>\u001b[0;34m\u001b[0m\n\u001b[0;32m----> 1\u001b[0;31m \u001b[0mtwittertext\u001b[0m\u001b[0;34m.\u001b[0m\u001b[0mLanguagereveiw\u001b[0m\u001b[0;34m.\u001b[0m\u001b[0mvalue_counts\u001b[0m\u001b[0;34m(\u001b[0m\u001b[0;34m)\u001b[0m\u001b[0;34m\u001b[0m\u001b[0;34m\u001b[0m\u001b[0m\n\u001b[0m",
      "\u001b[0;32m~/.pyenv/versions/3.7.2/lib/python3.7/site-packages/pandas/core/generic.py\u001b[0m in \u001b[0;36m__getattr__\u001b[0;34m(self, name)\u001b[0m\n\u001b[1;32m   5065\u001b[0m             \u001b[0;32mif\u001b[0m \u001b[0mself\u001b[0m\u001b[0;34m.\u001b[0m\u001b[0m_info_axis\u001b[0m\u001b[0;34m.\u001b[0m\u001b[0m_can_hold_identifiers_and_holds_name\u001b[0m\u001b[0;34m(\u001b[0m\u001b[0mname\u001b[0m\u001b[0;34m)\u001b[0m\u001b[0;34m:\u001b[0m\u001b[0;34m\u001b[0m\u001b[0;34m\u001b[0m\u001b[0m\n\u001b[1;32m   5066\u001b[0m                 \u001b[0;32mreturn\u001b[0m \u001b[0mself\u001b[0m\u001b[0;34m[\u001b[0m\u001b[0mname\u001b[0m\u001b[0;34m]\u001b[0m\u001b[0;34m\u001b[0m\u001b[0;34m\u001b[0m\u001b[0m\n\u001b[0;32m-> 5067\u001b[0;31m             \u001b[0;32mreturn\u001b[0m \u001b[0mobject\u001b[0m\u001b[0;34m.\u001b[0m\u001b[0m__getattribute__\u001b[0m\u001b[0;34m(\u001b[0m\u001b[0mself\u001b[0m\u001b[0;34m,\u001b[0m \u001b[0mname\u001b[0m\u001b[0;34m)\u001b[0m\u001b[0;34m\u001b[0m\u001b[0;34m\u001b[0m\u001b[0m\n\u001b[0m\u001b[1;32m   5068\u001b[0m \u001b[0;34m\u001b[0m\u001b[0m\n\u001b[1;32m   5069\u001b[0m     \u001b[0;32mdef\u001b[0m \u001b[0m__setattr__\u001b[0m\u001b[0;34m(\u001b[0m\u001b[0mself\u001b[0m\u001b[0;34m,\u001b[0m \u001b[0mname\u001b[0m\u001b[0;34m,\u001b[0m \u001b[0mvalue\u001b[0m\u001b[0;34m)\u001b[0m\u001b[0;34m:\u001b[0m\u001b[0;34m\u001b[0m\u001b[0;34m\u001b[0m\u001b[0m\n",
      "\u001b[0;31mAttributeError\u001b[0m: 'DataFrame' object has no attribute 'Languagereveiw'"
     ]
    }
   ],
   "source": [
    "twittertext.Languagereveiw.value_counts()"
   ]
  },
  {
   "cell_type": "code",
   "execution_count": 40,
   "metadata": {},
   "outputs": [
    {
     "data": {
      "text/plain": [
       "(1513, 28)"
      ]
     },
     "execution_count": 40,
     "metadata": {},
     "output_type": "execute_result"
    }
   ],
   "source": [
    "twittertext = twittertext.loc[twittertext['Languagereveiw'] == 'en']\n",
    "twittertext.shape"
   ]
  },
  {
   "cell_type": "code",
   "execution_count": 41,
   "metadata": {},
   "outputs": [
    {
     "data": {
      "text/plain": [
       "(778, 28)"
      ]
     },
     "execution_count": 41,
     "metadata": {},
     "output_type": "execute_result"
    }
   ],
   "source": [
    "twittertext_nodup = twittertext.drop_duplicates(subset='cleanText')\n",
    "twittertext_nodup.shape"
   ]
  },
  {
   "cell_type": "code",
   "execution_count": 69,
   "metadata": {},
   "outputs": [
    {
     "data": {
      "text/html": [
       "<div>\n",
       "<style scoped>\n",
       "    .dataframe tbody tr th:only-of-type {\n",
       "        vertical-align: middle;\n",
       "    }\n",
       "\n",
       "    .dataframe tbody tr th {\n",
       "        vertical-align: top;\n",
       "    }\n",
       "\n",
       "    .dataframe thead th {\n",
       "        text-align: right;\n",
       "    }\n",
       "</style>\n",
       "<table border=\"1\" class=\"dataframe\">\n",
       "  <thead>\n",
       "    <tr style=\"text-align: right;\">\n",
       "      <th></th>\n",
       "      <th>Unnamed: 0</th>\n",
       "      <th>Date</th>\n",
       "      <th>UserID</th>\n",
       "      <th>UserScreenName</th>\n",
       "      <th>Text</th>\n",
       "      <th>UserLocation</th>\n",
       "      <th>retweet_count</th>\n",
       "      <th>UserFollowers</th>\n",
       "      <th>UserFriends</th>\n",
       "      <th>UserLanguage</th>\n",
       "      <th>...</th>\n",
       "      <th>FreqHour</th>\n",
       "      <th>hashtags</th>\n",
       "      <th>twitter_handles</th>\n",
       "      <th>cleanText</th>\n",
       "      <th>tokenText</th>\n",
       "      <th>tokenCount</th>\n",
       "      <th>noStopWords</th>\n",
       "      <th>tokenTextnoStop</th>\n",
       "      <th>Languagereveiw</th>\n",
       "      <th>words_analysis</th>\n",
       "    </tr>\n",
       "  </thead>\n",
       "  <tbody>\n",
       "    <tr>\n",
       "      <th>0</th>\n",
       "      <td>0</td>\n",
       "      <td>2019-01-28 23:05:53</td>\n",
       "      <td>1133610576</td>\n",
       "      <td>MarymoBelfast</td>\n",
       "      <td>rt @leedowningkeat: why im still vegan. share and watch this to counteract the ex vegan trend#whyimstillvegan #f</td>\n",
       "      <td>Ireland</td>\n",
       "      <td>6</td>\n",
       "      <td>12498</td>\n",
       "      <td>12525</td>\n",
       "      <td>en</td>\n",
       "      <td>...</td>\n",
       "      <td>658</td>\n",
       "      <td>[#whyimstillvegan, #f]</td>\n",
       "      <td>[@leedowningkeat]</td>\n",
       "      <td>rt leedowningkeat why im still vegan share and watch this to counteract the ex vegan trendwhyimstillvegan f</td>\n",
       "      <td>[rt, leedowningkeat, why, im, still, vegan, share, and, watch, this, to, counteract, the, ex, vegan, trendwhyimstillvegan, f]</td>\n",
       "      <td>17</td>\n",
       "      <td>rt leedowningkeat im still vegan share watch counteract ex vegan trendwhyimstillvegan f</td>\n",
       "      <td>[rt, leedowningkeat, im, still, vegan, share, watch, counteract, ex, vegan, trendwhyimstillvegan, f]</td>\n",
       "      <td>en</td>\n",
       "      <td>leedowningkeat still vegan share watch counteract ex vegan trendwhyimstillvegan f</td>\n",
       "    </tr>\n",
       "    <tr>\n",
       "      <th>1</th>\n",
       "      <td>1</td>\n",
       "      <td>2019-01-28 23:03:51</td>\n",
       "      <td>1088500218964828160</td>\n",
       "      <td>Lilly84914614</td>\n",
       "      <td>rt @xvx_food: lunch today was the @marksandspencer sweet potato biryani wrap and some of their salted tortilla chips, it was absolutely del</td>\n",
       "      <td>NaN</td>\n",
       "      <td>0</td>\n",
       "      <td>3</td>\n",
       "      <td>17</td>\n",
       "      <td>en</td>\n",
       "      <td>...</td>\n",
       "      <td>658</td>\n",
       "      <td>[]</td>\n",
       "      <td>[@xvx_food, @marksandspencer]</td>\n",
       "      <td>rt xvxfood lunch today was the marksandspencer sweet potato biryani wrap and some of their salted tortilla chips it was absolutely del</td>\n",
       "      <td>[rt, xvxfood, lunch, today, was, the, marksandspencer, sweet, potato, biryani, wrap, and, some, of, their, salted, tortilla, chips, it, was, absolutely, del]</td>\n",
       "      <td>22</td>\n",
       "      <td>rt xvxfood lunch today marksandspencer sweet potato biryani wrap salted tortilla chips absolutely del</td>\n",
       "      <td>[rt, xvxfood, lunch, today, marksandspencer, sweet, potato, biryani, wrap, salted, tortilla, chips, absolutely, del]</td>\n",
       "      <td>en</td>\n",
       "      <td>xvxfood lunch today marksandspencer sweet potato biryani wrap salted tortilla chips absolutely del</td>\n",
       "    </tr>\n",
       "    <tr>\n",
       "      <th>2</th>\n",
       "      <td>2</td>\n",
       "      <td>2019-01-28 23:03:46</td>\n",
       "      <td>1948014944</td>\n",
       "      <td>GeorgiaRaeBrown</td>\n",
       "      <td>what an angel  now this is the kind of #mondaymotivaton  im taking about!  via: @bbcnews</td>\n",
       "      <td>England, United Kingdom</td>\n",
       "      <td>0</td>\n",
       "      <td>1280</td>\n",
       "      <td>1024</td>\n",
       "      <td>en</td>\n",
       "      <td>...</td>\n",
       "      <td>658</td>\n",
       "      <td>[#mondaymotivaton]</td>\n",
       "      <td>[@bbcnews]</td>\n",
       "      <td>what an angel  now this is the kind of mondaymotivaton  im taking about  via bbcnews</td>\n",
       "      <td>[what, an, angel, now, this, is, the, kind, of, mondaymotivaton, im, taking, about, via, bbcnews]</td>\n",
       "      <td>15</td>\n",
       "      <td>angel kind mondaymotivaton im taking via bbcnews</td>\n",
       "      <td>[angel, kind, mondaymotivaton, im, taking, via, bbcnews]</td>\n",
       "      <td>en</td>\n",
       "      <td>angel kind mondaymotivaton taking via bbcnews</td>\n",
       "    </tr>\n",
       "  </tbody>\n",
       "</table>\n",
       "<p>3 rows × 29 columns</p>\n",
       "</div>"
      ],
      "text/plain": [
       "   Unnamed: 0                 Date               UserID   UserScreenName  \\\n",
       "0           0  2019-01-28 23:05:53           1133610576    MarymoBelfast   \n",
       "1           1  2019-01-28 23:03:51  1088500218964828160    Lilly84914614   \n",
       "2           2  2019-01-28 23:03:46           1948014944  GeorgiaRaeBrown   \n",
       "\n",
       "                                                                                                                                          Text  \\\n",
       "0                             rt @leedowningkeat: why im still vegan. share and watch this to counteract the ex vegan trend#whyimstillvegan #f   \n",
       "1  rt @xvx_food: lunch today was the @marksandspencer sweet potato biryani wrap and some of their salted tortilla chips, it was absolutely del   \n",
       "2                                                    what an angel  now this is the kind of #mondaymotivaton  im taking about!  via: @bbcnews    \n",
       "\n",
       "              UserLocation  retweet_count  UserFollowers  UserFriends  \\\n",
       "0                  Ireland              6          12498        12525   \n",
       "1                      NaN              0              3           17   \n",
       "2  England, United Kingdom              0           1280         1024   \n",
       "\n",
       "  UserLanguage  ... FreqHour                hashtags  \\\n",
       "0           en  ...      658  [#whyimstillvegan, #f]   \n",
       "1           en  ...      658                      []   \n",
       "2           en  ...      658      [#mondaymotivaton]   \n",
       "\n",
       "                 twitter_handles  \\\n",
       "0              [@leedowningkeat]   \n",
       "1  [@xvx_food, @marksandspencer]   \n",
       "2                     [@bbcnews]   \n",
       "\n",
       "                                                                                                                                cleanText  \\\n",
       "0                             rt leedowningkeat why im still vegan share and watch this to counteract the ex vegan trendwhyimstillvegan f   \n",
       "1  rt xvxfood lunch today was the marksandspencer sweet potato biryani wrap and some of their salted tortilla chips it was absolutely del   \n",
       "2                                                   what an angel  now this is the kind of mondaymotivaton  im taking about  via bbcnews    \n",
       "\n",
       "                                                                                                                                                       tokenText  \\\n",
       "0                                  [rt, leedowningkeat, why, im, still, vegan, share, and, watch, this, to, counteract, the, ex, vegan, trendwhyimstillvegan, f]   \n",
       "1  [rt, xvxfood, lunch, today, was, the, marksandspencer, sweet, potato, biryani, wrap, and, some, of, their, salted, tortilla, chips, it, was, absolutely, del]   \n",
       "2                                                              [what, an, angel, now, this, is, the, kind, of, mondaymotivaton, im, taking, about, via, bbcnews]   \n",
       "\n",
       "  tokenCount  \\\n",
       "0         17   \n",
       "1         22   \n",
       "2         15   \n",
       "\n",
       "                                                                                             noStopWords  \\\n",
       "0                rt leedowningkeat im still vegan share watch counteract ex vegan trendwhyimstillvegan f   \n",
       "1  rt xvxfood lunch today marksandspencer sweet potato biryani wrap salted tortilla chips absolutely del   \n",
       "2                                                       angel kind mondaymotivaton im taking via bbcnews   \n",
       "\n",
       "                                                                                                        tokenTextnoStop  \\\n",
       "0                  [rt, leedowningkeat, im, still, vegan, share, watch, counteract, ex, vegan, trendwhyimstillvegan, f]   \n",
       "1  [rt, xvxfood, lunch, today, marksandspencer, sweet, potato, biryani, wrap, salted, tortilla, chips, absolutely, del]   \n",
       "2                                                              [angel, kind, mondaymotivaton, im, taking, via, bbcnews]   \n",
       "\n",
       "   Languagereveiw  \\\n",
       "0              en   \n",
       "1              en   \n",
       "2              en   \n",
       "\n",
       "                                                                                       words_analysis  \n",
       "0                   leedowningkeat still vegan share watch counteract ex vegan trendwhyimstillvegan f  \n",
       "1  xvxfood lunch today marksandspencer sweet potato biryani wrap salted tortilla chips absolutely del  \n",
       "2                                                       angel kind mondaymotivaton taking via bbcnews  \n",
       "\n",
       "[3 rows x 29 columns]"
      ]
     },
     "execution_count": 69,
     "metadata": {},
     "output_type": "execute_result"
    }
   ],
   "source": [
    "twittertext.head(3)"
   ]
  },
  {
   "cell_type": "code",
   "execution_count": null,
   "metadata": {},
   "outputs": [],
   "source": []
  },
  {
   "cell_type": "code",
   "execution_count": null,
   "metadata": {},
   "outputs": [],
   "source": []
  },
  {
   "cell_type": "code",
   "execution_count": null,
   "metadata": {},
   "outputs": [],
   "source": []
  },
  {
   "cell_type": "code",
   "execution_count": 78,
   "metadata": {},
   "outputs": [],
   "source": [
    "hashtags = []\n",
    "\n",
    "for sublist in twittertext.hashtags:\n",
    "    for word in sublist:\n",
    "        hashtags.append(word)"
   ]
  },
  {
   "cell_type": "code",
   "execution_count": 81,
   "metadata": {},
   "outputs": [
    {
     "data": {
      "text/plain": [
       "(2462, 2)"
      ]
     },
     "execution_count": 81,
     "metadata": {},
     "output_type": "execute_result"
    }
   ],
   "source": [
    "# Transform the list of hastags into a dataframe\n",
    "hashtags_df = pd.DataFrame(hashtags)\n",
    "# Rename the columns of the dataframe\n",
    "hashtags_df.columns = ['words']\n",
    "# Calculate the frequency of the hashtags\n",
    "hashtags_df['freq'] = hashtags_df.groupby('words')['words'].transform('count')\n",
    "\n",
    "hashtags_df.shape\n"
   ]
  },
  {
   "cell_type": "code",
   "execution_count": 85,
   "metadata": {},
   "outputs": [
    {
     "data": {
      "text/plain": [
       "#veganuary2019     410\n",
       "#vegan             333\n",
       "#competition       185\n",
       "#veganuary         173\n",
       "#govegan            49\n",
       "#plantbased         46\n",
       "#crueltyfree        46\n",
       "#animals            44\n",
       "#veganism           43\n",
       "#species            33\n",
       "#veganfood          28\n",
       "#win                25\n",
       "#giveaway           19\n",
       "#meatfreemonday     19\n",
       "#veguide            17\n",
       "#gove               16\n",
       "#vegetarian         13\n",
       "#veganuary2019?     12\n",
       "#food               11\n",
       "#dairyfree          11\n",
       "Name: words, dtype: int64"
      ]
     },
     "execution_count": 85,
     "metadata": {},
     "output_type": "execute_result"
    }
   ],
   "source": [
    "hashtags_df.words.value_counts()[:20]"
   ]
  },
  {
   "cell_type": "code",
   "execution_count": 86,
   "metadata": {},
   "outputs": [],
   "source": [
    "hash_count = pd.DataFrame(hashtags_df.words.value_counts()[:20])\n",
    "hash_count.reset_index(inplace=True)\n",
    "hash_count.columns = ['hashtag', 'count_hashtag']"
   ]
  },
  {
   "cell_type": "code",
   "execution_count": 94,
   "metadata": {},
   "outputs": [
    {
     "data": {
      "text/html": [
       "<div>\n",
       "<style scoped>\n",
       "    .dataframe tbody tr th:only-of-type {\n",
       "        vertical-align: middle;\n",
       "    }\n",
       "\n",
       "    .dataframe tbody tr th {\n",
       "        vertical-align: top;\n",
       "    }\n",
       "\n",
       "    .dataframe thead th {\n",
       "        text-align: right;\n",
       "    }\n",
       "</style>\n",
       "<table border=\"1\" class=\"dataframe\">\n",
       "  <thead>\n",
       "    <tr style=\"text-align: right;\">\n",
       "      <th></th>\n",
       "      <th>word</th>\n",
       "      <th>count_words</th>\n",
       "      <th>hashtag</th>\n",
       "      <th>count_hashtag</th>\n",
       "    </tr>\n",
       "  </thead>\n",
       "  <tbody>\n",
       "    <tr>\n",
       "      <th>0</th>\n",
       "      <td>rt</td>\n",
       "      <td>1012</td>\n",
       "      <td>#veganuary2019</td>\n",
       "      <td>410</td>\n",
       "    </tr>\n",
       "    <tr>\n",
       "      <th>1</th>\n",
       "      <td>vegan</td>\n",
       "      <td>661</td>\n",
       "      <td>#vegan</td>\n",
       "      <td>333</td>\n",
       "    </tr>\n",
       "    <tr>\n",
       "      <th>2</th>\n",
       "      <td>january</td>\n",
       "      <td>441</td>\n",
       "      <td>#competition</td>\n",
       "      <td>185</td>\n",
       "    </tr>\n",
       "    <tr>\n",
       "      <th>3</th>\n",
       "      <td>veganuary2019</td>\n",
       "      <td>431</td>\n",
       "      <td>#veganuary</td>\n",
       "      <td>173</td>\n",
       "    </tr>\n",
       "    <tr>\n",
       "      <th>4</th>\n",
       "      <td>veganuary</td>\n",
       "      <td>246</td>\n",
       "      <td>#govegan</td>\n",
       "      <td>49</td>\n",
       "    </tr>\n",
       "    <tr>\n",
       "      <th>5</th>\n",
       "      <td>us</td>\n",
       "      <td>211</td>\n",
       "      <td>#plantbased</td>\n",
       "      <td>46</td>\n",
       "    </tr>\n",
       "    <tr>\n",
       "      <th>6</th>\n",
       "      <td>way</td>\n",
       "      <td>195</td>\n",
       "      <td>#crueltyfree</td>\n",
       "      <td>46</td>\n",
       "    </tr>\n",
       "    <tr>\n",
       "      <th>7</th>\n",
       "      <td>better</td>\n",
       "      <td>192</td>\n",
       "      <td>#animals</td>\n",
       "      <td>44</td>\n",
       "    </tr>\n",
       "    <tr>\n",
       "      <th>8</th>\n",
       "      <td>pachamamabars</td>\n",
       "      <td>188</td>\n",
       "      <td>#veganism</td>\n",
       "      <td>43</td>\n",
       "    </tr>\n",
       "    <tr>\n",
       "      <th>9</th>\n",
       "      <td>competition</td>\n",
       "      <td>186</td>\n",
       "      <td>#species</td>\n",
       "      <td>33</td>\n",
       "    </tr>\n",
       "    <tr>\n",
       "      <th>10</th>\n",
       "      <td>weareveganuary</td>\n",
       "      <td>183</td>\n",
       "      <td>#veganfood</td>\n",
       "      <td>28</td>\n",
       "    </tr>\n",
       "    <tr>\n",
       "      <th>11</th>\n",
       "      <td>follow</td>\n",
       "      <td>181</td>\n",
       "      <td>#win</td>\n",
       "      <td>25</td>\n",
       "    </tr>\n",
       "    <tr>\n",
       "      <th>12</th>\n",
       "      <td>b</td>\n",
       "      <td>180</td>\n",
       "      <td>#giveaway</td>\n",
       "      <td>19</td>\n",
       "    </tr>\n",
       "    <tr>\n",
       "      <th>13</th>\n",
       "      <td>retweet</td>\n",
       "      <td>180</td>\n",
       "      <td>#meatfreemonday</td>\n",
       "      <td>19</td>\n",
       "    </tr>\n",
       "    <tr>\n",
       "      <th>14</th>\n",
       "      <td>brighten</td>\n",
       "      <td>180</td>\n",
       "      <td>#veguide</td>\n",
       "      <td>17</td>\n",
       "    </tr>\n",
       "    <tr>\n",
       "      <th>15</th>\n",
       "      <td>27th</td>\n",
       "      <td>180</td>\n",
       "      <td>#gove</td>\n",
       "      <td>16</td>\n",
       "    </tr>\n",
       "    <tr>\n",
       "      <th>16</th>\n",
       "      <td>tweet</td>\n",
       "      <td>180</td>\n",
       "      <td>#vegetarian</td>\n",
       "      <td>13</td>\n",
       "    </tr>\n",
       "    <tr>\n",
       "      <th>17</th>\n",
       "      <td>delicious</td>\n",
       "      <td>172</td>\n",
       "      <td>#veganuary2019?</td>\n",
       "      <td>12</td>\n",
       "    </tr>\n",
       "    <tr>\n",
       "      <th>18</th>\n",
       "      <td>amp</td>\n",
       "      <td>132</td>\n",
       "      <td>#food</td>\n",
       "      <td>11</td>\n",
       "    </tr>\n",
       "    <tr>\n",
       "      <th>19</th>\n",
       "      <td>love</td>\n",
       "      <td>91</td>\n",
       "      <td>#dairyfree</td>\n",
       "      <td>11</td>\n",
       "    </tr>\n",
       "  </tbody>\n",
       "</table>\n",
       "</div>"
      ],
      "text/plain": [
       "              word  count_words          hashtag  count_hashtag\n",
       "0               rt         1012   #veganuary2019            410\n",
       "1            vegan          661           #vegan            333\n",
       "2          january          441     #competition            185\n",
       "3    veganuary2019          431       #veganuary            173\n",
       "4        veganuary          246         #govegan             49\n",
       "5               us          211      #plantbased             46\n",
       "6              way          195     #crueltyfree             46\n",
       "7           better          192         #animals             44\n",
       "8    pachamamabars          188        #veganism             43\n",
       "9      competition          186         #species             33\n",
       "10  weareveganuary          183       #veganfood             28\n",
       "11          follow          181             #win             25\n",
       "12               b          180        #giveaway             19\n",
       "13         retweet          180  #meatfreemonday             19\n",
       "14        brighten          180         #veguide             17\n",
       "15            27th          180            #gove             16\n",
       "16           tweet          180      #vegetarian             13\n",
       "17       delicious          172  #veganuary2019?             12\n",
       "18             amp          132            #food             11\n",
       "19            love           91       #dairyfree             11"
      ]
     },
     "execution_count": 94,
     "metadata": {},
     "output_type": "execute_result"
    }
   ],
   "source": [
    "count = pd.concat([word_count, hash_count], axis=1)\n",
    "count"
   ]
  },
  {
   "cell_type": "markdown",
   "metadata": {},
   "source": [
    "## Words per day"
   ]
  },
  {
   "cell_type": "markdown",
   "metadata": {},
   "source": [
    "## Google API - Sentiment Analysis"
   ]
  },
  {
   "cell_type": "code",
   "execution_count": 42,
   "metadata": {},
   "outputs": [],
   "source": [
    "import os\n",
    "os.environ['GOOGLE_APPLICATION_CREDENTIALS']=\"veganuary-analysis-b3484d8fefa8.json\""
   ]
  },
  {
   "cell_type": "code",
   "execution_count": 43,
   "metadata": {},
   "outputs": [],
   "source": [
    "import argparse\n",
    "\n",
    "from google.cloud import language\n",
    "from google.cloud.language import enums\n",
    "from google.cloud.language import types\n",
    "\n",
    "client = language.LanguageServiceClient()"
   ]
  },
  {
   "cell_type": "code",
   "execution_count": 44,
   "metadata": {},
   "outputs": [
    {
     "ename": "InvalidArgument",
     "evalue": "400 The language tr is not supported for document_sentiment analysis.",
     "output_type": "error",
     "traceback": [
      "\u001b[0;31m---------------------------------------------------------------------------\u001b[0m",
      "\u001b[0;31m_Rendezvous\u001b[0m                               Traceback (most recent call last)",
      "\u001b[0;32m~/.pyenv/versions/3.7.2/lib/python3.7/site-packages/google/api_core/grpc_helpers.py\u001b[0m in \u001b[0;36merror_remapped_callable\u001b[0;34m(*args, **kwargs)\u001b[0m\n\u001b[1;32m     56\u001b[0m         \u001b[0;32mtry\u001b[0m\u001b[0;34m:\u001b[0m\u001b[0;34m\u001b[0m\u001b[0;34m\u001b[0m\u001b[0m\n\u001b[0;32m---> 57\u001b[0;31m             \u001b[0;32mreturn\u001b[0m \u001b[0mcallable_\u001b[0m\u001b[0;34m(\u001b[0m\u001b[0;34m*\u001b[0m\u001b[0margs\u001b[0m\u001b[0;34m,\u001b[0m \u001b[0;34m**\u001b[0m\u001b[0mkwargs\u001b[0m\u001b[0;34m)\u001b[0m\u001b[0;34m\u001b[0m\u001b[0;34m\u001b[0m\u001b[0m\n\u001b[0m\u001b[1;32m     58\u001b[0m         \u001b[0;32mexcept\u001b[0m \u001b[0mgrpc\u001b[0m\u001b[0;34m.\u001b[0m\u001b[0mRpcError\u001b[0m \u001b[0;32mas\u001b[0m \u001b[0mexc\u001b[0m\u001b[0;34m:\u001b[0m\u001b[0;34m\u001b[0m\u001b[0;34m\u001b[0m\u001b[0m\n",
      "\u001b[0;32m~/.pyenv/versions/3.7.2/lib/python3.7/site-packages/grpc/_channel.py\u001b[0m in \u001b[0;36m__call__\u001b[0;34m(self, request, timeout, metadata, credentials, wait_for_ready)\u001b[0m\n\u001b[1;32m    549\u001b[0m                                       wait_for_ready)\n\u001b[0;32m--> 550\u001b[0;31m         \u001b[0;32mreturn\u001b[0m \u001b[0m_end_unary_response_blocking\u001b[0m\u001b[0;34m(\u001b[0m\u001b[0mstate\u001b[0m\u001b[0;34m,\u001b[0m \u001b[0mcall\u001b[0m\u001b[0;34m,\u001b[0m \u001b[0;32mFalse\u001b[0m\u001b[0;34m,\u001b[0m \u001b[0;32mNone\u001b[0m\u001b[0;34m)\u001b[0m\u001b[0;34m\u001b[0m\u001b[0;34m\u001b[0m\u001b[0m\n\u001b[0m\u001b[1;32m    551\u001b[0m \u001b[0;34m\u001b[0m\u001b[0m\n",
      "\u001b[0;32m~/.pyenv/versions/3.7.2/lib/python3.7/site-packages/grpc/_channel.py\u001b[0m in \u001b[0;36m_end_unary_response_blocking\u001b[0;34m(state, call, with_call, deadline)\u001b[0m\n\u001b[1;32m    466\u001b[0m     \u001b[0;32melse\u001b[0m\u001b[0;34m:\u001b[0m\u001b[0;34m\u001b[0m\u001b[0;34m\u001b[0m\u001b[0m\n\u001b[0;32m--> 467\u001b[0;31m         \u001b[0;32mraise\u001b[0m \u001b[0m_Rendezvous\u001b[0m\u001b[0;34m(\u001b[0m\u001b[0mstate\u001b[0m\u001b[0;34m,\u001b[0m \u001b[0;32mNone\u001b[0m\u001b[0;34m,\u001b[0m \u001b[0;32mNone\u001b[0m\u001b[0;34m,\u001b[0m \u001b[0mdeadline\u001b[0m\u001b[0;34m)\u001b[0m\u001b[0;34m\u001b[0m\u001b[0;34m\u001b[0m\u001b[0m\n\u001b[0m\u001b[1;32m    468\u001b[0m \u001b[0;34m\u001b[0m\u001b[0m\n",
      "\u001b[0;31m_Rendezvous\u001b[0m: <_Rendezvous of RPC that terminated with:\n\tstatus = StatusCode.INVALID_ARGUMENT\n\tdetails = \"The language tr is not supported for document_sentiment analysis.\"\n\tdebug_error_string = \"{\"created\":\"@1551218900.010181000\",\"description\":\"Error received from peer\",\"file\":\"src/core/lib/surface/call.cc\",\"file_line\":1036,\"grpc_message\":\"The language tr is not supported for document_sentiment analysis.\",\"grpc_status\":3}\"\n>",
      "\nThe above exception was the direct cause of the following exception:\n",
      "\u001b[0;31mInvalidArgument\u001b[0m                           Traceback (most recent call last)",
      "\u001b[0;32m<ipython-input-44-43c0538f245c>\u001b[0m in \u001b[0;36m<module>\u001b[0;34m\u001b[0m\n\u001b[1;32m      7\u001b[0m     document = types.Document(content=twittertext_nodup['cleanText'][i],\n\u001b[1;32m      8\u001b[0m             type=enums.Document.Type.PLAIN_TEXT)\n\u001b[0;32m----> 9\u001b[0;31m     \u001b[0msentiment\u001b[0m \u001b[0;34m=\u001b[0m \u001b[0mclient\u001b[0m\u001b[0;34m.\u001b[0m\u001b[0manalyze_sentiment\u001b[0m\u001b[0;34m(\u001b[0m\u001b[0mdocument\u001b[0m\u001b[0;34m)\u001b[0m\u001b[0;34m.\u001b[0m\u001b[0mdocument_sentiment\u001b[0m\u001b[0;34m\u001b[0m\u001b[0;34m\u001b[0m\u001b[0m\n\u001b[0m\u001b[1;32m     10\u001b[0m \u001b[0;34m\u001b[0m\u001b[0m\n\u001b[1;32m     11\u001b[0m     \u001b[0msent_dict\u001b[0m\u001b[0;34m[\u001b[0m\u001b[0;34m'Sentiment'\u001b[0m\u001b[0;34m]\u001b[0m \u001b[0;34m=\u001b[0m \u001b[0msentiment\u001b[0m\u001b[0;34m.\u001b[0m\u001b[0mscore\u001b[0m\u001b[0;34m\u001b[0m\u001b[0;34m\u001b[0m\u001b[0m\n",
      "\u001b[0;32m~/.pyenv/versions/3.7.2/lib/python3.7/site-packages/google/cloud/language_v1/gapic/language_service_client.py\u001b[0m in \u001b[0;36manalyze_sentiment\u001b[0;34m(self, document, encoding_type, retry, timeout, metadata)\u001b[0m\n\u001b[1;32m    228\u001b[0m         )\n\u001b[1;32m    229\u001b[0m         return self._inner_api_calls[\"analyze_sentiment\"](\n\u001b[0;32m--> 230\u001b[0;31m             \u001b[0mrequest\u001b[0m\u001b[0;34m,\u001b[0m \u001b[0mretry\u001b[0m\u001b[0;34m=\u001b[0m\u001b[0mretry\u001b[0m\u001b[0;34m,\u001b[0m \u001b[0mtimeout\u001b[0m\u001b[0;34m=\u001b[0m\u001b[0mtimeout\u001b[0m\u001b[0;34m,\u001b[0m \u001b[0mmetadata\u001b[0m\u001b[0;34m=\u001b[0m\u001b[0mmetadata\u001b[0m\u001b[0;34m\u001b[0m\u001b[0;34m\u001b[0m\u001b[0m\n\u001b[0m\u001b[1;32m    231\u001b[0m         )\n\u001b[1;32m    232\u001b[0m \u001b[0;34m\u001b[0m\u001b[0m\n",
      "\u001b[0;32m~/.pyenv/versions/3.7.2/lib/python3.7/site-packages/google/api_core/gapic_v1/method.py\u001b[0m in \u001b[0;36m__call__\u001b[0;34m(self, *args, **kwargs)\u001b[0m\n\u001b[1;32m    141\u001b[0m             \u001b[0mkwargs\u001b[0m\u001b[0;34m[\u001b[0m\u001b[0;34m\"metadata\"\u001b[0m\u001b[0;34m]\u001b[0m \u001b[0;34m=\u001b[0m \u001b[0mmetadata\u001b[0m\u001b[0;34m\u001b[0m\u001b[0;34m\u001b[0m\u001b[0m\n\u001b[1;32m    142\u001b[0m \u001b[0;34m\u001b[0m\u001b[0m\n\u001b[0;32m--> 143\u001b[0;31m         \u001b[0;32mreturn\u001b[0m \u001b[0mwrapped_func\u001b[0m\u001b[0;34m(\u001b[0m\u001b[0;34m*\u001b[0m\u001b[0margs\u001b[0m\u001b[0;34m,\u001b[0m \u001b[0;34m**\u001b[0m\u001b[0mkwargs\u001b[0m\u001b[0;34m)\u001b[0m\u001b[0;34m\u001b[0m\u001b[0;34m\u001b[0m\u001b[0m\n\u001b[0m\u001b[1;32m    144\u001b[0m \u001b[0;34m\u001b[0m\u001b[0m\n\u001b[1;32m    145\u001b[0m \u001b[0;34m\u001b[0m\u001b[0m\n",
      "\u001b[0;32m~/.pyenv/versions/3.7.2/lib/python3.7/site-packages/google/api_core/retry.py\u001b[0m in \u001b[0;36mretry_wrapped_func\u001b[0;34m(*args, **kwargs)\u001b[0m\n\u001b[1;32m    268\u001b[0m                 \u001b[0msleep_generator\u001b[0m\u001b[0;34m,\u001b[0m\u001b[0;34m\u001b[0m\u001b[0;34m\u001b[0m\u001b[0m\n\u001b[1;32m    269\u001b[0m                 \u001b[0mself\u001b[0m\u001b[0;34m.\u001b[0m\u001b[0m_deadline\u001b[0m\u001b[0;34m,\u001b[0m\u001b[0;34m\u001b[0m\u001b[0;34m\u001b[0m\u001b[0m\n\u001b[0;32m--> 270\u001b[0;31m                 \u001b[0mon_error\u001b[0m\u001b[0;34m=\u001b[0m\u001b[0mon_error\u001b[0m\u001b[0;34m,\u001b[0m\u001b[0;34m\u001b[0m\u001b[0;34m\u001b[0m\u001b[0m\n\u001b[0m\u001b[1;32m    271\u001b[0m             )\n\u001b[1;32m    272\u001b[0m \u001b[0;34m\u001b[0m\u001b[0m\n",
      "\u001b[0;32m~/.pyenv/versions/3.7.2/lib/python3.7/site-packages/google/api_core/retry.py\u001b[0m in \u001b[0;36mretry_target\u001b[0;34m(target, predicate, sleep_generator, deadline, on_error)\u001b[0m\n\u001b[1;32m    177\u001b[0m     \u001b[0;32mfor\u001b[0m \u001b[0msleep\u001b[0m \u001b[0;32min\u001b[0m \u001b[0msleep_generator\u001b[0m\u001b[0;34m:\u001b[0m\u001b[0;34m\u001b[0m\u001b[0;34m\u001b[0m\u001b[0m\n\u001b[1;32m    178\u001b[0m         \u001b[0;32mtry\u001b[0m\u001b[0;34m:\u001b[0m\u001b[0;34m\u001b[0m\u001b[0;34m\u001b[0m\u001b[0m\n\u001b[0;32m--> 179\u001b[0;31m             \u001b[0;32mreturn\u001b[0m \u001b[0mtarget\u001b[0m\u001b[0;34m(\u001b[0m\u001b[0;34m)\u001b[0m\u001b[0;34m\u001b[0m\u001b[0;34m\u001b[0m\u001b[0m\n\u001b[0m\u001b[1;32m    180\u001b[0m \u001b[0;34m\u001b[0m\u001b[0m\n\u001b[1;32m    181\u001b[0m         \u001b[0;31m# pylint: disable=broad-except\u001b[0m\u001b[0;34m\u001b[0m\u001b[0;34m\u001b[0m\u001b[0;34m\u001b[0m\u001b[0m\n",
      "\u001b[0;32m~/.pyenv/versions/3.7.2/lib/python3.7/site-packages/google/api_core/timeout.py\u001b[0m in \u001b[0;36mfunc_with_timeout\u001b[0;34m(*args, **kwargs)\u001b[0m\n\u001b[1;32m    212\u001b[0m             \u001b[0;34m\"\"\"Wrapped function that adds timeout.\"\"\"\u001b[0m\u001b[0;34m\u001b[0m\u001b[0;34m\u001b[0m\u001b[0m\n\u001b[1;32m    213\u001b[0m             \u001b[0mkwargs\u001b[0m\u001b[0;34m[\u001b[0m\u001b[0;34m\"timeout\"\u001b[0m\u001b[0;34m]\u001b[0m \u001b[0;34m=\u001b[0m \u001b[0mnext\u001b[0m\u001b[0;34m(\u001b[0m\u001b[0mtimeouts\u001b[0m\u001b[0;34m)\u001b[0m\u001b[0;34m\u001b[0m\u001b[0;34m\u001b[0m\u001b[0m\n\u001b[0;32m--> 214\u001b[0;31m             \u001b[0;32mreturn\u001b[0m \u001b[0mfunc\u001b[0m\u001b[0;34m(\u001b[0m\u001b[0;34m*\u001b[0m\u001b[0margs\u001b[0m\u001b[0;34m,\u001b[0m \u001b[0;34m**\u001b[0m\u001b[0mkwargs\u001b[0m\u001b[0;34m)\u001b[0m\u001b[0;34m\u001b[0m\u001b[0;34m\u001b[0m\u001b[0m\n\u001b[0m\u001b[1;32m    215\u001b[0m \u001b[0;34m\u001b[0m\u001b[0m\n\u001b[1;32m    216\u001b[0m         \u001b[0;32mreturn\u001b[0m \u001b[0mfunc_with_timeout\u001b[0m\u001b[0;34m\u001b[0m\u001b[0;34m\u001b[0m\u001b[0m\n",
      "\u001b[0;32m~/.pyenv/versions/3.7.2/lib/python3.7/site-packages/google/api_core/grpc_helpers.py\u001b[0m in \u001b[0;36merror_remapped_callable\u001b[0;34m(*args, **kwargs)\u001b[0m\n\u001b[1;32m     57\u001b[0m             \u001b[0;32mreturn\u001b[0m \u001b[0mcallable_\u001b[0m\u001b[0;34m(\u001b[0m\u001b[0;34m*\u001b[0m\u001b[0margs\u001b[0m\u001b[0;34m,\u001b[0m \u001b[0;34m**\u001b[0m\u001b[0mkwargs\u001b[0m\u001b[0;34m)\u001b[0m\u001b[0;34m\u001b[0m\u001b[0;34m\u001b[0m\u001b[0m\n\u001b[1;32m     58\u001b[0m         \u001b[0;32mexcept\u001b[0m \u001b[0mgrpc\u001b[0m\u001b[0;34m.\u001b[0m\u001b[0mRpcError\u001b[0m \u001b[0;32mas\u001b[0m \u001b[0mexc\u001b[0m\u001b[0;34m:\u001b[0m\u001b[0;34m\u001b[0m\u001b[0;34m\u001b[0m\u001b[0m\n\u001b[0;32m---> 59\u001b[0;31m             \u001b[0msix\u001b[0m\u001b[0;34m.\u001b[0m\u001b[0mraise_from\u001b[0m\u001b[0;34m(\u001b[0m\u001b[0mexceptions\u001b[0m\u001b[0;34m.\u001b[0m\u001b[0mfrom_grpc_error\u001b[0m\u001b[0;34m(\u001b[0m\u001b[0mexc\u001b[0m\u001b[0;34m)\u001b[0m\u001b[0;34m,\u001b[0m \u001b[0mexc\u001b[0m\u001b[0;34m)\u001b[0m\u001b[0;34m\u001b[0m\u001b[0;34m\u001b[0m\u001b[0m\n\u001b[0m\u001b[1;32m     60\u001b[0m \u001b[0;34m\u001b[0m\u001b[0m\n\u001b[1;32m     61\u001b[0m     \u001b[0;32mreturn\u001b[0m \u001b[0merror_remapped_callable\u001b[0m\u001b[0;34m\u001b[0m\u001b[0;34m\u001b[0m\u001b[0m\n",
      "\u001b[0;32m~/.pyenv/versions/3.7.2/lib/python3.7/site-packages/six.py\u001b[0m in \u001b[0;36mraise_from\u001b[0;34m(value, from_value)\u001b[0m\n",
      "\u001b[0;31mInvalidArgument\u001b[0m: 400 The language tr is not supported for document_sentiment analysis."
     ]
    }
   ],
   "source": [
    "sent_list = []\n",
    "\n",
    "for i, row in twittertext_nodup.iterrows():\n",
    "    \n",
    "    sent_dict={}\n",
    "    \n",
    "    document = types.Document(content=twittertext_nodup['cleanText'][i],\n",
    "            type=enums.Document.Type.PLAIN_TEXT)\n",
    "    sentiment = client.analyze_sentiment(document).document_sentiment\n",
    "    \n",
    "    sent_dict['Sentiment'] = sentiment.score\n",
    "    sent_dict['Magnitude'] = sentiment.magnitude\n",
    "    sent_dict['Date'] = twittertext_nodup['Date'][i]\n",
    "    #sent_dict['UserId'] = twittertext_nodup['UserID'][i]\n",
    "    #sent_dict['UserScreenName'] = twittertext_nodup['UserScreenName'][i]\n",
    "    #sent_dict['cleanText'] = twittertext_nodup['cleanText'][i]\n",
    "    \n",
    "    sent_list.append(sent_dict)\n",
    "    \n",
    "    # print(sent_dict"
   ]
  },
  {
   "cell_type": "code",
   "execution_count": null,
   "metadata": {},
   "outputs": [],
   "source": []
  },
  {
   "cell_type": "code",
   "execution_count": null,
   "metadata": {},
   "outputs": [],
   "source": []
  },
  {
   "cell_type": "code",
   "execution_count": null,
   "metadata": {},
   "outputs": [],
   "source": []
  }
 ],
 "metadata": {
  "kernelspec": {
   "display_name": "Python 3",
   "language": "python",
   "name": "python3"
  },
  "language_info": {
   "codemirror_mode": {
    "name": "ipython",
    "version": 3
   },
   "file_extension": ".py",
   "mimetype": "text/x-python",
   "name": "python",
   "nbconvert_exporter": "python",
   "pygments_lexer": "ipython3",
   "version": "3.7.2"
  }
 },
 "nbformat": 4,
 "nbformat_minor": 2
}
